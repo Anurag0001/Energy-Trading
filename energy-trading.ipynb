{
 "cells": [
  {
   "cell_type": "markdown",
   "id": "25e017b9",
   "metadata": {
    "papermill": {
     "duration": 0.021975,
     "end_time": "2023-10-28T16:25:24.258568",
     "exception": false,
     "start_time": "2023-10-28T16:25:24.236593",
     "status": "completed"
    },
    "tags": []
   },
   "source": [
    "**Day ahead Energy trading for Great Britain market**\n",
    "\n",
    "Using this [UK Energy Trading Dataset](https://www.kaggle.com/datasets/kapilverma/uk-energy-trading) through a systematic approach, we will seek to develop a simple trading algorithm to maximize profits from non-physical financial trades between two auctions of the day-ahead market in Great Britain's electricity market.\n",
    "\n",
    "Our approach will involve:\n",
    "* data preprocessing\n",
    "* developing a price forecasting model\n",
    "* determining the optimal trading strategy\n",
    "* implementing the trading algorithm in Python\n",
    "* finally testing and optimizing the algorithm. \n",
    "\n",
    "We will go through these steps one by one.\n",
    "\n",
    "# 1. Gather and preprocess the data\n",
    "Let‘s first preprocess all of the input data by cleaning and formatting it in a way that can be used by the algorithm. Starting with Auction Data which has actual prices and traded volumes data of both auctions as well as the price forecast for the first auction.\n",
    "\n",
    "First let's see the files we have in the dataset."
   ]
  },
  {
   "cell_type": "code",
   "execution_count": 1,
   "id": "661f8817",
   "metadata": {
    "_cell_guid": "b1076dfc-b9ad-4769-8c92-a6c4dae69d19",
    "_kg_hide-input": true,
    "_kg_hide-output": true,
    "_uuid": "8f2839f25d086af736a60e9eeb907d3b93b6e0e5",
    "execution": {
     "iopub.execute_input": "2023-10-28T16:25:24.304616Z",
     "iopub.status.busy": "2023-10-28T16:25:24.304232Z",
     "iopub.status.idle": "2023-10-28T16:25:26.184405Z",
     "shell.execute_reply": "2023-10-28T16:25:26.182957Z"
    },
    "papermill": {
     "duration": 1.907227,
     "end_time": "2023-10-28T16:25:26.187112",
     "exception": false,
     "start_time": "2023-10-28T16:25:24.279885",
     "status": "completed"
    },
    "tags": []
   },
   "outputs": [
    {
     "name": "stderr",
     "output_type": "stream",
     "text": [
      "/opt/conda/lib/python3.10/site-packages/scipy/__init__.py:146: UserWarning: A NumPy version >=1.16.5 and <1.23.0 is required for this version of SciPy (detected version 1.23.5\n",
      "  warnings.warn(f\"A NumPy version >={np_minversion} and <{np_maxversion}\"\n"
     ]
    },
    {
     "name": "stdout",
     "output_type": "stream",
     "text": [
      "/kaggle/input/uk-energy-trading/auction_data.csv\n",
      "/kaggle/input/uk-energy-trading/forecast_inputs.csv\n",
      "/kaggle/input/uk-energy-trading/description_input_variables.txt\n",
      "/kaggle/input/uk-energy-trading/system_prices.csv\n"
     ]
    }
   ],
   "source": [
    "import numpy as np # linear algebra\n",
    "import pandas as pd # data processing, CSV file I/O (e.g. pd.read_csv)\n",
    "import matplotlib.pyplot as plt\n",
    "import seaborn as sns\n",
    "from datetime import datetime\n",
    "from sklearn import metrics\n",
    "import warnings\n",
    "warnings.filterwarnings(\"ignore\")\n",
    "\n",
    "# Input data files are available in the read-only \"../input/\" directory\n",
    "\n",
    "import os\n",
    "for dirname, _, filenames in os.walk('/kaggle/input'):\n",
    "    for filename in filenames:\n",
    "        print(os.path.join(dirname, filename))"
   ]
  },
  {
   "cell_type": "code",
   "execution_count": 2,
   "id": "1e818ad2",
   "metadata": {
    "_kg_hide-input": true,
    "execution": {
     "iopub.execute_input": "2023-10-28T16:25:26.231657Z",
     "iopub.status.busy": "2023-10-28T16:25:26.231225Z",
     "iopub.status.idle": "2023-10-28T16:25:26.328822Z",
     "shell.execute_reply": "2023-10-28T16:25:26.327914Z"
    },
    "papermill": {
     "duration": 0.122886,
     "end_time": "2023-10-28T16:25:26.331395",
     "exception": false,
     "start_time": "2023-10-28T16:25:26.208509",
     "status": "completed"
    },
    "tags": []
   },
   "outputs": [
    {
     "data": {
      "text/html": [
       "<div>\n",
       "<style scoped>\n",
       "    .dataframe tbody tr th:only-of-type {\n",
       "        vertical-align: middle;\n",
       "    }\n",
       "\n",
       "    .dataframe tbody tr th {\n",
       "        vertical-align: top;\n",
       "    }\n",
       "\n",
       "    .dataframe thead th {\n",
       "        text-align: right;\n",
       "    }\n",
       "</style>\n",
       "<table border=\"1\" class=\"dataframe\">\n",
       "  <thead>\n",
       "    <tr style=\"text-align: right;\">\n",
       "      <th></th>\n",
       "      <th>Date (WET)</th>\n",
       "      <th>price_first_auction</th>\n",
       "      <th>price_second_auction</th>\n",
       "      <th>traded_volume_first_auction</th>\n",
       "      <th>traded_volume_second_auction</th>\n",
       "      <th>price_forecast_first_auction</th>\n",
       "    </tr>\n",
       "  </thead>\n",
       "  <tbody>\n",
       "    <tr>\n",
       "      <th>0</th>\n",
       "      <td>NaN</td>\n",
       "      <td>GBP/MWh</td>\n",
       "      <td>GBP/MWh</td>\n",
       "      <td>MW</td>\n",
       "      <td>MW</td>\n",
       "      <td>GBP/MWh</td>\n",
       "    </tr>\n",
       "    <tr>\n",
       "      <th>1</th>\n",
       "      <td>[01/01/2021 00:00]</td>\n",
       "      <td>68</td>\n",
       "      <td>65.73</td>\n",
       "      <td>2923.7</td>\n",
       "      <td>5102.4</td>\n",
       "      <td>54.19</td>\n",
       "    </tr>\n",
       "    <tr>\n",
       "      <th>2</th>\n",
       "      <td>[01/01/2021 01:00]</td>\n",
       "      <td>62.7</td>\n",
       "      <td>64.96</td>\n",
       "      <td>2825</td>\n",
       "      <td>4771.5</td>\n",
       "      <td>53.42</td>\n",
       "    </tr>\n",
       "    <tr>\n",
       "      <th>3</th>\n",
       "      <td>[01/01/2021 02:00]</td>\n",
       "      <td>56</td>\n",
       "      <td>60.47</td>\n",
       "      <td>2611.4</td>\n",
       "      <td>4176.2</td>\n",
       "      <td>50.13</td>\n",
       "    </tr>\n",
       "    <tr>\n",
       "      <th>4</th>\n",
       "      <td>[01/01/2021 03:00]</td>\n",
       "      <td>50.1</td>\n",
       "      <td>52.5</td>\n",
       "      <td>2669.3</td>\n",
       "      <td>3755.9</td>\n",
       "      <td>50.28</td>\n",
       "    </tr>\n",
       "  </tbody>\n",
       "</table>\n",
       "</div>"
      ],
      "text/plain": [
       "           Date (WET) price_first_auction price_second_auction  \\\n",
       "0                 NaN             GBP/MWh              GBP/MWh   \n",
       "1  [01/01/2021 00:00]                  68                65.73   \n",
       "2  [01/01/2021 01:00]                62.7                64.96   \n",
       "3  [01/01/2021 02:00]                  56                60.47   \n",
       "4  [01/01/2021 03:00]                50.1                 52.5   \n",
       "\n",
       "  traded_volume_first_auction traded_volume_second_auction  \\\n",
       "0                          MW                           MW   \n",
       "1                      2923.7                       5102.4   \n",
       "2                        2825                       4771.5   \n",
       "3                      2611.4                       4176.2   \n",
       "4                      2669.3                       3755.9   \n",
       "\n",
       "  price_forecast_first_auction  \n",
       "0                      GBP/MWh  \n",
       "1                        54.19  \n",
       "2                        53.42  \n",
       "3                        50.13  \n",
       "4                        50.28  "
      ]
     },
     "execution_count": 2,
     "metadata": {},
     "output_type": "execute_result"
    }
   ],
   "source": [
    "auc_df = pd.read_csv('/kaggle/input/uk-energy-trading/auction_data.csv',delimiter=';')\n",
    "auc_df.head()"
   ]
  },
  {
   "cell_type": "markdown",
   "id": "7d7a252b",
   "metadata": {
    "papermill": {
     "duration": 0.021423,
     "end_time": "2023-10-28T16:25:26.374106",
     "exception": false,
     "start_time": "2023-10-28T16:25:26.352683",
     "status": "completed"
    },
    "tags": []
   },
   "source": [
    "We can skip the top row which gives us the units for each feature."
   ]
  },
  {
   "cell_type": "code",
   "execution_count": 3,
   "id": "b208e81a",
   "metadata": {
    "execution": {
     "iopub.execute_input": "2023-10-28T16:25:26.419262Z",
     "iopub.status.busy": "2023-10-28T16:25:26.418444Z",
     "iopub.status.idle": "2023-10-28T16:25:26.475723Z",
     "shell.execute_reply": "2023-10-28T16:25:26.474627Z"
    },
    "papermill": {
     "duration": 0.083065,
     "end_time": "2023-10-28T16:25:26.478515",
     "exception": false,
     "start_time": "2023-10-28T16:25:26.395450",
     "status": "completed"
    },
    "tags": []
   },
   "outputs": [
    {
     "name": "stdout",
     "output_type": "stream",
     "text": [
      "<class 'pandas.core.frame.DataFrame'>\n",
      "RangeIndex: 14879 entries, 1 to 14879\n",
      "Data columns (total 6 columns):\n",
      " #   Column                        Non-Null Count  Dtype \n",
      "---  ------                        --------------  ----- \n",
      " 0   Date (WET)                    14879 non-null  object\n",
      " 1   price_first_auction           14879 non-null  object\n",
      " 2   price_second_auction          14879 non-null  object\n",
      " 3   traded_volume_first_auction   14879 non-null  object\n",
      " 4   traded_volume_second_auction  14877 non-null  object\n",
      " 5   price_forecast_first_auction  14831 non-null  object\n",
      "dtypes: object(6)\n",
      "memory usage: 697.6+ KB\n"
     ]
    }
   ],
   "source": [
    "auc_df = auc_df[1:]\n",
    "auc_df.info()"
   ]
  },
  {
   "cell_type": "markdown",
   "id": "0938ba63",
   "metadata": {
    "papermill": {
     "duration": 0.02128,
     "end_time": "2023-10-28T16:25:26.521266",
     "exception": false,
     "start_time": "2023-10-28T16:25:26.499986",
     "status": "completed"
    },
    "tags": []
   },
   "source": [
    "All columns are having Data types as object they need to be changed to numeric Data types.  We will start with parsing dates and then convert the rest to their numeric types."
   ]
  },
  {
   "cell_type": "code",
   "execution_count": 4,
   "id": "9fbb6686",
   "metadata": {
    "execution": {
     "iopub.execute_input": "2023-10-28T16:25:26.566660Z",
     "iopub.status.busy": "2023-10-28T16:25:26.565562Z",
     "iopub.status.idle": "2023-10-28T16:25:26.885495Z",
     "shell.execute_reply": "2023-10-28T16:25:26.884579Z"
    },
    "papermill": {
     "duration": 0.345335,
     "end_time": "2023-10-28T16:25:26.888035",
     "exception": false,
     "start_time": "2023-10-28T16:25:26.542700",
     "status": "completed"
    },
    "tags": []
   },
   "outputs": [
    {
     "data": {
      "text/html": [
       "<div>\n",
       "<style scoped>\n",
       "    .dataframe tbody tr th:only-of-type {\n",
       "        vertical-align: middle;\n",
       "    }\n",
       "\n",
       "    .dataframe tbody tr th {\n",
       "        vertical-align: top;\n",
       "    }\n",
       "\n",
       "    .dataframe thead th {\n",
       "        text-align: right;\n",
       "    }\n",
       "</style>\n",
       "<table border=\"1\" class=\"dataframe\">\n",
       "  <thead>\n",
       "    <tr style=\"text-align: right;\">\n",
       "      <th></th>\n",
       "      <th>Date (WET)</th>\n",
       "      <th>price_first_auction</th>\n",
       "      <th>price_second_auction</th>\n",
       "      <th>traded_volume_first_auction</th>\n",
       "      <th>traded_volume_second_auction</th>\n",
       "      <th>price_forecast_first_auction</th>\n",
       "    </tr>\n",
       "  </thead>\n",
       "  <tbody>\n",
       "    <tr>\n",
       "      <th>1</th>\n",
       "      <td>2021-01-01 00:00:00</td>\n",
       "      <td>68.0</td>\n",
       "      <td>65.73</td>\n",
       "      <td>2923.7</td>\n",
       "      <td>5102.4</td>\n",
       "      <td>54.19</td>\n",
       "    </tr>\n",
       "    <tr>\n",
       "      <th>2</th>\n",
       "      <td>2021-01-01 01:00:00</td>\n",
       "      <td>62.7</td>\n",
       "      <td>64.96</td>\n",
       "      <td>2825.0</td>\n",
       "      <td>4771.5</td>\n",
       "      <td>53.42</td>\n",
       "    </tr>\n",
       "    <tr>\n",
       "      <th>3</th>\n",
       "      <td>2021-01-01 02:00:00</td>\n",
       "      <td>56.0</td>\n",
       "      <td>60.47</td>\n",
       "      <td>2611.4</td>\n",
       "      <td>4176.2</td>\n",
       "      <td>50.13</td>\n",
       "    </tr>\n",
       "    <tr>\n",
       "      <th>4</th>\n",
       "      <td>2021-01-01 03:00:00</td>\n",
       "      <td>50.1</td>\n",
       "      <td>52.50</td>\n",
       "      <td>2669.3</td>\n",
       "      <td>3755.9</td>\n",
       "      <td>50.28</td>\n",
       "    </tr>\n",
       "    <tr>\n",
       "      <th>5</th>\n",
       "      <td>2021-01-01 04:00:00</td>\n",
       "      <td>50.0</td>\n",
       "      <td>48.98</td>\n",
       "      <td>2741.4</td>\n",
       "      <td>4047.5</td>\n",
       "      <td>47.19</td>\n",
       "    </tr>\n",
       "  </tbody>\n",
       "</table>\n",
       "</div>"
      ],
      "text/plain": [
       "           Date (WET)  price_first_auction  price_second_auction  \\\n",
       "1 2021-01-01 00:00:00                 68.0                 65.73   \n",
       "2 2021-01-01 01:00:00                 62.7                 64.96   \n",
       "3 2021-01-01 02:00:00                 56.0                 60.47   \n",
       "4 2021-01-01 03:00:00                 50.1                 52.50   \n",
       "5 2021-01-01 04:00:00                 50.0                 48.98   \n",
       "\n",
       "   traded_volume_first_auction  traded_volume_second_auction  \\\n",
       "1                       2923.7                        5102.4   \n",
       "2                       2825.0                        4771.5   \n",
       "3                       2611.4                        4176.2   \n",
       "4                       2669.3                        3755.9   \n",
       "5                       2741.4                        4047.5   \n",
       "\n",
       "   price_forecast_first_auction  \n",
       "1                         54.19  \n",
       "2                         53.42  \n",
       "3                         50.13  \n",
       "4                         50.28  \n",
       "5                         47.19  "
      ]
     },
     "execution_count": 4,
     "metadata": {},
     "output_type": "execute_result"
    }
   ],
   "source": [
    "auc_df['Date (WET)'] = auc_df['Date (WET)'].apply(lambda x: (datetime.strptime(x, '[%d/%m/%Y %H:%M]')))\n",
    "auc_df[auc_df.columns[1:]] = auc_df[auc_df.columns[1:]].apply(lambda x: pd.to_numeric(x))\n",
    "auc_df.head()"
   ]
  },
  {
   "cell_type": "markdown",
   "id": "a4c6346b",
   "metadata": {
    "papermill": {
     "duration": 0.021226,
     "end_time": "2023-10-28T16:25:26.930788",
     "exception": false,
     "start_time": "2023-10-28T16:25:26.909562",
     "status": "completed"
    },
    "tags": []
   },
   "source": [
    "All columns are now of numeric type. Now, we will be dropping entirely empty rows, if present."
   ]
  },
  {
   "cell_type": "code",
   "execution_count": 5,
   "id": "bf8dda80",
   "metadata": {
    "execution": {
     "iopub.execute_input": "2023-10-28T16:25:26.976417Z",
     "iopub.status.busy": "2023-10-28T16:25:26.975564Z",
     "iopub.status.idle": "2023-10-28T16:25:26.996704Z",
     "shell.execute_reply": "2023-10-28T16:25:26.995650Z"
    },
    "papermill": {
     "duration": 0.04656,
     "end_time": "2023-10-28T16:25:26.999007",
     "exception": false,
     "start_time": "2023-10-28T16:25:26.952447",
     "status": "completed"
    },
    "tags": []
   },
   "outputs": [
    {
     "data": {
      "text/plain": [
       "0"
      ]
     },
     "execution_count": 5,
     "metadata": {},
     "output_type": "execute_result"
    }
   ],
   "source": [
    "auc_df=auc_df.dropna(how='all')\n",
    "\n",
    "auc_df.duplicated().sum()"
   ]
  },
  {
   "cell_type": "markdown",
   "id": "bdff2693",
   "metadata": {
    "execution": {
     "iopub.execute_input": "2023-07-20T09:50:04.824682Z",
     "iopub.status.busy": "2023-07-20T09:50:04.824130Z",
     "iopub.status.idle": "2023-07-20T09:50:04.833891Z",
     "shell.execute_reply": "2023-07-20T09:50:04.831827Z",
     "shell.execute_reply.started": "2023-07-20T09:50:04.824635Z"
    },
    "papermill": {
     "duration": 0.021245,
     "end_time": "2023-10-28T16:25:27.042076",
     "exception": false,
     "start_time": "2023-10-28T16:25:27.020831",
     "status": "completed"
    },
    "tags": []
   },
   "source": [
    "There are no duplicates in the dataset.\n",
    "#### Missing values treatment:"
   ]
  },
  {
   "cell_type": "code",
   "execution_count": 6,
   "id": "8af418db",
   "metadata": {
    "execution": {
     "iopub.execute_input": "2023-10-28T16:25:27.087524Z",
     "iopub.status.busy": "2023-10-28T16:25:27.086770Z",
     "iopub.status.idle": "2023-10-28T16:25:27.097256Z",
     "shell.execute_reply": "2023-10-28T16:25:27.096121Z"
    },
    "papermill": {
     "duration": 0.036065,
     "end_time": "2023-10-28T16:25:27.099758",
     "exception": false,
     "start_time": "2023-10-28T16:25:27.063693",
     "status": "completed"
    },
    "tags": []
   },
   "outputs": [
    {
     "data": {
      "text/plain": [
       "{'traded_volume_second_auction': 2, 'price_forecast_first_auction': 48}"
      ]
     },
     "execution_count": 6,
     "metadata": {},
     "output_type": "execute_result"
    }
   ],
   "source": [
    "def get_null_cols(df):\n",
    "    null_dict = {}\n",
    "    for i in df.columns:\n",
    "        if df[i].isnull().sum()>0:\n",
    "            null_dict[i] = df[i].isnull().sum()\n",
    "    return null_dict\n",
    "\n",
    "get_null_cols(auc_df)"
   ]
  },
  {
   "cell_type": "markdown",
   "id": "794384d4",
   "metadata": {
    "papermill": {
     "duration": 0.021783,
     "end_time": "2023-10-28T16:25:27.143769",
     "exception": false,
     "start_time": "2023-10-28T16:25:27.121986",
     "status": "completed"
    },
    "tags": []
   },
   "source": [
    "Missing values in price_forecast_first_auction column are significant and as we see below they are continuous too. We need to find a proper method to impute these values."
   ]
  },
  {
   "cell_type": "code",
   "execution_count": 7,
   "id": "6f0dc59b",
   "metadata": {
    "execution": {
     "iopub.execute_input": "2023-10-28T16:25:27.190440Z",
     "iopub.status.busy": "2023-10-28T16:25:27.190034Z",
     "iopub.status.idle": "2023-10-28T16:25:27.212037Z",
     "shell.execute_reply": "2023-10-28T16:25:27.210724Z"
    },
    "papermill": {
     "duration": 0.048678,
     "end_time": "2023-10-28T16:25:27.214573",
     "exception": false,
     "start_time": "2023-10-28T16:25:27.165895",
     "status": "completed"
    },
    "tags": []
   },
   "outputs": [
    {
     "data": {
      "text/html": [
       "<div>\n",
       "<style scoped>\n",
       "    .dataframe tbody tr th:only-of-type {\n",
       "        vertical-align: middle;\n",
       "    }\n",
       "\n",
       "    .dataframe tbody tr th {\n",
       "        vertical-align: top;\n",
       "    }\n",
       "\n",
       "    .dataframe thead th {\n",
       "        text-align: right;\n",
       "    }\n",
       "</style>\n",
       "<table border=\"1\" class=\"dataframe\">\n",
       "  <thead>\n",
       "    <tr style=\"text-align: right;\">\n",
       "      <th></th>\n",
       "      <th>Date (WET)</th>\n",
       "      <th>price_first_auction</th>\n",
       "      <th>price_second_auction</th>\n",
       "      <th>traded_volume_first_auction</th>\n",
       "      <th>traded_volume_second_auction</th>\n",
       "      <th>price_forecast_first_auction</th>\n",
       "    </tr>\n",
       "  </thead>\n",
       "  <tbody>\n",
       "    <tr>\n",
       "      <th>1537</th>\n",
       "      <td>2021-03-06 00:00:00</td>\n",
       "      <td>53.3</td>\n",
       "      <td>52.93</td>\n",
       "      <td>3190.4</td>\n",
       "      <td>7455.2</td>\n",
       "      <td>NaN</td>\n",
       "    </tr>\n",
       "    <tr>\n",
       "      <th>1538</th>\n",
       "      <td>2021-03-06 01:00:00</td>\n",
       "      <td>52.4</td>\n",
       "      <td>49.08</td>\n",
       "      <td>3093.5</td>\n",
       "      <td>7170.2</td>\n",
       "      <td>NaN</td>\n",
       "    </tr>\n",
       "    <tr>\n",
       "      <th>1539</th>\n",
       "      <td>2021-03-06 02:00:00</td>\n",
       "      <td>48.5</td>\n",
       "      <td>48.55</td>\n",
       "      <td>3152.6</td>\n",
       "      <td>6924.2</td>\n",
       "      <td>NaN</td>\n",
       "    </tr>\n",
       "    <tr>\n",
       "      <th>1540</th>\n",
       "      <td>2021-03-06 03:00:00</td>\n",
       "      <td>45.0</td>\n",
       "      <td>46.90</td>\n",
       "      <td>3164.6</td>\n",
       "      <td>6688.0</td>\n",
       "      <td>NaN</td>\n",
       "    </tr>\n",
       "    <tr>\n",
       "      <th>1541</th>\n",
       "      <td>2021-03-06 04:00:00</td>\n",
       "      <td>45.0</td>\n",
       "      <td>43.55</td>\n",
       "      <td>3460.0</td>\n",
       "      <td>6738.8</td>\n",
       "      <td>NaN</td>\n",
       "    </tr>\n",
       "    <tr>\n",
       "      <th>1542</th>\n",
       "      <td>2021-03-06 05:00:00</td>\n",
       "      <td>46.0</td>\n",
       "      <td>43.60</td>\n",
       "      <td>3394.4</td>\n",
       "      <td>6863.3</td>\n",
       "      <td>NaN</td>\n",
       "    </tr>\n",
       "    <tr>\n",
       "      <th>1543</th>\n",
       "      <td>2021-03-06 06:00:00</td>\n",
       "      <td>50.0</td>\n",
       "      <td>51.36</td>\n",
       "      <td>3551.3</td>\n",
       "      <td>7109.6</td>\n",
       "      <td>NaN</td>\n",
       "    </tr>\n",
       "    <tr>\n",
       "      <th>1544</th>\n",
       "      <td>2021-03-06 07:00:00</td>\n",
       "      <td>52.7</td>\n",
       "      <td>50.00</td>\n",
       "      <td>3521.8</td>\n",
       "      <td>6976.8</td>\n",
       "      <td>NaN</td>\n",
       "    </tr>\n",
       "    <tr>\n",
       "      <th>1545</th>\n",
       "      <td>2021-03-06 08:00:00</td>\n",
       "      <td>57.8</td>\n",
       "      <td>55.00</td>\n",
       "      <td>3866.3</td>\n",
       "      <td>7319.9</td>\n",
       "      <td>NaN</td>\n",
       "    </tr>\n",
       "    <tr>\n",
       "      <th>1546</th>\n",
       "      <td>2021-03-06 09:00:00</td>\n",
       "      <td>61.0</td>\n",
       "      <td>65.13</td>\n",
       "      <td>3906.3</td>\n",
       "      <td>7932.7</td>\n",
       "      <td>NaN</td>\n",
       "    </tr>\n",
       "  </tbody>\n",
       "</table>\n",
       "</div>"
      ],
      "text/plain": [
       "              Date (WET)  price_first_auction  price_second_auction  \\\n",
       "1537 2021-03-06 00:00:00                 53.3                 52.93   \n",
       "1538 2021-03-06 01:00:00                 52.4                 49.08   \n",
       "1539 2021-03-06 02:00:00                 48.5                 48.55   \n",
       "1540 2021-03-06 03:00:00                 45.0                 46.90   \n",
       "1541 2021-03-06 04:00:00                 45.0                 43.55   \n",
       "1542 2021-03-06 05:00:00                 46.0                 43.60   \n",
       "1543 2021-03-06 06:00:00                 50.0                 51.36   \n",
       "1544 2021-03-06 07:00:00                 52.7                 50.00   \n",
       "1545 2021-03-06 08:00:00                 57.8                 55.00   \n",
       "1546 2021-03-06 09:00:00                 61.0                 65.13   \n",
       "\n",
       "      traded_volume_first_auction  traded_volume_second_auction  \\\n",
       "1537                       3190.4                        7455.2   \n",
       "1538                       3093.5                        7170.2   \n",
       "1539                       3152.6                        6924.2   \n",
       "1540                       3164.6                        6688.0   \n",
       "1541                       3460.0                        6738.8   \n",
       "1542                       3394.4                        6863.3   \n",
       "1543                       3551.3                        7109.6   \n",
       "1544                       3521.8                        6976.8   \n",
       "1545                       3866.3                        7319.9   \n",
       "1546                       3906.3                        7932.7   \n",
       "\n",
       "      price_forecast_first_auction  \n",
       "1537                           NaN  \n",
       "1538                           NaN  \n",
       "1539                           NaN  \n",
       "1540                           NaN  \n",
       "1541                           NaN  \n",
       "1542                           NaN  \n",
       "1543                           NaN  \n",
       "1544                           NaN  \n",
       "1545                           NaN  \n",
       "1546                           NaN  "
      ]
     },
     "execution_count": 7,
     "metadata": {},
     "output_type": "execute_result"
    }
   ],
   "source": [
    "auc_df[auc_df.isnull().any(axis=1)].head(10)"
   ]
  },
  {
   "cell_type": "markdown",
   "id": "bc50ccfd",
   "metadata": {
    "papermill": {
     "duration": 0.022798,
     "end_time": "2023-10-28T16:25:27.260444",
     "exception": false,
     "start_time": "2023-10-28T16:25:27.237646",
     "status": "completed"
    },
    "tags": []
   },
   "source": [
    "#### Searching for optimal method to deal with missing values:\n",
    "We will be creating a subset dataframe `'ref_df'` from the actual data to see which method will give us the most closest values to the actual missing values. For this purpose, I have removed 24 actual value from the target column `tar` so that we can compare the results. <br> We don‘t want to use the simple mean and median imputation as they will give us only static values."
   ]
  },
  {
   "cell_type": "code",
   "execution_count": 8,
   "id": "2fc0c721",
   "metadata": {
    "execution": {
     "iopub.execute_input": "2023-10-28T16:25:27.307981Z",
     "iopub.status.busy": "2023-10-28T16:25:27.306953Z",
     "iopub.status.idle": "2023-10-28T16:25:27.326633Z",
     "shell.execute_reply": "2023-10-28T16:25:27.325316Z"
    },
    "papermill": {
     "duration": 0.04636,
     "end_time": "2023-10-28T16:25:27.329257",
     "exception": false,
     "start_time": "2023-10-28T16:25:27.282897",
     "status": "completed"
    },
    "tags": []
   },
   "outputs": [
    {
     "data": {
      "text/html": [
       "<div>\n",
       "<style scoped>\n",
       "    .dataframe tbody tr th:only-of-type {\n",
       "        vertical-align: middle;\n",
       "    }\n",
       "\n",
       "    .dataframe tbody tr th {\n",
       "        vertical-align: top;\n",
       "    }\n",
       "\n",
       "    .dataframe thead th {\n",
       "        text-align: right;\n",
       "    }\n",
       "</style>\n",
       "<table border=\"1\" class=\"dataframe\">\n",
       "  <thead>\n",
       "    <tr style=\"text-align: right;\">\n",
       "      <th></th>\n",
       "      <th>ref</th>\n",
       "      <th>tar</th>\n",
       "    </tr>\n",
       "  </thead>\n",
       "  <tbody>\n",
       "    <tr>\n",
       "      <th>1</th>\n",
       "      <td>54.19</td>\n",
       "      <td>54.19</td>\n",
       "    </tr>\n",
       "    <tr>\n",
       "      <th>2</th>\n",
       "      <td>53.42</td>\n",
       "      <td>53.42</td>\n",
       "    </tr>\n",
       "    <tr>\n",
       "      <th>3</th>\n",
       "      <td>50.13</td>\n",
       "      <td>50.13</td>\n",
       "    </tr>\n",
       "    <tr>\n",
       "      <th>4</th>\n",
       "      <td>50.28</td>\n",
       "      <td>50.28</td>\n",
       "    </tr>\n",
       "    <tr>\n",
       "      <th>5</th>\n",
       "      <td>47.19</td>\n",
       "      <td>47.19</td>\n",
       "    </tr>\n",
       "    <tr>\n",
       "      <th>...</th>\n",
       "      <td>...</td>\n",
       "      <td>...</td>\n",
       "    </tr>\n",
       "    <tr>\n",
       "      <th>1496</th>\n",
       "      <td>64.43</td>\n",
       "      <td>NaN</td>\n",
       "    </tr>\n",
       "    <tr>\n",
       "      <th>1497</th>\n",
       "      <td>71.53</td>\n",
       "      <td>NaN</td>\n",
       "    </tr>\n",
       "    <tr>\n",
       "      <th>1498</th>\n",
       "      <td>72.68</td>\n",
       "      <td>NaN</td>\n",
       "    </tr>\n",
       "    <tr>\n",
       "      <th>1499</th>\n",
       "      <td>71.35</td>\n",
       "      <td>NaN</td>\n",
       "    </tr>\n",
       "    <tr>\n",
       "      <th>1500</th>\n",
       "      <td>68.99</td>\n",
       "      <td>NaN</td>\n",
       "    </tr>\n",
       "  </tbody>\n",
       "</table>\n",
       "<p>1500 rows × 2 columns</p>\n",
       "</div>"
      ],
      "text/plain": [
       "        ref    tar\n",
       "1     54.19  54.19\n",
       "2     53.42  53.42\n",
       "3     50.13  50.13\n",
       "4     50.28  50.28\n",
       "5     47.19  47.19\n",
       "...     ...    ...\n",
       "1496  64.43    NaN\n",
       "1497  71.53    NaN\n",
       "1498  72.68    NaN\n",
       "1499  71.35    NaN\n",
       "1500  68.99    NaN\n",
       "\n",
       "[1500 rows x 2 columns]"
      ]
     },
     "execution_count": 8,
     "metadata": {},
     "output_type": "execute_result"
    }
   ],
   "source": [
    "ref_df = pd.DataFrame(columns=['ref','tar'])\n",
    "ref_df['ref'] = auc_df['price_forecast_first_auction'][:1500]\n",
    "ref_df['tar'] = auc_df['price_forecast_first_auction'][:1476]\n",
    "ref_df"
   ]
  },
  {
   "cell_type": "markdown",
   "id": "6ac299be",
   "metadata": {
    "papermill": {
     "duration": 0.02219,
     "end_time": "2023-10-28T16:25:27.374180",
     "exception": false,
     "start_time": "2023-10-28T16:25:27.351990",
     "status": "completed"
    },
    "tags": []
   },
   "source": [
    "We are trying out various methods such as *rolling mean, rolling median and spline interpolation,* which fits low-degree polynomials to small subsets of the values. We will use RMSE values to determine which one among these methods is best to use to fill missing values."
   ]
  },
  {
   "cell_type": "code",
   "execution_count": 9,
   "id": "cfaa5631",
   "metadata": {
    "execution": {
     "iopub.execute_input": "2023-10-28T16:25:27.421490Z",
     "iopub.status.busy": "2023-10-28T16:25:27.420805Z",
     "iopub.status.idle": "2023-10-28T16:25:29.011381Z",
     "shell.execute_reply": "2023-10-28T16:25:29.009826Z"
    },
    "papermill": {
     "duration": 1.617504,
     "end_time": "2023-10-28T16:25:29.014333",
     "exception": false,
     "start_time": "2023-10-28T16:25:27.396829",
     "status": "completed"
    },
    "tags": []
   },
   "outputs": [
    {
     "data": {
      "text/html": [
       "<div>\n",
       "<style scoped>\n",
       "    .dataframe tbody tr th:only-of-type {\n",
       "        vertical-align: middle;\n",
       "    }\n",
       "\n",
       "    .dataframe tbody tr th {\n",
       "        vertical-align: top;\n",
       "    }\n",
       "\n",
       "    .dataframe thead th {\n",
       "        text-align: right;\n",
       "    }\n",
       "</style>\n",
       "<table border=\"1\" class=\"dataframe\">\n",
       "  <thead>\n",
       "    <tr style=\"text-align: right;\">\n",
       "      <th></th>\n",
       "      <th>Method</th>\n",
       "      <th>RMSE</th>\n",
       "    </tr>\n",
       "  </thead>\n",
       "  <tbody>\n",
       "    <tr>\n",
       "      <th>0</th>\n",
       "      <td>Rollavg</td>\n",
       "      <td>6.637092702431262</td>\n",
       "    </tr>\n",
       "    <tr>\n",
       "      <th>1</th>\n",
       "      <td>RollMedian</td>\n",
       "      <td>6.986361141538562</td>\n",
       "    </tr>\n",
       "    <tr>\n",
       "      <th>2</th>\n",
       "      <td>InterpolateSpline3</td>\n",
       "      <td>16491.599722406107</td>\n",
       "    </tr>\n",
       "    <tr>\n",
       "      <th>3</th>\n",
       "      <td>InterpolateSpline4</td>\n",
       "      <td>198115.55081577832</td>\n",
       "    </tr>\n",
       "    <tr>\n",
       "      <th>4</th>\n",
       "      <td>InterpolateSpline5</td>\n",
       "      <td>11125436.832408043</td>\n",
       "    </tr>\n",
       "  </tbody>\n",
       "</table>\n",
       "</div>"
      ],
      "text/plain": [
       "               Method                RMSE\n",
       "0             Rollavg   6.637092702431262\n",
       "1          RollMedian   6.986361141538562\n",
       "2  InterpolateSpline3  16491.599722406107\n",
       "3  InterpolateSpline4  198115.55081577832\n",
       "4  InterpolateSpline5  11125436.832408043"
      ]
     },
     "execution_count": 9,
     "metadata": {},
     "output_type": "execute_result"
    }
   ],
   "source": [
    "def search_filling_method(ref_df):\n",
    "    ref_df = ref_df.assign(Rollavg=ref_df.tar.fillna(ref_df.tar.rolling(25,min_periods=1,).mean()))\n",
    "    ref_df = ref_df.assign(RollMedian=ref_df.tar.fillna(ref_df.tar.rolling(25,min_periods=1,).median()))\n",
    "    ref_df = ref_df.assign(InterpolateSpline3=ref_df.tar.interpolate(method='spline', order=3))\n",
    "    ref_df = ref_df.assign(InterpolateSpline4=ref_df.tar.interpolate(method='spline', order=4))\n",
    "    ref_df = ref_df.assign(InterpolateSpline5=ref_df.tar.interpolate(method='spline', order=5))\n",
    "\n",
    "    results = [(method, np.sqrt(metrics.mean_squared_error(ref_df.ref, ref_df[method]))) \n",
    "               for method in list(ref_df)[2:]]\n",
    "    results_df = pd.DataFrame(np.array(results), columns=['Method', 'RMSE'])\n",
    "    results_df.sort_values(by='RMSE', ascending=False)\n",
    "    return results_df\n",
    "results_df = search_filling_method(ref_df)\n",
    "results_df"
   ]
  },
  {
   "cell_type": "markdown",
   "id": "a7058a48",
   "metadata": {
    "papermill": {
     "duration": 0.022681,
     "end_time": "2023-10-28T16:25:29.060069",
     "exception": false,
     "start_time": "2023-10-28T16:25:29.037388",
     "status": "completed"
    },
    "tags": []
   },
   "source": [
    "Here we see Simple moving average method or simply, rolling average is best for our purpose. We will plot to visualize and then finally fill the values."
   ]
  },
  {
   "cell_type": "code",
   "execution_count": 10,
   "id": "1dca5b57",
   "metadata": {
    "execution": {
     "iopub.execute_input": "2023-10-28T16:25:29.107728Z",
     "iopub.status.busy": "2023-10-28T16:25:29.107304Z",
     "iopub.status.idle": "2023-10-28T16:25:29.639190Z",
     "shell.execute_reply": "2023-10-28T16:25:29.638183Z"
    },
    "papermill": {
     "duration": 0.558737,
     "end_time": "2023-10-28T16:25:29.641669",
     "exception": false,
     "start_time": "2023-10-28T16:25:29.082932",
     "status": "completed"
    },
    "tags": []
   },
   "outputs": [
    {
     "data": {
      "image/png": "[encoded data removed]",
      "text/plain": [
       "<Figure size 2000x500 with 1 Axes>"
      ]
     },
     "metadata": {},
     "output_type": "display_data"
    }
   ],
   "source": [
    "#Simple moving average method \n",
    "y_pred =auc_df.copy()\n",
    "y_pred['price_forecast_first_auction'] = auc_df.price_forecast_first_auction.fillna(\n",
    "    auc_df.price_forecast_first_auction.rolling(25,min_periods=1,).mean())\n",
    "\n",
    "plt.figure(figsize=(20,5))\n",
    "plt.grid()\n",
    "plt.plot(auc_df['price_forecast_first_auction'].loc[1300:1600], label='Train')\n",
    "plt.plot(y_pred['price_forecast_first_auction'].loc[1536:1561], label='missing values')\n",
    "plt.legend(loc='best')\n",
    "plt.title('Simple Moving Average Method');"
   ]
  },
  {
   "cell_type": "code",
   "execution_count": 11,
   "id": "f1c4ddc5",
   "metadata": {
    "execution": {
     "iopub.execute_input": "2023-10-28T16:25:29.692642Z",
     "iopub.status.busy": "2023-10-28T16:25:29.692030Z",
     "iopub.status.idle": "2023-10-28T16:25:29.707733Z",
     "shell.execute_reply": "2023-10-28T16:25:29.706833Z"
    },
    "papermill": {
     "duration": 0.044139,
     "end_time": "2023-10-28T16:25:29.710129",
     "exception": false,
     "start_time": "2023-10-28T16:25:29.665990",
     "status": "completed"
    },
    "tags": []
   },
   "outputs": [
    {
     "data": {
      "text/plain": [
       "{}"
      ]
     },
     "execution_count": 11,
     "metadata": {},
     "output_type": "execute_result"
    }
   ],
   "source": [
    "auc_df.price_forecast_first_auction = auc_df.price_forecast_first_auction.fillna(\n",
    "                                      auc_df.price_forecast_first_auction.rolling(25,min_periods=1,).mean())\n",
    "auc_df = auc_df.bfill()\n",
    "get_null_cols(auc_df)"
   ]
  },
  {
   "cell_type": "markdown",
   "id": "7dcfa680",
   "metadata": {
    "papermill": {
     "duration": 0.023915,
     "end_time": "2023-10-28T16:25:29.758353",
     "exception": false,
     "start_time": "2023-10-28T16:25:29.734438",
     "status": "completed"
    },
    "tags": []
   },
   "source": [
    "The empty dict above suggests that there are no missing values in `auc_df`. Now, let's read and process other datasets too. Starting with **system_prices.csv** as `sys_df`"
   ]
  },
  {
   "cell_type": "code",
   "execution_count": 12,
   "id": "ea472ca0",
   "metadata": {
    "execution": {
     "iopub.execute_input": "2023-10-28T16:25:29.808910Z",
     "iopub.status.busy": "2023-10-28T16:25:29.808177Z",
     "iopub.status.idle": "2023-10-28T16:25:30.161653Z",
     "shell.execute_reply": "2023-10-28T16:25:30.160272Z"
    },
    "papermill": {
     "duration": 0.381613,
     "end_time": "2023-10-28T16:25:30.164229",
     "exception": false,
     "start_time": "2023-10-28T16:25:29.782616",
     "status": "completed"
    },
    "tags": []
   },
   "outputs": [
    {
     "name": "stdout",
     "output_type": "stream",
     "text": [
      "Duplicate rows:0\n",
      "Null Values:{'forecast_system_price_low': 48, 'forecast_system_price_high': 48, 'system_price': 44}\n",
      "\n",
      "\n"
     ]
    },
    {
     "data": {
      "text/html": [
       "<div>\n",
       "<style scoped>\n",
       "    .dataframe tbody tr th:only-of-type {\n",
       "        vertical-align: middle;\n",
       "    }\n",
       "\n",
       "    .dataframe tbody tr th {\n",
       "        vertical-align: top;\n",
       "    }\n",
       "\n",
       "    .dataframe thead th {\n",
       "        text-align: right;\n",
       "    }\n",
       "</style>\n",
       "<table border=\"1\" class=\"dataframe\">\n",
       "  <thead>\n",
       "    <tr style=\"text-align: right;\">\n",
       "      <th></th>\n",
       "      <th>Date (WET)</th>\n",
       "      <th>forecast_system_price_low</th>\n",
       "      <th>forecast_system_price_high</th>\n",
       "      <th>system_price</th>\n",
       "    </tr>\n",
       "  </thead>\n",
       "  <tbody>\n",
       "    <tr>\n",
       "      <th>1</th>\n",
       "      <td>2021-01-01 00:00:00</td>\n",
       "      <td>48.33</td>\n",
       "      <td>44.89</td>\n",
       "      <td>73.15</td>\n",
       "    </tr>\n",
       "    <tr>\n",
       "      <th>2</th>\n",
       "      <td>2021-01-01 01:00:00</td>\n",
       "      <td>54.35</td>\n",
       "      <td>53.26</td>\n",
       "      <td>71.95</td>\n",
       "    </tr>\n",
       "    <tr>\n",
       "      <th>3</th>\n",
       "      <td>2021-01-01 02:00:00</td>\n",
       "      <td>32.66</td>\n",
       "      <td>65.86</td>\n",
       "      <td>54.56</td>\n",
       "    </tr>\n",
       "    <tr>\n",
       "      <th>4</th>\n",
       "      <td>2021-01-01 03:00:00</td>\n",
       "      <td>41.55</td>\n",
       "      <td>63.43</td>\n",
       "      <td>70.73</td>\n",
       "    </tr>\n",
       "    <tr>\n",
       "      <th>5</th>\n",
       "      <td>2021-01-01 04:00:00</td>\n",
       "      <td>26.62</td>\n",
       "      <td>66.91</td>\n",
       "      <td>54.98</td>\n",
       "    </tr>\n",
       "  </tbody>\n",
       "</table>\n",
       "</div>"
      ],
      "text/plain": [
       "           Date (WET)  forecast_system_price_low  forecast_system_price_high  \\\n",
       "1 2021-01-01 00:00:00                      48.33                       44.89   \n",
       "2 2021-01-01 01:00:00                      54.35                       53.26   \n",
       "3 2021-01-01 02:00:00                      32.66                       65.86   \n",
       "4 2021-01-01 03:00:00                      41.55                       63.43   \n",
       "5 2021-01-01 04:00:00                      26.62                       66.91   \n",
       "\n",
       "   system_price  \n",
       "1         73.15  \n",
       "2         71.95  \n",
       "3         54.56  \n",
       "4         70.73  \n",
       "5         54.98  "
      ]
     },
     "execution_count": 12,
     "metadata": {},
     "output_type": "execute_result"
    }
   ],
   "source": [
    "def read_preprocess(filepath):\n",
    "    df = pd.read_csv(filepath,delimiter=';')\n",
    "    df = df[1:]\n",
    "    df['Date (WET)'] = df['Date (WET)'].apply(lambda x: (datetime.strptime(x, '[%d/%m/%Y %H:%M]')))\n",
    "    df[df.columns[1:]] = df[df.columns[1:]].apply(lambda x: pd.to_numeric(x,errors='coerce'))\n",
    "    df = df.dropna(how='all')\n",
    "    print(f'Duplicate rows:{df.duplicated().sum()}')\n",
    "    print(f'Null Values:{get_null_cols(df)}')\n",
    "    return df\n",
    "\n",
    "sys_df = read_preprocess('/kaggle/input/uk-energy-trading/system_prices.csv')\n",
    "print('\\n')\n",
    "sys_df.head()"
   ]
  },
  {
   "cell_type": "markdown",
   "id": "8368e257",
   "metadata": {
    "papermill": {
     "duration": 0.024577,
     "end_time": "2023-10-28T16:25:30.214041",
     "exception": false,
     "start_time": "2023-10-28T16:25:30.189464",
     "status": "completed"
    },
    "tags": []
   },
   "source": [
    "There are significant missing values in 3 columns and again as we see below they are continuous in nature. We will be using our previuos approach to find a proper method to impute these values. We will use our function `search_filling_method` to do it efficiently."
   ]
  },
  {
   "cell_type": "code",
   "execution_count": 13,
   "id": "1dcec45b",
   "metadata": {
    "execution": {
     "iopub.execute_input": "2023-10-28T16:25:30.266050Z",
     "iopub.status.busy": "2023-10-28T16:25:30.265589Z",
     "iopub.status.idle": "2023-10-28T16:25:30.283307Z",
     "shell.execute_reply": "2023-10-28T16:25:30.282523Z"
    },
    "papermill": {
     "duration": 0.046429,
     "end_time": "2023-10-28T16:25:30.285580",
     "exception": false,
     "start_time": "2023-10-28T16:25:30.239151",
     "status": "completed"
    },
    "tags": []
   },
   "outputs": [
    {
     "data": {
      "text/html": [
       "<div>\n",
       "<style scoped>\n",
       "    .dataframe tbody tr th:only-of-type {\n",
       "        vertical-align: middle;\n",
       "    }\n",
       "\n",
       "    .dataframe tbody tr th {\n",
       "        vertical-align: top;\n",
       "    }\n",
       "\n",
       "    .dataframe thead th {\n",
       "        text-align: right;\n",
       "    }\n",
       "</style>\n",
       "<table border=\"1\" class=\"dataframe\">\n",
       "  <thead>\n",
       "    <tr style=\"text-align: right;\">\n",
       "      <th></th>\n",
       "      <th>Date (WET)</th>\n",
       "      <th>forecast_system_price_low</th>\n",
       "      <th>forecast_system_price_high</th>\n",
       "      <th>system_price</th>\n",
       "    </tr>\n",
       "  </thead>\n",
       "  <tbody>\n",
       "    <tr>\n",
       "      <th>1537</th>\n",
       "      <td>2021-03-06 00:00:00</td>\n",
       "      <td>NaN</td>\n",
       "      <td>NaN</td>\n",
       "      <td>42.40</td>\n",
       "    </tr>\n",
       "    <tr>\n",
       "      <th>1538</th>\n",
       "      <td>2021-03-06 01:00:00</td>\n",
       "      <td>NaN</td>\n",
       "      <td>NaN</td>\n",
       "      <td>42.60</td>\n",
       "    </tr>\n",
       "    <tr>\n",
       "      <th>1539</th>\n",
       "      <td>2021-03-06 02:00:00</td>\n",
       "      <td>NaN</td>\n",
       "      <td>NaN</td>\n",
       "      <td>56.65</td>\n",
       "    </tr>\n",
       "    <tr>\n",
       "      <th>1540</th>\n",
       "      <td>2021-03-06 03:00:00</td>\n",
       "      <td>NaN</td>\n",
       "      <td>NaN</td>\n",
       "      <td>55.95</td>\n",
       "    </tr>\n",
       "    <tr>\n",
       "      <th>1541</th>\n",
       "      <td>2021-03-06 04:00:00</td>\n",
       "      <td>NaN</td>\n",
       "      <td>NaN</td>\n",
       "      <td>55.93</td>\n",
       "    </tr>\n",
       "    <tr>\n",
       "      <th>1542</th>\n",
       "      <td>2021-03-06 05:00:00</td>\n",
       "      <td>NaN</td>\n",
       "      <td>NaN</td>\n",
       "      <td>55.95</td>\n",
       "    </tr>\n",
       "    <tr>\n",
       "      <th>1543</th>\n",
       "      <td>2021-03-06 06:00:00</td>\n",
       "      <td>NaN</td>\n",
       "      <td>NaN</td>\n",
       "      <td>55.90</td>\n",
       "    </tr>\n",
       "    <tr>\n",
       "      <th>1544</th>\n",
       "      <td>2021-03-06 07:00:00</td>\n",
       "      <td>NaN</td>\n",
       "      <td>NaN</td>\n",
       "      <td>54.65</td>\n",
       "    </tr>\n",
       "    <tr>\n",
       "      <th>1545</th>\n",
       "      <td>2021-03-06 08:00:00</td>\n",
       "      <td>NaN</td>\n",
       "      <td>NaN</td>\n",
       "      <td>62.73</td>\n",
       "    </tr>\n",
       "    <tr>\n",
       "      <th>1546</th>\n",
       "      <td>2021-03-06 09:00:00</td>\n",
       "      <td>NaN</td>\n",
       "      <td>NaN</td>\n",
       "      <td>86.00</td>\n",
       "    </tr>\n",
       "    <tr>\n",
       "      <th>1547</th>\n",
       "      <td>2021-03-06 10:00:00</td>\n",
       "      <td>NaN</td>\n",
       "      <td>NaN</td>\n",
       "      <td>84.00</td>\n",
       "    </tr>\n",
       "    <tr>\n",
       "      <th>1548</th>\n",
       "      <td>2021-03-06 11:00:00</td>\n",
       "      <td>NaN</td>\n",
       "      <td>NaN</td>\n",
       "      <td>88.00</td>\n",
       "    </tr>\n",
       "    <tr>\n",
       "      <th>1549</th>\n",
       "      <td>2021-03-06 12:00:00</td>\n",
       "      <td>NaN</td>\n",
       "      <td>NaN</td>\n",
       "      <td>65.53</td>\n",
       "    </tr>\n",
       "    <tr>\n",
       "      <th>1550</th>\n",
       "      <td>2021-03-06 13:00:00</td>\n",
       "      <td>NaN</td>\n",
       "      <td>NaN</td>\n",
       "      <td>42.94</td>\n",
       "    </tr>\n",
       "  </tbody>\n",
       "</table>\n",
       "</div>"
      ],
      "text/plain": [
       "              Date (WET)  forecast_system_price_low  \\\n",
       "1537 2021-03-06 00:00:00                        NaN   \n",
       "1538 2021-03-06 01:00:00                        NaN   \n",
       "1539 2021-03-06 02:00:00                        NaN   \n",
       "1540 2021-03-06 03:00:00                        NaN   \n",
       "1541 2021-03-06 04:00:00                        NaN   \n",
       "1542 2021-03-06 05:00:00                        NaN   \n",
       "1543 2021-03-06 06:00:00                        NaN   \n",
       "1544 2021-03-06 07:00:00                        NaN   \n",
       "1545 2021-03-06 08:00:00                        NaN   \n",
       "1546 2021-03-06 09:00:00                        NaN   \n",
       "1547 2021-03-06 10:00:00                        NaN   \n",
       "1548 2021-03-06 11:00:00                        NaN   \n",
       "1549 2021-03-06 12:00:00                        NaN   \n",
       "1550 2021-03-06 13:00:00                        NaN   \n",
       "\n",
       "      forecast_system_price_high  system_price  \n",
       "1537                         NaN         42.40  \n",
       "1538                         NaN         42.60  \n",
       "1539                         NaN         56.65  \n",
       "1540                         NaN         55.95  \n",
       "1541                         NaN         55.93  \n",
       "1542                         NaN         55.95  \n",
       "1543                         NaN         55.90  \n",
       "1544                         NaN         54.65  \n",
       "1545                         NaN         62.73  \n",
       "1546                         NaN         86.00  \n",
       "1547                         NaN         84.00  \n",
       "1548                         NaN         88.00  \n",
       "1549                         NaN         65.53  \n",
       "1550                         NaN         42.94  "
      ]
     },
     "execution_count": 13,
     "metadata": {},
     "output_type": "execute_result"
    }
   ],
   "source": [
    "sys_df[sys_df.isnull().any(axis=1)].loc[1500:1550]"
   ]
  },
  {
   "cell_type": "code",
   "execution_count": 14,
   "id": "8dce4ffc",
   "metadata": {
    "execution": {
     "iopub.execute_input": "2023-10-28T16:25:30.339098Z",
     "iopub.status.busy": "2023-10-28T16:25:30.338020Z",
     "iopub.status.idle": "2023-10-28T16:25:30.556994Z",
     "shell.execute_reply": "2023-10-28T16:25:30.555765Z"
    },
    "papermill": {
     "duration": 0.248186,
     "end_time": "2023-10-28T16:25:30.559592",
     "exception": false,
     "start_time": "2023-10-28T16:25:30.311406",
     "status": "completed"
    },
    "tags": []
   },
   "outputs": [
    {
     "data": {
      "text/html": [
       "<div>\n",
       "<style scoped>\n",
       "    .dataframe tbody tr th:only-of-type {\n",
       "        vertical-align: middle;\n",
       "    }\n",
       "\n",
       "    .dataframe tbody tr th {\n",
       "        vertical-align: top;\n",
       "    }\n",
       "\n",
       "    .dataframe thead th {\n",
       "        text-align: right;\n",
       "    }\n",
       "</style>\n",
       "<table border=\"1\" class=\"dataframe\">\n",
       "  <thead>\n",
       "    <tr style=\"text-align: right;\">\n",
       "      <th></th>\n",
       "      <th>Method</th>\n",
       "      <th>RMSE</th>\n",
       "    </tr>\n",
       "  </thead>\n",
       "  <tbody>\n",
       "    <tr>\n",
       "      <th>0</th>\n",
       "      <td>Rollavg</td>\n",
       "      <td>5.300130320679532</td>\n",
       "    </tr>\n",
       "    <tr>\n",
       "      <th>1</th>\n",
       "      <td>RollMedian</td>\n",
       "      <td>5.164011352621139</td>\n",
       "    </tr>\n",
       "    <tr>\n",
       "      <th>2</th>\n",
       "      <td>InterpolateSpline3</td>\n",
       "      <td>44738.99872450196</td>\n",
       "    </tr>\n",
       "    <tr>\n",
       "      <th>3</th>\n",
       "      <td>InterpolateSpline4</td>\n",
       "      <td>684457.1159529577</td>\n",
       "    </tr>\n",
       "    <tr>\n",
       "      <th>4</th>\n",
       "      <td>InterpolateSpline5</td>\n",
       "      <td>37620291.62669144</td>\n",
       "    </tr>\n",
       "  </tbody>\n",
       "</table>\n",
       "</div>"
      ],
      "text/plain": [
       "               Method               RMSE\n",
       "0             Rollavg  5.300130320679532\n",
       "1          RollMedian  5.164011352621139\n",
       "2  InterpolateSpline3  44738.99872450196\n",
       "3  InterpolateSpline4  684457.1159529577\n",
       "4  InterpolateSpline5  37620291.62669144"
      ]
     },
     "execution_count": 14,
     "metadata": {},
     "output_type": "execute_result"
    }
   ],
   "source": [
    "ref_df = pd.DataFrame(columns=['ref','tar'])\n",
    "ref_df['ref'] = sys_df['system_price'][:600]\n",
    "ref_df['tar'] = sys_df['system_price'][:576]\n",
    "search_filling_method(ref_df)"
   ]
  },
  {
   "cell_type": "markdown",
   "id": "b1cb8cfc",
   "metadata": {
    "papermill": {
     "duration": 0.024987,
     "end_time": "2023-10-28T16:25:30.609929",
     "exception": false,
     "start_time": "2023-10-28T16:25:30.584942",
     "status": "completed"
    },
    "tags": []
   },
   "source": [
    "**Filling system_price column** <br>\n",
    "Here, we see simple moving median method or simply \"rolling median\" is best method for our purpose. We will first plot to visualize the potential values and then we will actually fill those values."
   ]
  },
  {
   "cell_type": "code",
   "execution_count": 15,
   "id": "d5e2bd72",
   "metadata": {
    "execution": {
     "iopub.execute_input": "2023-10-28T16:25:30.662847Z",
     "iopub.status.busy": "2023-10-28T16:25:30.662391Z",
     "iopub.status.idle": "2023-10-28T16:25:31.132903Z",
     "shell.execute_reply": "2023-10-28T16:25:31.131822Z"
    },
    "papermill": {
     "duration": 0.499856,
     "end_time": "2023-10-28T16:25:31.135343",
     "exception": false,
     "start_time": "2023-10-28T16:25:30.635487",
     "status": "completed"
    },
    "tags": []
   },
   "outputs": [
    {
     "data": {
      "image/png": "[encoded data removed]",
      "text/plain": [
       "<Figure size 2000x500 with 1 Axes>"
      ]
     },
     "metadata": {},
     "output_type": "display_data"
    }
   ],
   "source": [
    "#Simple moving median method \n",
    "y_pred =sys_df.copy()\n",
    "y_pred['system_price'] = sys_df.system_price.fillna(\n",
    "    sys_df.system_price.rolling(25,min_periods=1,).median())\n",
    "\n",
    "plt.figure(figsize=(20,5))\n",
    "plt.grid()\n",
    "plt.plot(sys_df['system_price'].loc[300:700], label='Train')\n",
    "plt.plot(y_pred['system_price'].loc[600:671], label='Missing values')\n",
    "plt.legend(loc='best')\n",
    "plt.title('Simple Moving Median Method for system_price');\n",
    "\n",
    "#filling missing values\n",
    "sys_df.system_price = sys_df.system_price.fillna(\n",
    "    sys_df.system_price.rolling(25,min_periods=1,).median())"
   ]
  },
  {
   "cell_type": "markdown",
   "id": "2ce4afe5",
   "metadata": {
    "papermill": {
     "duration": 0.026692,
     "end_time": "2023-10-28T16:25:31.188923",
     "exception": false,
     "start_time": "2023-10-28T16:25:31.162231",
     "status": "completed"
    },
    "tags": []
   },
   "source": [
    "We have 2 more columns to fill so it will be better to write a function to deal with multiple columns at once in the same way."
   ]
  },
  {
   "cell_type": "code",
   "execution_count": 16,
   "id": "94bc5a61",
   "metadata": {
    "execution": {
     "iopub.execute_input": "2023-10-28T16:25:31.245029Z",
     "iopub.status.busy": "2023-10-28T16:25:31.243935Z",
     "iopub.status.idle": "2023-10-28T16:25:35.099466Z",
     "shell.execute_reply": "2023-10-28T16:25:35.098078Z"
    },
    "papermill": {
     "duration": 3.886139,
     "end_time": "2023-10-28T16:25:35.101905",
     "exception": false,
     "start_time": "2023-10-28T16:25:31.215766",
     "status": "completed"
    },
    "tags": []
   },
   "outputs": [
    {
     "name": "stdout",
     "output_type": "stream",
     "text": [
      "{'forecast_system_price_low': 'Rollavg', 'forecast_system_price_high': 'Rollavg'}\n",
      "\n",
      "\n",
      "missing values filled in forecast_system_price_low\n",
      "missing values filled in forecast_system_price_high\n"
     ]
    },
    {
     "data": {
      "text/plain": [
       "{}"
      ]
     },
     "execution_count": 16,
     "metadata": {},
     "output_type": "execute_result"
    }
   ],
   "source": [
    "def miss_val_fill_method(df,u_index,l_index):\n",
    "    miss_val_fill_methods = {}\n",
    "    miss_val_cols = [i for i in get_null_cols(df) if get_null_cols(df)[i]>5]\n",
    "    for col_name in miss_val_cols:\n",
    "        ref_df = pd.DataFrame(columns=['ref','tar'])\n",
    "        ref_df['ref'] = df[col_name][:u_index]\n",
    "        ref_df['tar'] = df[col_name][:l_index]\n",
    "        results_df = search_filling_method(ref_df)\n",
    "        miss_val_fill_methods[col_name] = results_df.Method[0]\n",
    "    return miss_val_fill_methods\n",
    "\n",
    "result_dict= miss_val_fill_method(sys_df,1500,1476)\n",
    "print(result_dict)\n",
    "print('\\n')\n",
    "\n",
    "for col in result_dict.keys():\n",
    "    print(f'missing values filled in {col}')\n",
    "    sys_df[col] = sys_df[col].fillna(sys_df[col].rolling(25,min_periods=1,).mean())\n",
    "sys_df = sys_df.bfill()\n",
    "get_null_cols(sys_df)"
   ]
  },
  {
   "cell_type": "markdown",
   "id": "4de12863",
   "metadata": {
    "execution": {
     "iopub.execute_input": "2023-07-20T10:09:11.074793Z",
     "iopub.status.busy": "2023-07-20T10:09:11.074165Z",
     "iopub.status.idle": "2023-07-20T10:09:11.083382Z",
     "shell.execute_reply": "2023-07-20T10:09:11.081653Z",
     "shell.execute_reply.started": "2023-07-20T10:09:11.074745Z"
    },
    "papermill": {
     "duration": 0.027312,
     "end_time": "2023-10-28T16:25:35.157958",
     "exception": false,
     "start_time": "2023-10-28T16:25:35.130646",
     "status": "completed"
    },
    "tags": []
   },
   "source": [
    "We have found our suitable methods (Rollavg) and above we have already used them to fill the respective missing values too.\n",
    "\n",
    "# 2. Develop a pricing model for the second auction: \n",
    "After pre-processing the data, now, we will use the input variables given in **forecast_inputs.csv** to develop a pricing model for the second auction. We can use various techniques such as linear regression, time series analysis, or machine learning to develop the pricing model. The pricing model should be able to forecast the prices of the second auction based on the input variables. We have the data description of different input variables of forecast_input.csv in `description_input_variables.txt` as given below:\n",
    "\n",
    "**Data Dictionary**\n",
    "\n",
    "* `Demand + System Margin` - The availability of the system, using the daily forecast availability data (UOU data) except in the case of wind farms where a wind forecast is used from GFS weather data.\n",
    "\n",
    "* `Demand` - An adjustment of the demand forecast to add back on embedded wind and solar to get a truer demand shape. For values beyond the end of the half hourly demand data from National Grid, the data is shaped from the published peak demand values using typical demand curves.\n",
    "\n",
    "* `Within Day Availability` - An adjusted availability figure for the system that is reduced based upon rules around likely plant issues and potential non-delivery of potential availability.\n",
    "\n",
    "* `Margin` - The difference between Availability and Demand forecasted.\n",
    "\n",
    "* `Within Day Margin` - The difference between the Within Day Availability and Demand forecasted.\n",
    "\n",
    "* `Long-Term Wind` - A wind forecast based upon GFS weather data.\n",
    "\n",
    "* `Long-Term Solar` - National Grid solar forecast.\n",
    "\n",
    "* `Long-Term Wind Over Demand` - The Long-Term Wind values divided by Demand values.\n",
    "\n",
    "* `Long-Term Wind Over Margin` - The Long-Term Wind values divided by Margin values.\n",
    "\n",
    "* `Long-Term Solar Over Demand` - The Long-Term Solar values divided by Demand values.\n",
    "\n",
    "* `Long-Term Solar Over Margin` - The Long-Term Solar values divided by Margin values.\n",
    "\n",
    "* `Margin Over Demand` - The Margin values divided by Demand values.\n",
    "\n",
    "* `SNSP Forecast` - forecasts system non-synchronous penetration, which is a the percentage of how much generation or imports that will be on the system that are not synchronised with frequency\n",
    "\n",
    "* `Stack Price` - The breakeven cost of generation as reported by a stack model. This stack model uses as inputs Spectron daily carbon, coal and gas prices (based upon closing prices) and uses UOU 2-14 day availability forecast data by unit. Where margin levels are tight an uplift is applied to reflect the increase reluctance to generate given the risk of high imbalance prices.\n",
    "\n",
    "* `Within Day Stack Price` - As with the Stack Price values, but using reduced levels of availability via the same reductions carried out for the Within Day Availability data set.\n",
    "\n",
    "* `Previous Day-Ahead Price` - Gets the last day ahead price value (last published before the auction).\n",
    "\n",
    "* `Previous Continuous Half-Hour Volume-Weighted Average Price (VWAP)` - Gets the volume weighted average price of all trades on half-hourly contracts in the continuous intraday market from 7 days before, ie on a Monday it will be for the previous Monday.\n",
    "\n",
    "* `Inertia Forecast` - a forecast for pre-balancing Inertia based upon the fundamentals based generation forecast data.\n",
    "\n",
    "Let's read and process the forecasting dataset."
   ]
  },
  {
   "cell_type": "code",
   "execution_count": 17,
   "id": "2945e939",
   "metadata": {
    "execution": {
     "iopub.execute_input": "2023-10-28T16:25:35.227519Z",
     "iopub.status.busy": "2023-10-28T16:25:35.226530Z",
     "iopub.status.idle": "2023-10-28T16:25:35.963552Z",
     "shell.execute_reply": "2023-10-28T16:25:35.962271Z"
    },
    "papermill": {
     "duration": 0.77856,
     "end_time": "2023-10-28T16:25:35.966296",
     "exception": false,
     "start_time": "2023-10-28T16:25:35.187736",
     "status": "completed"
    },
    "tags": []
   },
   "outputs": [
    {
     "name": "stdout",
     "output_type": "stream",
     "text": [
      "Duplicate rows:0\n",
      "Null Values:{'demand_plus_system_margin': 1, 'margin': 1, 'long_term_solar': 49, 'long_term_solar_over_demand': 48, 'long_term_solar_over_margin': 48, 'margin_over_demand': 1, 'snsp_forecast': 48, 'stack_price': 1, 'previous_day_ahead_price': 84, 'previous_continuous_half_hour_vwap': 34}\n",
      "\n",
      "\n"
     ]
    },
    {
     "data": {
      "text/html": [
       "<div>\n",
       "<style scoped>\n",
       "    .dataframe tbody tr th:only-of-type {\n",
       "        vertical-align: middle;\n",
       "    }\n",
       "\n",
       "    .dataframe tbody tr th {\n",
       "        vertical-align: top;\n",
       "    }\n",
       "\n",
       "    .dataframe thead th {\n",
       "        text-align: right;\n",
       "    }\n",
       "</style>\n",
       "<table border=\"1\" class=\"dataframe\">\n",
       "  <thead>\n",
       "    <tr style=\"text-align: right;\">\n",
       "      <th></th>\n",
       "      <th>Date (WET)</th>\n",
       "      <th>demand_plus_system_margin</th>\n",
       "      <th>demand</th>\n",
       "      <th>within_day_availability</th>\n",
       "      <th>margin</th>\n",
       "      <th>within_day_margin</th>\n",
       "      <th>long_term_wind</th>\n",
       "      <th>long_term_solar</th>\n",
       "      <th>long_term_wind_over_demand</th>\n",
       "      <th>long_term_wind_over_margin</th>\n",
       "      <th>long_term_solar_over_demand</th>\n",
       "      <th>long_term_solar_over_margin</th>\n",
       "      <th>margin_over_demand</th>\n",
       "      <th>snsp_forecast</th>\n",
       "      <th>stack_price</th>\n",
       "      <th>within_day_potential_stack_price</th>\n",
       "      <th>previous_day_ahead_price</th>\n",
       "      <th>previous_continuous_half_hour_vwap</th>\n",
       "      <th>inertia_forecast</th>\n",
       "    </tr>\n",
       "  </thead>\n",
       "  <tbody>\n",
       "    <tr>\n",
       "      <th>1</th>\n",
       "      <td>2021-01-01 00:00:00</td>\n",
       "      <td>56513.64</td>\n",
       "      <td>30182.0</td>\n",
       "      <td>40389.06</td>\n",
       "      <td>-26331.64</td>\n",
       "      <td>-15268.70</td>\n",
       "      <td>-3674.64</td>\n",
       "      <td>0.0</td>\n",
       "      <td>-12</td>\n",
       "      <td>-14</td>\n",
       "      <td>0.0</td>\n",
       "      <td>0.0</td>\n",
       "      <td>-87.0</td>\n",
       "      <td>29.95</td>\n",
       "      <td>67.79</td>\n",
       "      <td>68.88</td>\n",
       "      <td>65.02</td>\n",
       "      <td>59.69</td>\n",
       "      <td>214.67</td>\n",
       "    </tr>\n",
       "    <tr>\n",
       "      <th>2</th>\n",
       "      <td>2021-01-01 01:00:00</td>\n",
       "      <td>56506.94</td>\n",
       "      <td>29269.0</td>\n",
       "      <td>40389.06</td>\n",
       "      <td>-27237.94</td>\n",
       "      <td>-16191.00</td>\n",
       "      <td>-3667.94</td>\n",
       "      <td>0.0</td>\n",
       "      <td>-13</td>\n",
       "      <td>-14</td>\n",
       "      <td>0.0</td>\n",
       "      <td>0.0</td>\n",
       "      <td>-93.0</td>\n",
       "      <td>31.05</td>\n",
       "      <td>67.79</td>\n",
       "      <td>68.45</td>\n",
       "      <td>62.00</td>\n",
       "      <td>51.86</td>\n",
       "      <td>205.47</td>\n",
       "    </tr>\n",
       "    <tr>\n",
       "      <th>3</th>\n",
       "      <td>2021-01-01 02:00:00</td>\n",
       "      <td>56502.20</td>\n",
       "      <td>27245.0</td>\n",
       "      <td>40389.06</td>\n",
       "      <td>-29257.20</td>\n",
       "      <td>-18226.26</td>\n",
       "      <td>-3663.20</td>\n",
       "      <td>0.0</td>\n",
       "      <td>-14</td>\n",
       "      <td>-13</td>\n",
       "      <td>0.0</td>\n",
       "      <td>0.0</td>\n",
       "      <td>-108.0</td>\n",
       "      <td>32.80</td>\n",
       "      <td>67.73</td>\n",
       "      <td>67.79</td>\n",
       "      <td>54.16</td>\n",
       "      <td>46.29</td>\n",
       "      <td>191.12</td>\n",
       "    </tr>\n",
       "    <tr>\n",
       "      <th>4</th>\n",
       "      <td>2021-01-01 03:00:00</td>\n",
       "      <td>56487.24</td>\n",
       "      <td>25545.5</td>\n",
       "      <td>40389.06</td>\n",
       "      <td>-30941.74</td>\n",
       "      <td>-19935.30</td>\n",
       "      <td>-3648.24</td>\n",
       "      <td>0.0</td>\n",
       "      <td>-15</td>\n",
       "      <td>-12</td>\n",
       "      <td>0.0</td>\n",
       "      <td>0.0</td>\n",
       "      <td>-121.0</td>\n",
       "      <td>34.95</td>\n",
       "      <td>67.61</td>\n",
       "      <td>67.73</td>\n",
       "      <td>51.94</td>\n",
       "      <td>54.22</td>\n",
       "      <td>176.23</td>\n",
       "    </tr>\n",
       "    <tr>\n",
       "      <th>5</th>\n",
       "      <td>2021-01-01 04:00:00</td>\n",
       "      <td>56373.63</td>\n",
       "      <td>24180.0</td>\n",
       "      <td>40389.06</td>\n",
       "      <td>-32193.63</td>\n",
       "      <td>-21212.69</td>\n",
       "      <td>-3534.63</td>\n",
       "      <td>0.0</td>\n",
       "      <td>-15</td>\n",
       "      <td>-11</td>\n",
       "      <td>0.0</td>\n",
       "      <td>0.0</td>\n",
       "      <td>-134.0</td>\n",
       "      <td>36.70</td>\n",
       "      <td>66.48</td>\n",
       "      <td>67.67</td>\n",
       "      <td>49.17</td>\n",
       "      <td>57.26</td>\n",
       "      <td>163.59</td>\n",
       "    </tr>\n",
       "  </tbody>\n",
       "</table>\n",
       "</div>"
      ],
      "text/plain": [
       "           Date (WET)  demand_plus_system_margin   demand  \\\n",
       "1 2021-01-01 00:00:00                   56513.64  30182.0   \n",
       "2 2021-01-01 01:00:00                   56506.94  29269.0   \n",
       "3 2021-01-01 02:00:00                   56502.20  27245.0   \n",
       "4 2021-01-01 03:00:00                   56487.24  25545.5   \n",
       "5 2021-01-01 04:00:00                   56373.63  24180.0   \n",
       "\n",
       "   within_day_availability    margin  within_day_margin  long_term_wind  \\\n",
       "1                 40389.06 -26331.64          -15268.70        -3674.64   \n",
       "2                 40389.06 -27237.94          -16191.00        -3667.94   \n",
       "3                 40389.06 -29257.20          -18226.26        -3663.20   \n",
       "4                 40389.06 -30941.74          -19935.30        -3648.24   \n",
       "5                 40389.06 -32193.63          -21212.69        -3534.63   \n",
       "\n",
       "   long_term_solar  long_term_wind_over_demand  long_term_wind_over_margin  \\\n",
       "1              0.0                         -12                         -14   \n",
       "2              0.0                         -13                         -14   \n",
       "3              0.0                         -14                         -13   \n",
       "4              0.0                         -15                         -12   \n",
       "5              0.0                         -15                         -11   \n",
       "\n",
       "   long_term_solar_over_demand  long_term_solar_over_margin  \\\n",
       "1                          0.0                          0.0   \n",
       "2                          0.0                          0.0   \n",
       "3                          0.0                          0.0   \n",
       "4                          0.0                          0.0   \n",
       "5                          0.0                          0.0   \n",
       "\n",
       "   margin_over_demand  snsp_forecast  stack_price  \\\n",
       "1               -87.0          29.95        67.79   \n",
       "2               -93.0          31.05        67.79   \n",
       "3              -108.0          32.80        67.73   \n",
       "4              -121.0          34.95        67.61   \n",
       "5              -134.0          36.70        66.48   \n",
       "\n",
       "   within_day_potential_stack_price  previous_day_ahead_price  \\\n",
       "1                             68.88                     65.02   \n",
       "2                             68.45                     62.00   \n",
       "3                             67.79                     54.16   \n",
       "4                             67.73                     51.94   \n",
       "5                             67.67                     49.17   \n",
       "\n",
       "   previous_continuous_half_hour_vwap  inertia_forecast  \n",
       "1                               59.69            214.67  \n",
       "2                               51.86            205.47  \n",
       "3                               46.29            191.12  \n",
       "4                               54.22            176.23  \n",
       "5                               57.26            163.59  "
      ]
     },
     "execution_count": 17,
     "metadata": {},
     "output_type": "execute_result"
    }
   ],
   "source": [
    "for_df = read_preprocess('/kaggle/input/uk-energy-trading/forecast_inputs.csv')\n",
    "print('\\n')\n",
    "for_df.head()"
   ]
  },
  {
   "cell_type": "markdown",
   "id": "99eb77fa",
   "metadata": {
    "papermill": {
     "duration": 0.027782,
     "end_time": "2023-10-28T16:25:36.021804",
     "exception": false,
     "start_time": "2023-10-28T16:25:35.994022",
     "status": "completed"
    },
    "tags": []
   },
   "source": [
    "There are missing values in 10 columns we will use the same approach as before to fill the missing values, it will make sense only for columns which are having more than 1 missing values (as shown below)."
   ]
  },
  {
   "cell_type": "code",
   "execution_count": 18,
   "id": "18de57ba",
   "metadata": {
    "execution": {
     "iopub.execute_input": "2023-10-28T16:25:36.079377Z",
     "iopub.status.busy": "2023-10-28T16:25:36.078976Z",
     "iopub.status.idle": "2023-10-28T16:25:41.032877Z",
     "shell.execute_reply": "2023-10-28T16:25:41.031399Z"
    },
    "papermill": {
     "duration": 4.985865,
     "end_time": "2023-10-28T16:25:41.035465",
     "exception": false,
     "start_time": "2023-10-28T16:25:36.049600",
     "status": "completed"
    },
    "tags": []
   },
   "outputs": [
    {
     "data": {
      "text/plain": [
       "{'long_term_solar': 'Rollavg',\n",
       " 'long_term_solar_over_demand': 'Rollavg',\n",
       " 'long_term_solar_over_margin': 'Rollavg',\n",
       " 'snsp_forecast': 'Rollavg',\n",
       " 'previous_day_ahead_price': 'Rollavg',\n",
       " 'previous_continuous_half_hour_vwap': 'Rollavg'}"
      ]
     },
     "execution_count": 18,
     "metadata": {},
     "output_type": "execute_result"
    }
   ],
   "source": [
    "result_dict = miss_val_fill_method(for_df,1500,1476)\n",
    "result_dict"
   ]
  },
  {
   "cell_type": "markdown",
   "id": "98fe2d9b",
   "metadata": {
    "papermill": {
     "duration": 0.02749,
     "end_time": "2023-10-28T16:25:41.091289",
     "exception": false,
     "start_time": "2023-10-28T16:25:41.063799",
     "status": "completed"
    },
    "tags": []
   },
   "source": [
    "As the result above sugeests we should use rolling average method to fill missing values in the all of the above 6 columns."
   ]
  },
  {
   "cell_type": "code",
   "execution_count": 19,
   "id": "44744746",
   "metadata": {
    "execution": {
     "iopub.execute_input": "2023-10-28T16:25:41.149365Z",
     "iopub.status.busy": "2023-10-28T16:25:41.148964Z",
     "iopub.status.idle": "2023-10-28T16:25:41.175790Z",
     "shell.execute_reply": "2023-10-28T16:25:41.174461Z"
    },
    "papermill": {
     "duration": 0.059052,
     "end_time": "2023-10-28T16:25:41.178199",
     "exception": false,
     "start_time": "2023-10-28T16:25:41.119147",
     "status": "completed"
    },
    "tags": []
   },
   "outputs": [
    {
     "name": "stdout",
     "output_type": "stream",
     "text": [
      "missing values filled in long_term_solar\n",
      "missing values filled in long_term_solar_over_demand\n",
      "missing values filled in long_term_solar_over_margin\n",
      "missing values filled in snsp_forecast\n",
      "missing values filled in previous_day_ahead_price\n",
      "missing values filled in previous_continuous_half_hour_vwap\n"
     ]
    },
    {
     "data": {
      "text/plain": [
       "{}"
      ]
     },
     "execution_count": 19,
     "metadata": {},
     "output_type": "execute_result"
    }
   ],
   "source": [
    "for col in result_dict.keys():\n",
    "    print(f'missing values filled in {col}')\n",
    "    for_df[col] = for_df[col].fillna(for_df[col].rolling(25,min_periods=1,).mean())\n",
    "for_df = for_df.bfill()\n",
    "get_null_cols(for_df)"
   ]
  },
  {
   "cell_type": "markdown",
   "id": "18325759",
   "metadata": {
    "papermill": {
     "duration": 0.027775,
     "end_time": "2023-10-28T16:25:41.234894",
     "exception": false,
     "start_time": "2023-10-28T16:25:41.207119",
     "status": "completed"
    },
    "tags": []
   },
   "source": [
    "For convenience, we should be adding relevant features from auction data into the input data for forecasting. We can join them as we have ensured that all columns are now of numeric type and there are no missing values."
   ]
  },
  {
   "cell_type": "code",
   "execution_count": 20,
   "id": "01dafe7a",
   "metadata": {
    "execution": {
     "iopub.execute_input": "2023-10-28T16:25:41.296410Z",
     "iopub.status.busy": "2023-10-28T16:25:41.295775Z",
     "iopub.status.idle": "2023-10-28T16:25:41.343921Z",
     "shell.execute_reply": "2023-10-28T16:25:41.342613Z"
    },
    "papermill": {
     "duration": 0.08125,
     "end_time": "2023-10-28T16:25:41.346745",
     "exception": false,
     "start_time": "2023-10-28T16:25:41.265495",
     "status": "completed"
    },
    "tags": []
   },
   "outputs": [
    {
     "data": {
      "text/html": [
       "<div>\n",
       "<style scoped>\n",
       "    .dataframe tbody tr th:only-of-type {\n",
       "        vertical-align: middle;\n",
       "    }\n",
       "\n",
       "    .dataframe tbody tr th {\n",
       "        vertical-align: top;\n",
       "    }\n",
       "\n",
       "    .dataframe thead th {\n",
       "        text-align: right;\n",
       "    }\n",
       "</style>\n",
       "<table border=\"1\" class=\"dataframe\">\n",
       "  <thead>\n",
       "    <tr style=\"text-align: right;\">\n",
       "      <th></th>\n",
       "      <th>Date (WET)</th>\n",
       "      <th>demand_plus_system_margin</th>\n",
       "      <th>demand</th>\n",
       "      <th>within_day_availability</th>\n",
       "      <th>margin</th>\n",
       "      <th>within_day_margin</th>\n",
       "      <th>long_term_wind</th>\n",
       "      <th>long_term_solar</th>\n",
       "      <th>long_term_wind_over_demand</th>\n",
       "      <th>long_term_wind_over_margin</th>\n",
       "      <th>...</th>\n",
       "      <th>long_term_solar_over_margin</th>\n",
       "      <th>margin_over_demand</th>\n",
       "      <th>snsp_forecast</th>\n",
       "      <th>stack_price</th>\n",
       "      <th>within_day_potential_stack_price</th>\n",
       "      <th>previous_day_ahead_price</th>\n",
       "      <th>previous_continuous_half_hour_vwap</th>\n",
       "      <th>inertia_forecast</th>\n",
       "      <th>price_second_auction</th>\n",
       "      <th>traded_volume_second_auction</th>\n",
       "    </tr>\n",
       "  </thead>\n",
       "  <tbody>\n",
       "    <tr>\n",
       "      <th>1</th>\n",
       "      <td>2021-01-01 00:00:00</td>\n",
       "      <td>56513.64</td>\n",
       "      <td>30182.0</td>\n",
       "      <td>40389.06</td>\n",
       "      <td>-26331.64</td>\n",
       "      <td>-15268.70</td>\n",
       "      <td>-3674.64</td>\n",
       "      <td>0.0</td>\n",
       "      <td>-12</td>\n",
       "      <td>-14</td>\n",
       "      <td>...</td>\n",
       "      <td>0.0</td>\n",
       "      <td>-87.0</td>\n",
       "      <td>29.95</td>\n",
       "      <td>67.79</td>\n",
       "      <td>68.88</td>\n",
       "      <td>65.02</td>\n",
       "      <td>59.69</td>\n",
       "      <td>214.67</td>\n",
       "      <td>65.73</td>\n",
       "      <td>5102.4</td>\n",
       "    </tr>\n",
       "    <tr>\n",
       "      <th>2</th>\n",
       "      <td>2021-01-01 01:00:00</td>\n",
       "      <td>56506.94</td>\n",
       "      <td>29269.0</td>\n",
       "      <td>40389.06</td>\n",
       "      <td>-27237.94</td>\n",
       "      <td>-16191.00</td>\n",
       "      <td>-3667.94</td>\n",
       "      <td>0.0</td>\n",
       "      <td>-13</td>\n",
       "      <td>-14</td>\n",
       "      <td>...</td>\n",
       "      <td>0.0</td>\n",
       "      <td>-93.0</td>\n",
       "      <td>31.05</td>\n",
       "      <td>67.79</td>\n",
       "      <td>68.45</td>\n",
       "      <td>62.00</td>\n",
       "      <td>51.86</td>\n",
       "      <td>205.47</td>\n",
       "      <td>64.96</td>\n",
       "      <td>4771.5</td>\n",
       "    </tr>\n",
       "    <tr>\n",
       "      <th>3</th>\n",
       "      <td>2021-01-01 02:00:00</td>\n",
       "      <td>56502.20</td>\n",
       "      <td>27245.0</td>\n",
       "      <td>40389.06</td>\n",
       "      <td>-29257.20</td>\n",
       "      <td>-18226.26</td>\n",
       "      <td>-3663.20</td>\n",
       "      <td>0.0</td>\n",
       "      <td>-14</td>\n",
       "      <td>-13</td>\n",
       "      <td>...</td>\n",
       "      <td>0.0</td>\n",
       "      <td>-108.0</td>\n",
       "      <td>32.80</td>\n",
       "      <td>67.73</td>\n",
       "      <td>67.79</td>\n",
       "      <td>54.16</td>\n",
       "      <td>46.29</td>\n",
       "      <td>191.12</td>\n",
       "      <td>60.47</td>\n",
       "      <td>4176.2</td>\n",
       "    </tr>\n",
       "    <tr>\n",
       "      <th>4</th>\n",
       "      <td>2021-01-01 03:00:00</td>\n",
       "      <td>56487.24</td>\n",
       "      <td>25545.5</td>\n",
       "      <td>40389.06</td>\n",
       "      <td>-30941.74</td>\n",
       "      <td>-19935.30</td>\n",
       "      <td>-3648.24</td>\n",
       "      <td>0.0</td>\n",
       "      <td>-15</td>\n",
       "      <td>-12</td>\n",
       "      <td>...</td>\n",
       "      <td>0.0</td>\n",
       "      <td>-121.0</td>\n",
       "      <td>34.95</td>\n",
       "      <td>67.61</td>\n",
       "      <td>67.73</td>\n",
       "      <td>51.94</td>\n",
       "      <td>54.22</td>\n",
       "      <td>176.23</td>\n",
       "      <td>52.50</td>\n",
       "      <td>3755.9</td>\n",
       "    </tr>\n",
       "    <tr>\n",
       "      <th>5</th>\n",
       "      <td>2021-01-01 04:00:00</td>\n",
       "      <td>56373.63</td>\n",
       "      <td>24180.0</td>\n",
       "      <td>40389.06</td>\n",
       "      <td>-32193.63</td>\n",
       "      <td>-21212.69</td>\n",
       "      <td>-3534.63</td>\n",
       "      <td>0.0</td>\n",
       "      <td>-15</td>\n",
       "      <td>-11</td>\n",
       "      <td>...</td>\n",
       "      <td>0.0</td>\n",
       "      <td>-134.0</td>\n",
       "      <td>36.70</td>\n",
       "      <td>66.48</td>\n",
       "      <td>67.67</td>\n",
       "      <td>49.17</td>\n",
       "      <td>57.26</td>\n",
       "      <td>163.59</td>\n",
       "      <td>48.98</td>\n",
       "      <td>4047.5</td>\n",
       "    </tr>\n",
       "  </tbody>\n",
       "</table>\n",
       "<p>5 rows × 21 columns</p>\n",
       "</div>"
      ],
      "text/plain": [
       "           Date (WET)  demand_plus_system_margin   demand  \\\n",
       "1 2021-01-01 00:00:00                   56513.64  30182.0   \n",
       "2 2021-01-01 01:00:00                   56506.94  29269.0   \n",
       "3 2021-01-01 02:00:00                   56502.20  27245.0   \n",
       "4 2021-01-01 03:00:00                   56487.24  25545.5   \n",
       "5 2021-01-01 04:00:00                   56373.63  24180.0   \n",
       "\n",
       "   within_day_availability    margin  within_day_margin  long_term_wind  \\\n",
       "1                 40389.06 -26331.64          -15268.70        -3674.64   \n",
       "2                 40389.06 -27237.94          -16191.00        -3667.94   \n",
       "3                 40389.06 -29257.20          -18226.26        -3663.20   \n",
       "4                 40389.06 -30941.74          -19935.30        -3648.24   \n",
       "5                 40389.06 -32193.63          -21212.69        -3534.63   \n",
       "\n",
       "   long_term_solar  long_term_wind_over_demand  long_term_wind_over_margin  \\\n",
       "1              0.0                         -12                         -14   \n",
       "2              0.0                         -13                         -14   \n",
       "3              0.0                         -14                         -13   \n",
       "4              0.0                         -15                         -12   \n",
       "5              0.0                         -15                         -11   \n",
       "\n",
       "   ...  long_term_solar_over_margin  margin_over_demand  snsp_forecast  \\\n",
       "1  ...                          0.0               -87.0          29.95   \n",
       "2  ...                          0.0               -93.0          31.05   \n",
       "3  ...                          0.0              -108.0          32.80   \n",
       "4  ...                          0.0              -121.0          34.95   \n",
       "5  ...                          0.0              -134.0          36.70   \n",
       "\n",
       "   stack_price  within_day_potential_stack_price  previous_day_ahead_price  \\\n",
       "1        67.79                             68.88                     65.02   \n",
       "2        67.79                             68.45                     62.00   \n",
       "3        67.73                             67.79                     54.16   \n",
       "4        67.61                             67.73                     51.94   \n",
       "5        66.48                             67.67                     49.17   \n",
       "\n",
       "   previous_continuous_half_hour_vwap  inertia_forecast  price_second_auction  \\\n",
       "1                               59.69            214.67                 65.73   \n",
       "2                               51.86            205.47                 64.96   \n",
       "3                               46.29            191.12                 60.47   \n",
       "4                               54.22            176.23                 52.50   \n",
       "5                               57.26            163.59                 48.98   \n",
       "\n",
       "   traded_volume_second_auction  \n",
       "1                        5102.4  \n",
       "2                        4771.5  \n",
       "3                        4176.2  \n",
       "4                        3755.9  \n",
       "5                        4047.5  \n",
       "\n",
       "[5 rows x 21 columns]"
      ]
     },
     "execution_count": 20,
     "metadata": {},
     "output_type": "execute_result"
    }
   ],
   "source": [
    "for_df = for_df.join(auc_df[['Date (WET)','price_second_auction','traded_volume_second_auction']].set_index(\n",
    "                    'Date (WET)'),on='Date (WET)')\n",
    "for_df = for_df.bfill()\n",
    "for_df.head()"
   ]
  },
  {
   "cell_type": "markdown",
   "id": "d9ec116e",
   "metadata": {
    "papermill": {
     "duration": 0.028185,
     "end_time": "2023-10-28T16:25:41.403771",
     "exception": false,
     "start_time": "2023-10-28T16:25:41.375586",
     "status": "completed"
    },
    "tags": []
   },
   "source": [
    "#### Skewness & Outliers"
   ]
  },
  {
   "cell_type": "code",
   "execution_count": 21,
   "id": "f6c10f8c",
   "metadata": {
    "execution": {
     "iopub.execute_input": "2023-10-28T16:25:41.463262Z",
     "iopub.status.busy": "2023-10-28T16:25:41.462804Z",
     "iopub.status.idle": "2023-10-28T16:25:41.548197Z",
     "shell.execute_reply": "2023-10-28T16:25:41.546989Z"
    },
    "papermill": {
     "duration": 0.117883,
     "end_time": "2023-10-28T16:25:41.550864",
     "exception": false,
     "start_time": "2023-10-28T16:25:41.432981",
     "status": "completed"
    },
    "tags": []
   },
   "outputs": [
    {
     "data": {
      "text/plain": [
       "previous_continuous_half_hour_vwap    6.046551\n",
       "price_second_auction                  3.742994\n",
       "previous_day_ahead_price              3.217815\n",
       "within_day_potential_stack_price      1.696613\n",
       "stack_price                           1.323437\n",
       "snsp_forecast                         0.380093\n",
       "inertia_forecast                      0.262795\n",
       "demand                                0.176571\n",
       "traded_volume_second_auction          0.148789\n",
       "within_day_availability               0.081035\n",
       "long_term_wind_over_margin           -0.149518\n",
       "within_day_margin                    -0.304949\n",
       "margin                               -0.364723\n",
       "long_term_wind                       -0.434660\n",
       "long_term_wind_over_demand           -0.716600\n",
       "margin_over_demand                   -0.736933\n",
       "long_term_solar                      -1.362301\n",
       "long_term_solar_over_demand          -1.401543\n",
       "long_term_solar_over_margin          -2.216577\n",
       "dtype: float64"
      ]
     },
     "execution_count": 21,
     "metadata": {},
     "output_type": "execute_result"
    }
   ],
   "source": [
    "for_df[for_df.describe().columns[1:]].skew(axis=0, skipna=True).sort_values(ascending=False)"
   ]
  },
  {
   "cell_type": "markdown",
   "id": "2415ceba",
   "metadata": {
    "papermill": {
     "duration": 0.028427,
     "end_time": "2023-10-28T16:25:41.608405",
     "exception": false,
     "start_time": "2023-10-28T16:25:41.579978",
     "status": "completed"
    },
    "tags": []
   },
   "source": [
    "When we observe closely we see that mostly, columns related to prices are highly skewed to the right and the other long term columns with `long_term` prefix, are skewed to the left. <br> Meaning, most of these columns will have outliers (as can be seen below). But since it's a data which has \"recorded\" price data and extreme variable values are not unusual when it comes to eletricity prices for the day-ahead market.\n",
    "\n",
    "And for the long term variables where left skewing occurs, in practice, it's very much possible for their values to be close zero. Not to forget that many a times the sytems are switched off and put to rest so in short, we don't need to change or drop these values which are skewed and having zeros. We are aware that sparse datasets with high zero values can cause problems like over-fitting in the machine learning models but we are consciously considering these values to be true and eventhough there will be outliers it's by the nature of the data. So, we don't need to treat the outliers. "
   ]
  },
  {
   "cell_type": "code",
   "execution_count": 22,
   "id": "3b34617b",
   "metadata": {
    "execution": {
     "iopub.execute_input": "2023-10-28T16:25:41.667280Z",
     "iopub.status.busy": "2023-10-28T16:25:41.666870Z",
     "iopub.status.idle": "2023-10-28T16:25:42.317172Z",
     "shell.execute_reply": "2023-10-28T16:25:42.315890Z"
    },
    "papermill": {
     "duration": 0.683222,
     "end_time": "2023-10-28T16:25:42.320260",
     "exception": false,
     "start_time": "2023-10-28T16:25:41.637038",
     "status": "completed"
    },
    "tags": []
   },
   "outputs": [
    {
     "data": {
      "image/png": "[encoded data removed]",
      "text/plain": [
       "<Figure size 1000x500 with 1 Axes>"
      ]
     },
     "metadata": {},
     "output_type": "display_data"
    }
   ],
   "source": [
    "def draw_boxplot(df,cols):\n",
    "    fig = plt.figure(figsize =(10, 5))\n",
    "    # Creating axes instance\n",
    "    ax = fig.add_axes([0, 0, 1, 1])\n",
    "    # Creating plot\n",
    "    bp = ax.boxplot(df[cols]);\n",
    "    # x-axis labels\n",
    "    ax.set_xticklabels(cols, rotation=90);\n",
    "    \n",
    "draw_boxplot(for_df,for_df.columns[1:])"
   ]
  },
  {
   "cell_type": "markdown",
   "id": "a0a08391",
   "metadata": {
    "papermill": {
     "duration": 0.031317,
     "end_time": "2023-10-28T16:25:42.382846",
     "exception": false,
     "start_time": "2023-10-28T16:25:42.351529",
     "status": "completed"
    },
    "tags": []
   },
   "source": [
    "## Linear regression\n",
    "We will run a linear regression analysis on the forecast dataset. Linear regression assumes a relationship between the dependent and the independent variables. But we know from the heatmap that our data has multicollinearity so we should first make a variable selection so that we can reduce it.\n",
    "#### Checking for multicollinearity\n",
    "Since we have 21 columns it will make sense to reduce the regular correlation heatmap into a heatmap with only relavant information about highly correlated columns with correlation lesser than-0.5 or greater than 0.5."
   ]
  },
  {
   "cell_type": "code",
   "execution_count": 23,
   "id": "90088ebe",
   "metadata": {
    "execution": {
     "iopub.execute_input": "2023-10-28T16:25:42.446398Z",
     "iopub.status.busy": "2023-10-28T16:25:42.445988Z",
     "iopub.status.idle": "2023-10-28T16:25:43.411387Z",
     "shell.execute_reply": "2023-10-28T16:25:43.409952Z"
    },
    "papermill": {
     "duration": 1.001041,
     "end_time": "2023-10-28T16:25:43.414213",
     "exception": false,
     "start_time": "2023-10-28T16:25:42.413172",
     "status": "completed"
    },
    "tags": []
   },
   "outputs": [
    {
     "data": {
      "image/png": "[encoded data removed]",
      "text/plain": [
       "<Figure size 1000x1000 with 2 Axes>"
      ]
     },
     "metadata": {},
     "output_type": "display_data"
    }
   ],
   "source": [
    "plt.figure(figsize=(10,10))\n",
    "df_corr=for_df[for_df.columns[1:]].copy()\n",
    "cor_df=df_corr.corr()\n",
    "sns.heatmap(cor_df[(cor_df >= 0.5) | (cor_df <= -0.5)],annot=True,cmap='summer',mask = np.triu(cor_df),\n",
    "            annot_kws={\"fontsize\":6});"
   ]
  },
  {
   "cell_type": "markdown",
   "id": "c88802e9",
   "metadata": {
    "papermill": {
     "duration": 0.032451,
     "end_time": "2023-10-28T16:25:43.479181",
     "exception": false,
     "start_time": "2023-10-28T16:25:43.446730",
     "status": "completed"
    },
    "tags": []
   },
   "source": [
    "#### Variance Inflation Factor(VIF)\n",
    "Above heatmap suggests that there is multicollinearity in our data we will look at Variance Inflation Factor also to also consider multivariate relationships rather only bivariate relations. <br>\n",
    "If the VIF value is higher than 10, it is usually considered to have a high correlation with other independent variables. It can also be visualized by a sorted dataframe as shown below:"
   ]
  },
  {
   "cell_type": "code",
   "execution_count": 24,
   "id": "9bda0b0a",
   "metadata": {
    "execution": {
     "iopub.execute_input": "2023-10-28T16:25:43.548411Z",
     "iopub.status.busy": "2023-10-28T16:25:43.547965Z",
     "iopub.status.idle": "2023-10-28T16:25:44.589352Z",
     "shell.execute_reply": "2023-10-28T16:25:44.588246Z"
    },
    "papermill": {
     "duration": 1.079656,
     "end_time": "2023-10-28T16:25:44.592989",
     "exception": false,
     "start_time": "2023-10-28T16:25:43.513333",
     "status": "completed"
    },
    "tags": []
   },
   "outputs": [
    {
     "data": {
      "text/html": [
       "<div>\n",
       "<style scoped>\n",
       "    .dataframe tbody tr th:only-of-type {\n",
       "        vertical-align: middle;\n",
       "    }\n",
       "\n",
       "    .dataframe tbody tr th {\n",
       "        vertical-align: top;\n",
       "    }\n",
       "\n",
       "    .dataframe thead th {\n",
       "        text-align: right;\n",
       "    }\n",
       "</style>\n",
       "<table border=\"1\" class=\"dataframe\">\n",
       "  <thead>\n",
       "    <tr style=\"text-align: right;\">\n",
       "      <th></th>\n",
       "      <th>features</th>\n",
       "      <th>vif_Factor</th>\n",
       "    </tr>\n",
       "  </thead>\n",
       "  <tbody>\n",
       "    <tr>\n",
       "      <th>0</th>\n",
       "      <td>demand_plus_system_margin</td>\n",
       "      <td>1.329747e+08</td>\n",
       "    </tr>\n",
       "    <tr>\n",
       "      <th>1</th>\n",
       "      <td>demand</td>\n",
       "      <td>4.238075e+07</td>\n",
       "    </tr>\n",
       "    <tr>\n",
       "      <th>3</th>\n",
       "      <td>margin</td>\n",
       "      <td>2.881784e+07</td>\n",
       "    </tr>\n",
       "    <tr>\n",
       "      <th>2</th>\n",
       "      <td>within_day_availability</td>\n",
       "      <td>5.196508e+03</td>\n",
       "    </tr>\n",
       "    <tr>\n",
       "      <th>4</th>\n",
       "      <td>within_day_margin</td>\n",
       "      <td>7.658918e+02</td>\n",
       "    </tr>\n",
       "    <tr>\n",
       "      <th>5</th>\n",
       "      <td>long_term_wind</td>\n",
       "      <td>6.635971e+02</td>\n",
       "    </tr>\n",
       "    <tr>\n",
       "      <th>17</th>\n",
       "      <td>inertia_forecast</td>\n",
       "      <td>2.592698e+02</td>\n",
       "    </tr>\n",
       "    <tr>\n",
       "      <th>11</th>\n",
       "      <td>margin_over_demand</td>\n",
       "      <td>2.518229e+02</td>\n",
       "    </tr>\n",
       "    <tr>\n",
       "      <th>7</th>\n",
       "      <td>long_term_wind_over_demand</td>\n",
       "      <td>1.948585e+02</td>\n",
       "    </tr>\n",
       "    <tr>\n",
       "      <th>6</th>\n",
       "      <td>long_term_solar</td>\n",
       "      <td>1.822924e+02</td>\n",
       "    </tr>\n",
       "    <tr>\n",
       "      <th>12</th>\n",
       "      <td>snsp_forecast</td>\n",
       "      <td>1.396828e+02</td>\n",
       "    </tr>\n",
       "    <tr>\n",
       "      <th>9</th>\n",
       "      <td>long_term_solar_over_demand</td>\n",
       "      <td>1.087954e+02</td>\n",
       "    </tr>\n",
       "    <tr>\n",
       "      <th>8</th>\n",
       "      <td>long_term_wind_over_margin</td>\n",
       "      <td>6.156846e+01</td>\n",
       "    </tr>\n",
       "    <tr>\n",
       "      <th>13</th>\n",
       "      <td>stack_price</td>\n",
       "      <td>4.632710e+01</td>\n",
       "    </tr>\n",
       "    <tr>\n",
       "      <th>14</th>\n",
       "      <td>within_day_potential_stack_price</td>\n",
       "      <td>3.875572e+01</td>\n",
       "    </tr>\n",
       "    <tr>\n",
       "      <th>19</th>\n",
       "      <td>traded_volume_second_auction</td>\n",
       "      <td>3.248159e+01</td>\n",
       "    </tr>\n",
       "    <tr>\n",
       "      <th>10</th>\n",
       "      <td>long_term_solar_over_margin</td>\n",
       "      <td>1.227808e+01</td>\n",
       "    </tr>\n",
       "    <tr>\n",
       "      <th>18</th>\n",
       "      <td>price_second_auction</td>\n",
       "      <td>1.216410e+01</td>\n",
       "    </tr>\n",
       "    <tr>\n",
       "      <th>15</th>\n",
       "      <td>previous_day_ahead_price</td>\n",
       "      <td>1.103111e+01</td>\n",
       "    </tr>\n",
       "  </tbody>\n",
       "</table>\n",
       "</div>"
      ],
      "text/plain": [
       "                            features    vif_Factor\n",
       "0          demand_plus_system_margin  1.329747e+08\n",
       "1                             demand  4.238075e+07\n",
       "3                             margin  2.881784e+07\n",
       "2            within_day_availability  5.196508e+03\n",
       "4                  within_day_margin  7.658918e+02\n",
       "5                     long_term_wind  6.635971e+02\n",
       "17                  inertia_forecast  2.592698e+02\n",
       "11                margin_over_demand  2.518229e+02\n",
       "7         long_term_wind_over_demand  1.948585e+02\n",
       "6                    long_term_solar  1.822924e+02\n",
       "12                     snsp_forecast  1.396828e+02\n",
       "9        long_term_solar_over_demand  1.087954e+02\n",
       "8         long_term_wind_over_margin  6.156846e+01\n",
       "13                       stack_price  4.632710e+01\n",
       "14  within_day_potential_stack_price  3.875572e+01\n",
       "19      traded_volume_second_auction  3.248159e+01\n",
       "10       long_term_solar_over_margin  1.227808e+01\n",
       "18              price_second_auction  1.216410e+01\n",
       "15          previous_day_ahead_price  1.103111e+01"
      ]
     },
     "execution_count": 24,
     "metadata": {},
     "output_type": "execute_result"
    }
   ],
   "source": [
    "from statsmodels.stats.outliers_influence import variance_inflation_factor\n",
    "vif = pd.DataFrame()\n",
    "vif[\"features\"] = for_df.columns[1:]\n",
    "vif[\"vif_Factor\"] = [variance_inflation_factor(np.array(for_df[for_df.columns[1:]].values, dtype=float), i) \n",
    "                     for i in range(for_df.shape[1]-1)]\n",
    "vif[vif.vif_Factor>10].sort_values(by='vif_Factor',ascending=False)"
   ]
  },
  {
   "cell_type": "markdown",
   "id": "05f15a21",
   "metadata": {
    "papermill": {
     "duration": 0.045864,
     "end_time": "2023-10-28T16:25:44.708184",
     "exception": false,
     "start_time": "2023-10-28T16:25:44.662320",
     "status": "completed"
    },
    "tags": []
   },
   "source": [
    "Based on the correlation heatmap and Variance Inflation Factor analysis above:\n",
    "* We can drop `demand_plus_system_margin` as it is derived from `demand` and `margin` and is correlated with `within_day_availability`.\n",
    "* `long_term_wind_over_demand`, `long_term_solar_over_demand`, `margin_over_demand`, `long_term_wind_over_margin`, `long_term_solar_over_margin` should also be dropped as they are derived variables. It will also help us to reduce the sparsity of the dataset.\n",
    "* `within_day_margin`, `within_day_potential_stack_price` is dependant on `margin` and `stack_price` respectively so they can be dropped too. \n",
    "*  We can drop `traded_volume_second_auction` as it will not be available at the actual time when we will do the forecast so we will not consider it here.\n",
    "\n",
    "Hence, in our feature columns we will exclude these columns.\n",
    "##### Train-test split\n",
    "As it is a sequential data, we are splitting the dataset based on a date (Feb end 2022)."
   ]
  },
  {
   "cell_type": "code",
   "execution_count": 25,
   "id": "c801f4fe",
   "metadata": {
    "execution": {
     "iopub.execute_input": "2023-10-28T16:25:44.776291Z",
     "iopub.status.busy": "2023-10-28T16:25:44.775904Z",
     "iopub.status.idle": "2023-10-28T16:25:44.818429Z",
     "shell.execute_reply": "2023-10-28T16:25:44.816876Z"
    },
    "papermill": {
     "duration": 0.079551,
     "end_time": "2023-10-28T16:25:44.820977",
     "exception": false,
     "start_time": "2023-10-28T16:25:44.741426",
     "status": "completed"
    },
    "tags": []
   },
   "outputs": [
    {
     "name": "stdout",
     "output_type": "stream",
     "text": [
      "68.4:31.6\n"
     ]
    }
   ],
   "source": [
    "from sklearn.model_selection import train_test_split\n",
    "feature_col_names = ['demand','within_day_availability', 'margin','long_term_wind', \n",
    "                     'long_term_solar', 'snsp_forecast','previous_day_ahead_price', \n",
    "                     'previous_continuous_half_hour_vwap','inertia_forecast','stack_price']\n",
    "\n",
    "\n",
    "predict_col_name = ['price_second_auction']\n",
    "\n",
    "for_df = for_df.set_index('Date (WET)') \n",
    "train = for_df.loc[:'2022-02-28']\n",
    "test = for_df.loc['2022-03-01':]\n",
    "\n",
    "X_train= train[feature_col_names]\n",
    "X_test= test[feature_col_names]\n",
    "y_train= train[predict_col_name]\n",
    "y_test= test[predict_col_name]\n",
    "\n",
    "print(f\"{round(len(train)*100/len(for_df),2)}:{round(len(test)*100/len(for_df),2)}\")"
   ]
  },
  {
   "cell_type": "markdown",
   "id": "70d6ed89",
   "metadata": {
    "papermill": {
     "duration": 0.032772,
     "end_time": "2023-10-28T16:25:44.887984",
     "exception": false,
     "start_time": "2023-10-28T16:25:44.855212",
     "status": "completed"
    },
    "tags": []
   },
   "source": [
    "It's an almost 70:30 split. Which is an ideal proportion. Now, we can go ahead and implement linear regression for forecasting."
   ]
  },
  {
   "cell_type": "code",
   "execution_count": 26,
   "id": "c52addbe",
   "metadata": {
    "execution": {
     "iopub.execute_input": "2023-10-28T16:25:44.955617Z",
     "iopub.status.busy": "2023-10-28T16:25:44.954587Z",
     "iopub.status.idle": "2023-10-28T16:25:45.127372Z",
     "shell.execute_reply": "2023-10-28T16:25:45.125826Z"
    },
    "papermill": {
     "duration": 0.211111,
     "end_time": "2023-10-28T16:25:45.131741",
     "exception": false,
     "start_time": "2023-10-28T16:25:44.920630",
     "status": "completed"
    },
    "tags": []
   },
   "outputs": [
    {
     "data": {
      "text/html": [
       "<style>#sk-container-id-1 {color: black;background-color: white;}#sk-container-id-1 pre{padding: 0;}#sk-container-id-1 div.sk-toggleable {background-color: white;}#sk-container-id-1 label.sk-toggleable__label {cursor: pointer;display: block;width: 100%;margin-bottom: 0;padding: 0.3em;box-sizing: border-box;text-align: center;}#sk-container-id-1 label.sk-toggleable__label-arrow:before {content: \"▸\";float: left;margin-right: 0.25em;color: #696969;}#sk-container-id-1 label.sk-toggleable__label-arrow:hover:before {color: black;}#sk-container-id-1 div.sk-estimator:hover label.sk-toggleable__label-arrow:before {color: black;}#sk-container-id-1 div.sk-toggleable__content {max-height: 0;max-width: 0;overflow: hidden;text-align: left;background-color: #f0f8ff;}#sk-container-id-1 div.sk-toggleable__content pre {margin: 0.2em;color: black;border-radius: 0.25em;background-color: #f0f8ff;}#sk-container-id-1 input.sk-toggleable__control:checked~div.sk-toggleable__content {max-height: 200px;max-width: 100%;overflow: auto;}#sk-container-id-1 input.sk-toggleable__control:checked~label.sk-toggleable__label-arrow:before {content: \"▾\";}#sk-container-id-1 div.sk-estimator input.sk-toggleable__control:checked~label.sk-toggleable__label {background-color: #d4ebff;}#sk-container-id-1 div.sk-label input.sk-toggleable__control:checked~label.sk-toggleable__label {background-color: #d4ebff;}#sk-container-id-1 input.sk-hidden--visually {border: 0;clip: rect(1px 1px 1px 1px);clip: rect(1px, 1px, 1px, 1px);height: 1px;margin: -1px;overflow: hidden;padding: 0;position: absolute;width: 1px;}#sk-container-id-1 div.sk-estimator {font-family: monospace;background-color: #f0f8ff;border: 1px dotted black;border-radius: 0.25em;box-sizing: border-box;margin-bottom: 0.5em;}#sk-container-id-1 div.sk-estimator:hover {background-color: #d4ebff;}#sk-container-id-1 div.sk-parallel-item::after {content: \"\";width: 100%;border-bottom: 1px solid gray;flex-grow: 1;}#sk-container-id-1 div.sk-label:hover label.sk-toggleable__label {background-color: #d4ebff;}#sk-container-id-1 div.sk-serial::before {content: \"\";position: absolute;border-left: 1px solid gray;box-sizing: border-box;top: 0;bottom: 0;left: 50%;z-index: 0;}#sk-container-id-1 div.sk-serial {display: flex;flex-direction: column;align-items: center;background-color: white;padding-right: 0.2em;padding-left: 0.2em;position: relative;}#sk-container-id-1 div.sk-item {position: relative;z-index: 1;}#sk-container-id-1 div.sk-parallel {display: flex;align-items: stretch;justify-content: center;background-color: white;position: relative;}#sk-container-id-1 div.sk-item::before, #sk-container-id-1 div.sk-parallel-item::before {content: \"\";position: absolute;border-left: 1px solid gray;box-sizing: border-box;top: 0;bottom: 0;left: 50%;z-index: -1;}#sk-container-id-1 div.sk-parallel-item {display: flex;flex-direction: column;z-index: 1;position: relative;background-color: white;}#sk-container-id-1 div.sk-parallel-item:first-child::after {align-self: flex-end;width: 50%;}#sk-container-id-1 div.sk-parallel-item:last-child::after {align-self: flex-start;width: 50%;}#sk-container-id-1 div.sk-parallel-item:only-child::after {width: 0;}#sk-container-id-1 div.sk-dashed-wrapped {border: 1px dashed gray;margin: 0 0.4em 0.5em 0.4em;box-sizing: border-box;padding-bottom: 0.4em;background-color: white;}#sk-container-id-1 div.sk-label label {font-family: monospace;font-weight: bold;display: inline-block;line-height: 1.2em;}#sk-container-id-1 div.sk-label-container {text-align: center;}#sk-container-id-1 div.sk-container {/* jupyter's `normalize.less` sets `[hidden] { display: none; }` but bootstrap.min.css set `[hidden] { display: none !important; }` so we also need the `!important` here to be able to override the default hidden behavior on the sphinx rendered scikit-learn.org. See: https://github.com/scikit-learn/scikit-learn/issues/21755 */display: inline-block !important;position: relative;}#sk-container-id-1 div.sk-text-repr-fallback {display: none;}</style><div id=\"sk-container-id-1\" class=\"sk-top-container\"><div class=\"sk-text-repr-fallback\"><pre>LinearRegression()</pre><b>In a Jupyter environment, please rerun this cell to show the HTML representation or trust the notebook. <br />On GitHub, the HTML representation is unable to render, please try loading this page with nbviewer.org.</b></div><div class=\"sk-container\" hidden><div class=\"sk-item\"><div class=\"sk-estimator sk-toggleable\"><input class=\"sk-toggleable__control sk-hidden--visually\" id=\"sk-estimator-id-1\" type=\"checkbox\" checked><label for=\"sk-estimator-id-1\" class=\"sk-toggleable__label sk-toggleable__label-arrow\">LinearRegression</label><div class=\"sk-toggleable__content\"><pre>LinearRegression()</pre></div></div></div></div></div>"
      ],
      "text/plain": [
       "LinearRegression()"
      ]
     },
     "execution_count": 26,
     "metadata": {},
     "output_type": "execute_result"
    }
   ],
   "source": [
    "from sklearn.linear_model import LinearRegression\n",
    "linreg = LinearRegression()\n",
    "linreg.fit(X_train, y_train)"
   ]
  },
  {
   "cell_type": "markdown",
   "id": "30f615b2",
   "metadata": {
    "papermill": {
     "duration": 0.044851,
     "end_time": "2023-10-28T16:25:45.249227",
     "exception": false,
     "start_time": "2023-10-28T16:25:45.204376",
     "status": "completed"
    },
    "tags": []
   },
   "source": [
    "We will use performance matrix to understand the performance of the model. We will use R square and root mean square error (RMSE) for this. The purpose of using metrics is to evaluate which model works best on the dataset.\n",
    "\n",
    "As we know that adjusted R-squared compensates for the addition of variables and only increases if the new term enhances the models. So we will also consider adjusted R-square to compare the models."
   ]
  },
  {
   "cell_type": "code",
   "execution_count": 27,
   "id": "a8889f42",
   "metadata": {
    "execution": {
     "iopub.execute_input": "2023-10-28T16:25:45.317427Z",
     "iopub.status.busy": "2023-10-28T16:25:45.317046Z",
     "iopub.status.idle": "2023-10-28T16:25:45.913941Z",
     "shell.execute_reply": "2023-10-28T16:25:45.913015Z"
    },
    "papermill": {
     "duration": 0.6335,
     "end_time": "2023-10-28T16:25:45.915970",
     "exception": false,
     "start_time": "2023-10-28T16:25:45.282470",
     "status": "completed"
    },
    "tags": []
   },
   "outputs": [
    {
     "name": "stdout",
     "output_type": "stream",
     "text": [
      "R square on training data: 0.63\n",
      "R square on testing data: 0.82\n",
      "Adj. R square on training data: 63.06 %\n",
      "Adj. R square on testing data: 82.44 %\n",
      "RMSE on train data: 62.05\n",
      "RMSE on test data: 46.14\n",
      "\n",
      "\n"
     ]
    },
    {
     "data": {
      "image/png": "[encoded data removed]",
      "text/plain": [
       "<Figure size 640x480 with 1 Axes>"
      ]
     },
     "metadata": {},
     "output_type": "display_data"
    }
   ],
   "source": [
    "Rsq_train = linreg.score(X_train, y_train)\n",
    "print(\"R square on training data: {}\".format(round(Rsq_train,2)))\n",
    "Rsq = linreg.score(X_test, y_test)\n",
    "print(\"R square on testing data: {}\".format(round(Rsq,2)))\n",
    "adj_r2 = (1 - (1 - Rsq_train) * ((X_train.shape[0] - 1) / \n",
    "          (X_train.shape[0] - X_train.shape[1] - 1)))\n",
    "print(\"Adj. R square on training data: {} %\".format(round(adj_r2*100,2)))\n",
    "adj_r2 = (1 - (1 - Rsq) * ((X_test.shape[0] - 1) / \n",
    "          (X_test.shape[0] - X_test.shape[1] - 1)))\n",
    "print(\"Adj. R square on testing data: {} %\".format(round(adj_r2*100,2)))\n",
    "y_train_pred = linreg.predict(X_train)\n",
    "y_pred = linreg.predict(X_test)\n",
    "print(\"RMSE on train data: {}\".format(round(np.sqrt(metrics.mean_squared_error(y_train,y_train_pred)),2)))\n",
    "print(\"RMSE on test data: {}\".format(round(np.sqrt(metrics.mean_squared_error(y_test,y_pred)),2)))\n",
    "\n",
    "print('\\n')\n",
    "plt.scatter(x=y_test['price_second_auction'],y=y_pred);\n",
    "plt.title('Actual vs Predicted scatter plot');\n",
    "plt.xlabel(\"Actual price\")\n",
    "plt.ylabel(\"Predicted price\");"
   ]
  },
  {
   "cell_type": "markdown",
   "id": "6ff7d918",
   "metadata": {
    "papermill": {
     "duration": 0.033783,
     "end_time": "2023-10-28T16:25:45.984376",
     "exception": false,
     "start_time": "2023-10-28T16:25:45.950593",
     "status": "completed"
    },
    "tags": []
   },
   "source": [
    "The model really generalised on the data set with the R square metric of 82 percent on test data and it is notable that testing R square is way greater than training R square 63%. Meaning 82 percent of the variations in the test data is explained by the predictors with out overfitting on the train data."
   ]
  },
  {
   "cell_type": "code",
   "execution_count": 28,
   "id": "7ba951bc",
   "metadata": {
    "execution": {
     "iopub.execute_input": "2023-10-28T16:25:46.055016Z",
     "iopub.status.busy": "2023-10-28T16:25:46.054213Z",
     "iopub.status.idle": "2023-10-28T16:25:46.663113Z",
     "shell.execute_reply": "2023-10-28T16:25:46.661852Z"
    },
    "papermill": {
     "duration": 0.649328,
     "end_time": "2023-10-28T16:25:46.667890",
     "exception": false,
     "start_time": "2023-10-28T16:25:46.018562",
     "status": "completed"
    },
    "tags": []
   },
   "outputs": [
    {
     "data": {
      "image/png": "[encoded data removed]",
      "text/plain": [
       "<Figure size 2000x400 with 1 Axes>"
      ]
     },
     "metadata": {},
     "output_type": "display_data"
    }
   ],
   "source": [
    "def plot_result(col,title,y_test_pred,y_train_pred): \n",
    "    plt.figure(figsize=(20,4))\n",
    "    plt.grid()\n",
    "    plt.plot(train[col].loc['2022-02-01':'2022-02-28'], label='Train data')\n",
    "    plt.plot(test[col].loc['2022-03-01':'2022-04-01'], label='Test data')\n",
    "    if len(y_train_pred)!=0:\n",
    "        plt.plot(train.index[9506:10154], y_train_pred[9506:10154], label=title+\": Train data\")\n",
    "    plt.plot(test.index[:743], y_test_pred[:743], label=title+\": Test data\")\n",
    "    plt.legend(loc='best')\n",
    "    plt.title(f\"{title} on {col} data\")\n",
    "    plt.xlabel(\"Date\")\n",
    "    plt.ylabel(\"price (2nd Auction)\");\n",
    "plot_result('price_second_auction','Linear Regression results',y_pred,linreg.predict(X_train))"
   ]
  },
  {
   "cell_type": "markdown",
   "id": "1c20bdb9",
   "metadata": {
    "papermill": {
     "duration": 0.041766,
     "end_time": "2023-10-28T16:25:46.748384",
     "exception": false,
     "start_time": "2023-10-28T16:25:46.706618",
     "status": "completed"
    },
    "tags": []
   },
   "source": [
    "As it was hard to compare the whole plot for visual inspection with almost 15000 data points so we need to take a look at a subset of this dataset. In the plot above, we are looking at 650 data point closer to the test and train split point (Feb end 2022).\n",
    "#### Symmetric Mean Absolute Percentage Error (SMAPE)"
   ]
  },
  {
   "cell_type": "code",
   "execution_count": 29,
   "id": "ad79ff26",
   "metadata": {
    "execution": {
     "iopub.execute_input": "2023-10-28T16:25:46.823520Z",
     "iopub.status.busy": "2023-10-28T16:25:46.823130Z",
     "iopub.status.idle": "2023-10-28T16:25:46.832102Z",
     "shell.execute_reply": "2023-10-28T16:25:46.831021Z"
    },
    "papermill": {
     "duration": 0.049556,
     "end_time": "2023-10-28T16:25:46.834601",
     "exception": false,
     "start_time": "2023-10-28T16:25:46.785045",
     "status": "completed"
    },
    "tags": []
   },
   "outputs": [
    {
     "data": {
      "text/plain": [
       "17.1"
      ]
     },
     "execution_count": 29,
     "metadata": {},
     "output_type": "execute_result"
    }
   ],
   "source": [
    "def smape(Actual, Forcasted):\n",
    "    return 100/len(Actual) * np.sum(2 * np.abs(Forcasted - Actual) / (np.abs(Actual) + np.abs(Forcasted)))\n",
    "\n",
    "round(smape(test['price_second_auction'].values,  y_pred.ravel()),2)"
   ]
  },
  {
   "cell_type": "markdown",
   "id": "382393db",
   "metadata": {
    "papermill": {
     "duration": 0.037538,
     "end_time": "2023-10-28T16:25:46.909575",
     "exception": false,
     "start_time": "2023-10-28T16:25:46.872037",
     "status": "completed"
    },
    "tags": []
   },
   "source": [
    "Smape score with Linear regression for this forecast is already nice. 10-20% is considered a good forecast though for a highly accurate forecast Smape score should be lower than 10%.<br>\n",
    "But for our purpose we can use Linear regression as our final model. Using this model, we can have the `price_forecast_second_auction`. Let's first ensure that the rows for both auction and forecasting data is same."
   ]
  },
  {
   "cell_type": "code",
   "execution_count": 30,
   "id": "d0b8b91a",
   "metadata": {
    "execution": {
     "iopub.execute_input": "2023-10-28T16:25:46.984957Z",
     "iopub.status.busy": "2023-10-28T16:25:46.984512Z",
     "iopub.status.idle": "2023-10-28T16:25:46.997941Z",
     "shell.execute_reply": "2023-10-28T16:25:46.996618Z"
    },
    "papermill": {
     "duration": 0.054028,
     "end_time": "2023-10-28T16:25:47.000373",
     "exception": false,
     "start_time": "2023-10-28T16:25:46.946345",
     "status": "completed"
    },
    "tags": []
   },
   "outputs": [
    {
     "name": "stdout",
     "output_type": "stream",
     "text": [
      "rows in forecasting data: 14878\n",
      "rows in auction data: 14878\n"
     ]
    }
   ],
   "source": [
    "auc_df = auc_df.set_index('Date (WET)') \n",
    "auc_df = auc_df[~auc_df.index.duplicated()]\n",
    "for_df = for_df[~for_df.index.duplicated()]\n",
    "print(f\"rows in forecasting data: {for_df.shape[0]}\")\n",
    "print(f\"rows in auction data: {auc_df.shape[0]}\")"
   ]
  },
  {
   "cell_type": "markdown",
   "id": "6e716116",
   "metadata": {
    "papermill": {
     "duration": 0.036403,
     "end_time": "2023-10-28T16:25:47.073821",
     "exception": false,
     "start_time": "2023-10-28T16:25:47.037418",
     "status": "completed"
    },
    "tags": []
   },
   "source": [
    "#### Forecasting the second auction price"
   ]
  },
  {
   "cell_type": "code",
   "execution_count": 31,
   "id": "70a88edd",
   "metadata": {
    "execution": {
     "iopub.execute_input": "2023-10-28T16:25:47.149256Z",
     "iopub.status.busy": "2023-10-28T16:25:47.148788Z",
     "iopub.status.idle": "2023-10-28T16:25:47.190134Z",
     "shell.execute_reply": "2023-10-28T16:25:47.188498Z"
    },
    "papermill": {
     "duration": 0.083997,
     "end_time": "2023-10-28T16:25:47.194482",
     "exception": false,
     "start_time": "2023-10-28T16:25:47.110485",
     "status": "completed"
    },
    "tags": []
   },
   "outputs": [
    {
     "data": {
      "text/html": [
       "<div>\n",
       "<style scoped>\n",
       "    .dataframe tbody tr th:only-of-type {\n",
       "        vertical-align: middle;\n",
       "    }\n",
       "\n",
       "    .dataframe tbody tr th {\n",
       "        vertical-align: top;\n",
       "    }\n",
       "\n",
       "    .dataframe thead th {\n",
       "        text-align: right;\n",
       "    }\n",
       "</style>\n",
       "<table border=\"1\" class=\"dataframe\">\n",
       "  <thead>\n",
       "    <tr style=\"text-align: right;\">\n",
       "      <th></th>\n",
       "      <th>price_first_auction</th>\n",
       "      <th>price_second_auction</th>\n",
       "      <th>traded_volume_first_auction</th>\n",
       "      <th>traded_volume_second_auction</th>\n",
       "      <th>price_forecast_first_auction</th>\n",
       "      <th>price_forecast_second_auction</th>\n",
       "    </tr>\n",
       "    <tr>\n",
       "      <th>Date (WET)</th>\n",
       "      <th></th>\n",
       "      <th></th>\n",
       "      <th></th>\n",
       "      <th></th>\n",
       "      <th></th>\n",
       "      <th></th>\n",
       "    </tr>\n",
       "  </thead>\n",
       "  <tbody>\n",
       "    <tr>\n",
       "      <th>2021-01-01 00:00:00</th>\n",
       "      <td>68.0</td>\n",
       "      <td>65.73</td>\n",
       "      <td>2923.7</td>\n",
       "      <td>5102.4</td>\n",
       "      <td>54.19</td>\n",
       "      <td>64.956097</td>\n",
       "    </tr>\n",
       "    <tr>\n",
       "      <th>2021-01-01 01:00:00</th>\n",
       "      <td>62.7</td>\n",
       "      <td>64.96</td>\n",
       "      <td>2825.0</td>\n",
       "      <td>4771.5</td>\n",
       "      <td>53.42</td>\n",
       "      <td>60.893960</td>\n",
       "    </tr>\n",
       "    <tr>\n",
       "      <th>2021-01-01 02:00:00</th>\n",
       "      <td>56.0</td>\n",
       "      <td>60.47</td>\n",
       "      <td>2611.4</td>\n",
       "      <td>4176.2</td>\n",
       "      <td>50.13</td>\n",
       "      <td>52.561914</td>\n",
       "    </tr>\n",
       "    <tr>\n",
       "      <th>2021-01-01 03:00:00</th>\n",
       "      <td>50.1</td>\n",
       "      <td>52.50</td>\n",
       "      <td>2669.3</td>\n",
       "      <td>3755.9</td>\n",
       "      <td>50.28</td>\n",
       "      <td>49.683111</td>\n",
       "    </tr>\n",
       "    <tr>\n",
       "      <th>2021-01-01 04:00:00</th>\n",
       "      <td>50.0</td>\n",
       "      <td>48.98</td>\n",
       "      <td>2741.4</td>\n",
       "      <td>4047.5</td>\n",
       "      <td>47.19</td>\n",
       "      <td>46.643551</td>\n",
       "    </tr>\n",
       "  </tbody>\n",
       "</table>\n",
       "</div>"
      ],
      "text/plain": [
       "                     price_first_auction  price_second_auction  \\\n",
       "Date (WET)                                                       \n",
       "2021-01-01 00:00:00                 68.0                 65.73   \n",
       "2021-01-01 01:00:00                 62.7                 64.96   \n",
       "2021-01-01 02:00:00                 56.0                 60.47   \n",
       "2021-01-01 03:00:00                 50.1                 52.50   \n",
       "2021-01-01 04:00:00                 50.0                 48.98   \n",
       "\n",
       "                     traded_volume_first_auction  \\\n",
       "Date (WET)                                         \n",
       "2021-01-01 00:00:00                       2923.7   \n",
       "2021-01-01 01:00:00                       2825.0   \n",
       "2021-01-01 02:00:00                       2611.4   \n",
       "2021-01-01 03:00:00                       2669.3   \n",
       "2021-01-01 04:00:00                       2741.4   \n",
       "\n",
       "                     traded_volume_second_auction  \\\n",
       "Date (WET)                                          \n",
       "2021-01-01 00:00:00                        5102.4   \n",
       "2021-01-01 01:00:00                        4771.5   \n",
       "2021-01-01 02:00:00                        4176.2   \n",
       "2021-01-01 03:00:00                        3755.9   \n",
       "2021-01-01 04:00:00                        4047.5   \n",
       "\n",
       "                     price_forecast_first_auction  \\\n",
       "Date (WET)                                          \n",
       "2021-01-01 00:00:00                         54.19   \n",
       "2021-01-01 01:00:00                         53.42   \n",
       "2021-01-01 02:00:00                         50.13   \n",
       "2021-01-01 03:00:00                         50.28   \n",
       "2021-01-01 04:00:00                         47.19   \n",
       "\n",
       "                     price_forecast_second_auction  \n",
       "Date (WET)                                          \n",
       "2021-01-01 00:00:00                      64.956097  \n",
       "2021-01-01 01:00:00                      60.893960  \n",
       "2021-01-01 02:00:00                      52.561914  \n",
       "2021-01-01 03:00:00                      49.683111  \n",
       "2021-01-01 04:00:00                      46.643551  "
      ]
     },
     "execution_count": 31,
     "metadata": {},
     "output_type": "execute_result"
    }
   ],
   "source": [
    "auc_df['price_forecast_second_auction'] = linreg.predict(for_df[feature_col_names])\n",
    "auc_df.head()"
   ]
  },
  {
   "cell_type": "markdown",
   "id": "7e56444c",
   "metadata": {
    "papermill": {
     "duration": 0.038855,
     "end_time": "2023-10-28T16:25:47.315890",
     "exception": false,
     "start_time": "2023-10-28T16:25:47.277035",
     "status": "completed"
    },
    "tags": []
   },
   "source": [
    "# 3. Determining the optimal non-physical trading strategy: \n",
    "> **Context**: The day-ahead market seeks to arrange most of the short-term supply and demand the day prior to delivery times due to technical considerations and risk mitigation. Day-ahead markets usually consist of sealed-bid pay-as-cleared auctions where market participants submit price-volume bids to buy or sell electricity for the 24 hours of the next operating day. Meaning that every auction participant submits a bid of how much energy to buy or sell at a certain price without knowing the other bids. Within pay-as-cleared a uniform price for both buyers and sellers is determined by the market clearing price based on the so-called merit-order-model. All sell orders below this clearing price and all buy orders above this clearing price will be accepted and priced at the clearance price. <br>\n",
    "> Based on the above context, we need to develop a little trading algorithm that maximizes profits from financial trades between two day- ahead auctions in Great Britain. The two auctions:\n",
    "> * function as mentioned with sealed bids and based on the pay-as-cleared mechanism.\n",
    "> * market hourly bundles of electricity, so auction participants submit bids to buy or sell electricity for every\n",
    "> hour of the next operating day.\n",
    "> * are sequential, meaning that you first must submit your bids for the first auction, wait for its results and\n",
    "> afterwards submit your bids for the second auction (a bid consists of a volume you want to buy or sell and\n",
    "> the price you want to pay or receive).\n",
    "\n",
    "Now we need to determine the optimal trading strategy. The trading strategy should be designed to maximize profits from the non-physical financial trades between the two auctions. We can use various optimization techniques such as linear programming or dynamic programming to determine the optimal trading strategy. Let's break down our optimization problem first:\n",
    "\n",
    "If $V_{s}$ and $V_{b}$ are volumes of electricty sold and bought for an hour respectively. Whereas $P_{s}$ and $P_{b}$ are selling price and purchasing prices in GBP/MWh respectively, and $F_{t}$ = 5 GBP/MWh is the fee per trade (We are assuming that every trade results in 5 GBP/MWh of costs for taxes and fees which we must account for in\n",
    "our strategy.), then:\n",
    "* **Objective function**: \n",
    "1. Profit maximization for a whole day from financial trades (including system prices) in 2 day-ahead auctions: <br><br>$$maxZ = \\sum (V_{s}P_{s})-\\sum (V_{b}P_{b}) - V_{t}F_{t} + \\Delta P_{sys}$$ $$V_{t} = \\sum (V_{s} + V_{b})$$ Where $V_{t}$ is total volume traded in a day and $\\Delta P_{sys}$ is the post auction system price settlement in a day, which can be both positive and negative depending on the energy imbalance ($\\Delta$) when $\\sum V_{s} \\neq \\sum V_{b}$. <br><br>\n",
    "2. Risk minimization from energy imbalance. This objective is not required to be met if we aim for $\\Delta = 0$. Otherwise we need to minimize it: $$maxZ=\\begin{equation}\n",
    "\\left\\{ \n",
    "  \\begin{aligned}\n",
    "    & -\\sum (V_{b}P_{b}) - V_{b}F_{t} + \\Delta P_{sys} &if \\,&  V_{s}=0\\\\\n",
    "    & \\sum (V_{s}P_{s}) - V_{s}F_{t} + \\Delta P_{sys} &if \\,&  V_{b}=0\\\\\n",
    "    & \\sum (V_{s}P_{s})-\\sum (V_{b}P_{b}) - V_{t}F_{t} + \\Delta P_{sys} & else\\\\\n",
    "  \\end{aligned}\n",
    "  \\right.\n",
    "\\end{equation}\n",
    "$$\n",
    "<br><br>\n",
    "* **Constraints**: \n",
    "1. **Net position**: As we act as a non-physical trader, our net position resulting from the trades on the two auctions should be zero for all timesteps, as we cannot provide this net position to the grid on the next day. The difference between our net market position after both auctions and the energy you can provide will be settled with the so-called system prices. <br>Ideally, net position resulting from the trades on the two auctions should be zero for all timesteps or otherwise we need to pay for the energy imbalance with system price. <br>We are also considering Minimum price and volume increments: Pricetick: 0.1 GBP/MWh and Volumetick: 0.1 MW<br><br>$$ V_{s}- V_{b} = 0 $$ $$ V_{s},V_{b} \\ge 0.1 MW$$ $$B_{t} \\ge P_{s}, P_{b} \\ge 0.1 GBP/MWh $$  Where $B_{t}$ is the maximum allocated budget per trade. <br><br>2. **Bid acceptance** We must account for the cases where we did not get accepted if our sell bid is above or the buy bid is below the clearing price. Bid acceptance through pay-as-cleared price ($P_{c}$):<br><br> $$P_{s}=\\begin{equation}\n",
    "\\left\\{ \n",
    "  \\begin{aligned}\n",
    "    & P_{c} &if \\,&  P_{s} < P_{c}\\\\\n",
    "    & 0 & else\\\\\n",
    "  \\end{aligned}\n",
    "  \\right.\n",
    "\\end{equation}\n",
    "$$\n",
    "$$P_{b}=\\begin{equation}\n",
    "\\left\\{ \n",
    "  \\begin{aligned}\n",
    "    & P_{c} &if \\,&  P_{b} > P_{c}\\\\\n",
    "    & 0 & else\\\\\n",
    "  \\end{aligned}\n",
    "  \\right.\n",
    "\\end{equation}\n",
    "$$\n",
    "Other constraints include: sealed bids, sequential bidding.\n",
    "<br><br>\n",
    "* **Controllable Decision variables**: $V_{s}$, $V_{b}$, $P_{s}$ and $P_{b}$ bids to buy/sell electricity for every hour of the next operating day. (a bid consists of a volume you want to buy or sell and the price you want to pay or receive)\n",
    "<br><br>\n",
    "* **Inputs**: Price forecasts for both auctions and forecasted price range of the system prices.\n",
    "\n",
    "Note: Negative values for energy translates to buying and vice versa positive values translates to selling of energy to the market.\n",
    "\n",
    "**System prices**: \n",
    "* When partcipant has generated less power or used more power then they need to buy that amount of power at system price.\n",
    "* When partcipant has generated more power or used less power then they need to sell that amount of power at system price.\n",
    "* Long System: When System prices are negative; supply is overwhelming but demand is low. Consumers are paid to consume power. As traders we should provide less energy than planned to profit from it.\n",
    "* Short System: When System prices are positive; supply is low and demand is high. As traders we should provide more energy than planned to profit from it.\n",
    "\n",
    "So, it’s also possible to earn money with system prices from either providing less energy than planned to\n",
    "the system (if system prices are negative) or from taking demand out of the market (if system prices are\n",
    "positive).\n",
    "* Though at the time of the auctions, we do not know exactly what the system price will be, we only have a forecast of its price range available.\n",
    "\n",
    "## 3.1. Base-level naive strategy to benchmark other startegies\n",
    "**Strategy**: Contracting based on the forecasted price change for each period with zero energy imbalance in the day-ahead market. \n",
    "* If forecasted price went higher than the trading cost (i.e. forecasted_price_diff >10GBP) in 2nd auction then buy 10MW in 1st auction and sell 10MW in the 2nd auction.\n",
    "* If forecasted price went lower than the trading cost (i.e. forecasted_price_diff <-10GBP) in 2nd auction then sell 10MW in 1st auction and buy 10MW in the 2nd auction.\n",
    "\n",
    "$$Profit: Z = (10*P_{s})- (10*P_{b}) - 20*5 + 0$$\n",
    "\n",
    "**Evaluation**: we can use various metrics such as profit margin, return on investment, and accuracy to evaluate the performance of the algorithm and optimize it further.\n",
    "\n",
    "For the implementation, we will need to get the difference between forecasted prices. We will also need to merge auction and system price data.\n"
   ]
  },
  {
   "cell_type": "code",
   "execution_count": 32,
   "id": "ae486c40",
   "metadata": {
    "execution": {
     "iopub.execute_input": "2023-10-28T16:25:47.393331Z",
     "iopub.status.busy": "2023-10-28T16:25:47.392910Z",
     "iopub.status.idle": "2023-10-28T16:25:47.430565Z",
     "shell.execute_reply": "2023-10-28T16:25:47.429193Z"
    },
    "papermill": {
     "duration": 0.078753,
     "end_time": "2023-10-28T16:25:47.433271",
     "exception": false,
     "start_time": "2023-10-28T16:25:47.354518",
     "status": "completed"
    },
    "tags": []
   },
   "outputs": [
    {
     "data": {
      "text/html": [
       "<div>\n",
       "<style scoped>\n",
       "    .dataframe tbody tr th:only-of-type {\n",
       "        vertical-align: middle;\n",
       "    }\n",
       "\n",
       "    .dataframe tbody tr th {\n",
       "        vertical-align: top;\n",
       "    }\n",
       "\n",
       "    .dataframe thead th {\n",
       "        text-align: right;\n",
       "    }\n",
       "</style>\n",
       "<table border=\"1\" class=\"dataframe\">\n",
       "  <thead>\n",
       "    <tr style=\"text-align: right;\">\n",
       "      <th></th>\n",
       "      <th>price_first_auction</th>\n",
       "      <th>price_second_auction</th>\n",
       "      <th>traded_volume_first_auction</th>\n",
       "      <th>traded_volume_second_auction</th>\n",
       "      <th>price_forecast_first_auction</th>\n",
       "      <th>price_forecast_second_auction</th>\n",
       "      <th>forecast_system_price_low</th>\n",
       "      <th>forecast_system_price_high</th>\n",
       "      <th>system_price</th>\n",
       "      <th>forecast_system_avg</th>\n",
       "      <th>forecasted_price_diff</th>\n",
       "    </tr>\n",
       "    <tr>\n",
       "      <th>Date (WET)</th>\n",
       "      <th></th>\n",
       "      <th></th>\n",
       "      <th></th>\n",
       "      <th></th>\n",
       "      <th></th>\n",
       "      <th></th>\n",
       "      <th></th>\n",
       "      <th></th>\n",
       "      <th></th>\n",
       "      <th></th>\n",
       "      <th></th>\n",
       "    </tr>\n",
       "  </thead>\n",
       "  <tbody>\n",
       "    <tr>\n",
       "      <th>2021-01-01 00:00:00</th>\n",
       "      <td>68.0</td>\n",
       "      <td>65.73</td>\n",
       "      <td>2923.7</td>\n",
       "      <td>5102.4</td>\n",
       "      <td>54.19</td>\n",
       "      <td>64.956097</td>\n",
       "      <td>48.33</td>\n",
       "      <td>44.89</td>\n",
       "      <td>73.15</td>\n",
       "      <td>46.610</td>\n",
       "      <td>10.766097</td>\n",
       "    </tr>\n",
       "    <tr>\n",
       "      <th>2021-01-01 01:00:00</th>\n",
       "      <td>62.7</td>\n",
       "      <td>64.96</td>\n",
       "      <td>2825.0</td>\n",
       "      <td>4771.5</td>\n",
       "      <td>53.42</td>\n",
       "      <td>60.893960</td>\n",
       "      <td>54.35</td>\n",
       "      <td>53.26</td>\n",
       "      <td>71.95</td>\n",
       "      <td>53.805</td>\n",
       "      <td>7.473960</td>\n",
       "    </tr>\n",
       "    <tr>\n",
       "      <th>2021-01-01 02:00:00</th>\n",
       "      <td>56.0</td>\n",
       "      <td>60.47</td>\n",
       "      <td>2611.4</td>\n",
       "      <td>4176.2</td>\n",
       "      <td>50.13</td>\n",
       "      <td>52.561914</td>\n",
       "      <td>32.66</td>\n",
       "      <td>65.86</td>\n",
       "      <td>54.56</td>\n",
       "      <td>49.260</td>\n",
       "      <td>2.431914</td>\n",
       "    </tr>\n",
       "    <tr>\n",
       "      <th>2021-01-01 03:00:00</th>\n",
       "      <td>50.1</td>\n",
       "      <td>52.50</td>\n",
       "      <td>2669.3</td>\n",
       "      <td>3755.9</td>\n",
       "      <td>50.28</td>\n",
       "      <td>49.683111</td>\n",
       "      <td>41.55</td>\n",
       "      <td>63.43</td>\n",
       "      <td>70.73</td>\n",
       "      <td>52.490</td>\n",
       "      <td>-0.596889</td>\n",
       "    </tr>\n",
       "    <tr>\n",
       "      <th>2021-01-01 04:00:00</th>\n",
       "      <td>50.0</td>\n",
       "      <td>48.98</td>\n",
       "      <td>2741.4</td>\n",
       "      <td>4047.5</td>\n",
       "      <td>47.19</td>\n",
       "      <td>46.643551</td>\n",
       "      <td>26.62</td>\n",
       "      <td>66.91</td>\n",
       "      <td>54.98</td>\n",
       "      <td>46.765</td>\n",
       "      <td>-0.546449</td>\n",
       "    </tr>\n",
       "  </tbody>\n",
       "</table>\n",
       "</div>"
      ],
      "text/plain": [
       "                     price_first_auction  price_second_auction  \\\n",
       "Date (WET)                                                       \n",
       "2021-01-01 00:00:00                 68.0                 65.73   \n",
       "2021-01-01 01:00:00                 62.7                 64.96   \n",
       "2021-01-01 02:00:00                 56.0                 60.47   \n",
       "2021-01-01 03:00:00                 50.1                 52.50   \n",
       "2021-01-01 04:00:00                 50.0                 48.98   \n",
       "\n",
       "                     traded_volume_first_auction  \\\n",
       "Date (WET)                                         \n",
       "2021-01-01 00:00:00                       2923.7   \n",
       "2021-01-01 01:00:00                       2825.0   \n",
       "2021-01-01 02:00:00                       2611.4   \n",
       "2021-01-01 03:00:00                       2669.3   \n",
       "2021-01-01 04:00:00                       2741.4   \n",
       "\n",
       "                     traded_volume_second_auction  \\\n",
       "Date (WET)                                          \n",
       "2021-01-01 00:00:00                        5102.4   \n",
       "2021-01-01 01:00:00                        4771.5   \n",
       "2021-01-01 02:00:00                        4176.2   \n",
       "2021-01-01 03:00:00                        3755.9   \n",
       "2021-01-01 04:00:00                        4047.5   \n",
       "\n",
       "                     price_forecast_first_auction  \\\n",
       "Date (WET)                                          \n",
       "2021-01-01 00:00:00                         54.19   \n",
       "2021-01-01 01:00:00                         53.42   \n",
       "2021-01-01 02:00:00                         50.13   \n",
       "2021-01-01 03:00:00                         50.28   \n",
       "2021-01-01 04:00:00                         47.19   \n",
       "\n",
       "                     price_forecast_second_auction  forecast_system_price_low  \\\n",
       "Date (WET)                                                                      \n",
       "2021-01-01 00:00:00                      64.956097                      48.33   \n",
       "2021-01-01 01:00:00                      60.893960                      54.35   \n",
       "2021-01-01 02:00:00                      52.561914                      32.66   \n",
       "2021-01-01 03:00:00                      49.683111                      41.55   \n",
       "2021-01-01 04:00:00                      46.643551                      26.62   \n",
       "\n",
       "                     forecast_system_price_high  system_price  \\\n",
       "Date (WET)                                                      \n",
       "2021-01-01 00:00:00                       44.89         73.15   \n",
       "2021-01-01 01:00:00                       53.26         71.95   \n",
       "2021-01-01 02:00:00                       65.86         54.56   \n",
       "2021-01-01 03:00:00                       63.43         70.73   \n",
       "2021-01-01 04:00:00                       66.91         54.98   \n",
       "\n",
       "                     forecast_system_avg  forecasted_price_diff  \n",
       "Date (WET)                                                       \n",
       "2021-01-01 00:00:00               46.610              10.766097  \n",
       "2021-01-01 01:00:00               53.805               7.473960  \n",
       "2021-01-01 02:00:00               49.260               2.431914  \n",
       "2021-01-01 03:00:00               52.490              -0.596889  \n",
       "2021-01-01 04:00:00               46.765              -0.546449  "
      ]
     },
     "execution_count": 32,
     "metadata": {},
     "output_type": "execute_result"
    }
   ],
   "source": [
    "sys_df['forecast_system_avg'] = sys_df[[\"forecast_system_price_low\",\"forecast_system_price_high\"]].mean(axis=1)\n",
    "sys_df = sys_df[~sys_df.index.duplicated()]\n",
    "sys_df = sys_df.set_index('Date (WET)')\n",
    "auc_df = pd.merge(auc_df, sys_df, left_index=True, right_index=True)\n",
    "auc_df[\"forecasted_price_diff\"] = auc_df['price_forecast_second_auction'] - auc_df['price_forecast_first_auction']\n",
    "auc_df.head()"
   ]
  },
  {
   "cell_type": "markdown",
   "id": "e56fd5cb",
   "metadata": {
    "papermill": {
     "duration": 0.038179,
     "end_time": "2023-10-28T16:25:47.509213",
     "exception": false,
     "start_time": "2023-10-28T16:25:47.471034",
     "status": "completed"
    },
    "tags": []
   },
   "source": [
    "For calculation of planned profit, we are taking the auction price as the clearing price. We are calculating profit only in the cases when the bid prices will be accepted."
   ]
  },
  {
   "cell_type": "code",
   "execution_count": 33,
   "id": "e2cc2879",
   "metadata": {
    "execution": {
     "iopub.execute_input": "2023-10-28T16:25:47.586944Z",
     "iopub.status.busy": "2023-10-28T16:25:47.586020Z",
     "iopub.status.idle": "2023-10-28T16:26:07.596677Z",
     "shell.execute_reply": "2023-10-28T16:26:07.595477Z"
    },
    "papermill": {
     "duration": 20.053277,
     "end_time": "2023-10-28T16:26:07.600024",
     "exception": false,
     "start_time": "2023-10-28T16:25:47.546747",
     "status": "completed"
    },
    "tags": []
   },
   "outputs": [
    {
     "data": {
      "text/html": [
       "<div>\n",
       "<style scoped>\n",
       "    .dataframe tbody tr th:only-of-type {\n",
       "        vertical-align: middle;\n",
       "    }\n",
       "\n",
       "    .dataframe tbody tr th {\n",
       "        vertical-align: top;\n",
       "    }\n",
       "\n",
       "    .dataframe thead th {\n",
       "        text-align: right;\n",
       "    }\n",
       "</style>\n",
       "<table border=\"1\" class=\"dataframe\">\n",
       "  <thead>\n",
       "    <tr style=\"text-align: right;\">\n",
       "      <th></th>\n",
       "      <th>price_first_auction</th>\n",
       "      <th>price_second_auction</th>\n",
       "      <th>traded_volume_first_auction</th>\n",
       "      <th>traded_volume_second_auction</th>\n",
       "      <th>price_forecast_first_auction</th>\n",
       "      <th>price_forecast_second_auction</th>\n",
       "      <th>forecast_system_price_low</th>\n",
       "      <th>forecast_system_price_high</th>\n",
       "      <th>system_price</th>\n",
       "      <th>forecast_system_avg</th>\n",
       "      <th>forecasted_price_diff</th>\n",
       "      <th>Plan_Profit_naive</th>\n",
       "      <th>Act_Profit_naive</th>\n",
       "    </tr>\n",
       "    <tr>\n",
       "      <th>Date (WET)</th>\n",
       "      <th></th>\n",
       "      <th></th>\n",
       "      <th></th>\n",
       "      <th></th>\n",
       "      <th></th>\n",
       "      <th></th>\n",
       "      <th></th>\n",
       "      <th></th>\n",
       "      <th></th>\n",
       "      <th></th>\n",
       "      <th></th>\n",
       "      <th></th>\n",
       "      <th></th>\n",
       "    </tr>\n",
       "  </thead>\n",
       "  <tbody>\n",
       "    <tr>\n",
       "      <th>2021-01-01 00:00:00</th>\n",
       "      <td>68.0</td>\n",
       "      <td>65.73</td>\n",
       "      <td>2923.7</td>\n",
       "      <td>5102.4</td>\n",
       "      <td>54.19</td>\n",
       "      <td>64.956097</td>\n",
       "      <td>48.33</td>\n",
       "      <td>44.89</td>\n",
       "      <td>73.15</td>\n",
       "      <td>46.610</td>\n",
       "      <td>10.766097</td>\n",
       "      <td>0.0</td>\n",
       "      <td>0.0</td>\n",
       "    </tr>\n",
       "    <tr>\n",
       "      <th>2021-01-01 01:00:00</th>\n",
       "      <td>62.7</td>\n",
       "      <td>64.96</td>\n",
       "      <td>2825.0</td>\n",
       "      <td>4771.5</td>\n",
       "      <td>53.42</td>\n",
       "      <td>60.893960</td>\n",
       "      <td>54.35</td>\n",
       "      <td>53.26</td>\n",
       "      <td>71.95</td>\n",
       "      <td>53.805</td>\n",
       "      <td>7.473960</td>\n",
       "      <td>0.0</td>\n",
       "      <td>0.0</td>\n",
       "    </tr>\n",
       "    <tr>\n",
       "      <th>2021-01-01 02:00:00</th>\n",
       "      <td>56.0</td>\n",
       "      <td>60.47</td>\n",
       "      <td>2611.4</td>\n",
       "      <td>4176.2</td>\n",
       "      <td>50.13</td>\n",
       "      <td>52.561914</td>\n",
       "      <td>32.66</td>\n",
       "      <td>65.86</td>\n",
       "      <td>54.56</td>\n",
       "      <td>49.260</td>\n",
       "      <td>2.431914</td>\n",
       "      <td>0.0</td>\n",
       "      <td>0.0</td>\n",
       "    </tr>\n",
       "    <tr>\n",
       "      <th>2021-01-01 03:00:00</th>\n",
       "      <td>50.1</td>\n",
       "      <td>52.50</td>\n",
       "      <td>2669.3</td>\n",
       "      <td>3755.9</td>\n",
       "      <td>50.28</td>\n",
       "      <td>49.683111</td>\n",
       "      <td>41.55</td>\n",
       "      <td>63.43</td>\n",
       "      <td>70.73</td>\n",
       "      <td>52.490</td>\n",
       "      <td>-0.596889</td>\n",
       "      <td>0.0</td>\n",
       "      <td>0.0</td>\n",
       "    </tr>\n",
       "    <tr>\n",
       "      <th>2021-01-01 04:00:00</th>\n",
       "      <td>50.0</td>\n",
       "      <td>48.98</td>\n",
       "      <td>2741.4</td>\n",
       "      <td>4047.5</td>\n",
       "      <td>47.19</td>\n",
       "      <td>46.643551</td>\n",
       "      <td>26.62</td>\n",
       "      <td>66.91</td>\n",
       "      <td>54.98</td>\n",
       "      <td>46.765</td>\n",
       "      <td>-0.546449</td>\n",
       "      <td>0.0</td>\n",
       "      <td>0.0</td>\n",
       "    </tr>\n",
       "  </tbody>\n",
       "</table>\n",
       "</div>"
      ],
      "text/plain": [
       "                     price_first_auction  price_second_auction  \\\n",
       "Date (WET)                                                       \n",
       "2021-01-01 00:00:00                 68.0                 65.73   \n",
       "2021-01-01 01:00:00                 62.7                 64.96   \n",
       "2021-01-01 02:00:00                 56.0                 60.47   \n",
       "2021-01-01 03:00:00                 50.1                 52.50   \n",
       "2021-01-01 04:00:00                 50.0                 48.98   \n",
       "\n",
       "                     traded_volume_first_auction  \\\n",
       "Date (WET)                                         \n",
       "2021-01-01 00:00:00                       2923.7   \n",
       "2021-01-01 01:00:00                       2825.0   \n",
       "2021-01-01 02:00:00                       2611.4   \n",
       "2021-01-01 03:00:00                       2669.3   \n",
       "2021-01-01 04:00:00                       2741.4   \n",
       "\n",
       "                     traded_volume_second_auction  \\\n",
       "Date (WET)                                          \n",
       "2021-01-01 00:00:00                        5102.4   \n",
       "2021-01-01 01:00:00                        4771.5   \n",
       "2021-01-01 02:00:00                        4176.2   \n",
       "2021-01-01 03:00:00                        3755.9   \n",
       "2021-01-01 04:00:00                        4047.5   \n",
       "\n",
       "                     price_forecast_first_auction  \\\n",
       "Date (WET)                                          \n",
       "2021-01-01 00:00:00                         54.19   \n",
       "2021-01-01 01:00:00                         53.42   \n",
       "2021-01-01 02:00:00                         50.13   \n",
       "2021-01-01 03:00:00                         50.28   \n",
       "2021-01-01 04:00:00                         47.19   \n",
       "\n",
       "                     price_forecast_second_auction  forecast_system_price_low  \\\n",
       "Date (WET)                                                                      \n",
       "2021-01-01 00:00:00                      64.956097                      48.33   \n",
       "2021-01-01 01:00:00                      60.893960                      54.35   \n",
       "2021-01-01 02:00:00                      52.561914                      32.66   \n",
       "2021-01-01 03:00:00                      49.683111                      41.55   \n",
       "2021-01-01 04:00:00                      46.643551                      26.62   \n",
       "\n",
       "                     forecast_system_price_high  system_price  \\\n",
       "Date (WET)                                                      \n",
       "2021-01-01 00:00:00                       44.89         73.15   \n",
       "2021-01-01 01:00:00                       53.26         71.95   \n",
       "2021-01-01 02:00:00                       65.86         54.56   \n",
       "2021-01-01 03:00:00                       63.43         70.73   \n",
       "2021-01-01 04:00:00                       66.91         54.98   \n",
       "\n",
       "                     forecast_system_avg  forecasted_price_diff  \\\n",
       "Date (WET)                                                        \n",
       "2021-01-01 00:00:00               46.610              10.766097   \n",
       "2021-01-01 01:00:00               53.805               7.473960   \n",
       "2021-01-01 02:00:00               49.260               2.431914   \n",
       "2021-01-01 03:00:00               52.490              -0.596889   \n",
       "2021-01-01 04:00:00               46.765              -0.546449   \n",
       "\n",
       "                     Plan_Profit_naive  Act_Profit_naive  \n",
       "Date (WET)                                                \n",
       "2021-01-01 00:00:00                0.0               0.0  \n",
       "2021-01-01 01:00:00                0.0               0.0  \n",
       "2021-01-01 02:00:00                0.0               0.0  \n",
       "2021-01-01 03:00:00                0.0               0.0  \n",
       "2021-01-01 04:00:00                0.0               0.0  "
      ]
     },
     "execution_count": 33,
     "metadata": {},
     "output_type": "execute_result"
    }
   ],
   "source": [
    "def profit_naive(row):\n",
    "    #naive strategy (bidding price=forecasted price) as per the acceptance or rejection of bid price\n",
    "        if row['forecasted_price_diff']>10 and row['price_first_auction'] < row['price_forecast_first_auction']\\\n",
    "        and row['price_second_auction'] > row['price_forecast_second_auction']:\n",
    "            \n",
    "            row['Plan_Profit_naive'] = row['forecasted_price_diff']*10 - 100\n",
    "            row['Act_Profit_naive'] = (row['price_second_auction']-row['price_first_auction'])*10-100\n",
    "            \n",
    "        elif row['forecasted_price_diff']<-10 and row['price_first_auction']>row['price_forecast_first_auction']\\\n",
    "        and row['price_second_auction'] < row['price_forecast_second_auction']:\n",
    "            \n",
    "            row['Plan_Profit_naive'] = row['forecasted_price_diff']*-10 - 100\n",
    "            row['Act_Profit_naive'] = (row['price_first_auction']-row['price_second_auction'])*10-100\n",
    "            \n",
    "        else:\n",
    "            \n",
    "            row['Plan_Profit_naive'] = 0 \n",
    "            row['Act_Profit_naive'] = 0\n",
    "        return row\n",
    "    \n",
    "auc_df = auc_df.apply(profit_naive,axis=1)            \n",
    "auc_df.head()            "
   ]
  },
  {
   "cell_type": "markdown",
   "id": "099480df",
   "metadata": {
    "papermill": {
     "duration": 0.037759,
     "end_time": "2023-10-28T16:26:07.676496",
     "exception": false,
     "start_time": "2023-10-28T16:26:07.638737",
     "status": "completed"
    },
    "tags": []
   },
   "source": [
    "#### Actual and planned profits per trade comparision  for whole period"
   ]
  },
  {
   "cell_type": "code",
   "execution_count": 34,
   "id": "485aa69c",
   "metadata": {
    "execution": {
     "iopub.execute_input": "2023-10-28T16:26:07.755803Z",
     "iopub.status.busy": "2023-10-28T16:26:07.754631Z",
     "iopub.status.idle": "2023-10-28T16:26:07.767678Z",
     "shell.execute_reply": "2023-10-28T16:26:07.766314Z"
    },
    "papermill": {
     "duration": 0.055258,
     "end_time": "2023-10-28T16:26:07.770339",
     "exception": false,
     "start_time": "2023-10-28T16:26:07.715081",
     "status": "completed"
    },
    "tags": []
   },
   "outputs": [
    {
     "name": "stdout",
     "output_type": "stream",
     "text": [
      "Planned profit: 82.74\n",
      "Actual profit: 343.19\n",
      "ROI: 74.89\n"
     ]
    }
   ],
   "source": [
    "print(f\"Planned profit: {round(auc_df['Plan_Profit_naive'].sum()/len(auc_df[auc_df['Plan_Profit_naive']!=0]),2)}\")\n",
    "print(f\"Actual profit: {round(auc_df['Act_Profit_naive'].sum()/len(auc_df[auc_df['Act_Profit_naive']!=0]),2)}\")\n",
    "tot_invested = auc_df[auc_df['Act_Profit_naive']!=0].price_first_auction.sum() + \\\n",
    "auc_df[auc_df['Act_Profit_naive']!=0].price_second_auction.sum()+ 2*len(auc_df[auc_df['Act_Profit_naive']!=0])*5\n",
    "ROI = round(auc_df['Act_Profit_naive'].sum()*100/tot_invested,2)\n",
    "print(f\"ROI: {ROI}\")"
   ]
  },
  {
   "cell_type": "markdown",
   "id": "203f3444",
   "metadata": {
    "papermill": {
     "duration": 0.039075,
     "end_time": "2023-10-28T16:26:07.847777",
     "exception": false,
     "start_time": "2023-10-28T16:26:07.808702",
     "status": "completed"
    },
    "tags": []
   },
   "source": [
    "Naive starategy is not that bad it is giving us better profits per trade than planned. It is a good base startegy."
   ]
  },
  {
   "cell_type": "markdown",
   "id": "920c951a",
   "metadata": {
    "papermill": {
     "duration": 0.037895,
     "end_time": "2023-10-28T16:26:07.923642",
     "exception": false,
     "start_time": "2023-10-28T16:26:07.885747",
     "status": "completed"
    },
    "tags": []
   },
   "source": [
    "## 3.2. Manual Strategy including Energy Imbalance \n",
    "**Strategy**: Contracting based on the forecasted price change in only one of the two auctions for each period with non-zero energy imbalance in the day-ahead market. \n",
    "* If system price is negative and price_forecast_second_auction went higher than the overall trading cost (i.e. price_forecast_second_auction > 5GBP - forecast_system_avg) in 2nd auction then sell 10MW in the 2nd auction but don't deliver and let the imbalance get settled otherwise sell 10 MW but don't deliver in the 1st auction.\n",
    "*  If system price is positive and price_forecast_second_auction went lower than the overall trading cost (i.e.  price_forecast_second_auction < forecast_system_avg - 5GBP) in 2nd auction then buy 10MW in the 2nd auction but don't consume and let the imbalance get settled otherwise buy 10 MW but don't consume in the 1st auction.\n",
    "\n",
    "$$MaxZ=\\begin{equation}\n",
    "\\left\\{ \n",
    "  \\begin{aligned}\n",
    "    & -(10*P_{b}) - 10*5 + 10*P_{sys} &if \\,&  P_{sys}>0\\\\\n",
    "    & (10*P_{s}) - 10*5 +  10*P_{sys} &if \\,&  P_{sys}<0\\\\\n",
    "  \\end{aligned}\n",
    "  \\right.\n",
    "\\end{equation}$$"
   ]
  },
  {
   "cell_type": "code",
   "execution_count": 35,
   "id": "78555177",
   "metadata": {
    "execution": {
     "iopub.execute_input": "2023-10-28T16:26:08.002522Z",
     "iopub.status.busy": "2023-10-28T16:26:08.002130Z",
     "iopub.status.idle": "2023-10-28T16:26:14.514017Z",
     "shell.execute_reply": "2023-10-28T16:26:14.512922Z"
    },
    "papermill": {
     "duration": 6.555042,
     "end_time": "2023-10-28T16:26:14.516746",
     "exception": false,
     "start_time": "2023-10-28T16:26:07.961704",
     "status": "completed"
    },
    "tags": []
   },
   "outputs": [
    {
     "data": {
      "text/html": [
       "<div>\n",
       "<style scoped>\n",
       "    .dataframe tbody tr th:only-of-type {\n",
       "        vertical-align: middle;\n",
       "    }\n",
       "\n",
       "    .dataframe tbody tr th {\n",
       "        vertical-align: top;\n",
       "    }\n",
       "\n",
       "    .dataframe thead th {\n",
       "        text-align: right;\n",
       "    }\n",
       "</style>\n",
       "<table border=\"1\" class=\"dataframe\">\n",
       "  <thead>\n",
       "    <tr style=\"text-align: right;\">\n",
       "      <th></th>\n",
       "      <th>Act_Profit_man</th>\n",
       "      <th>Act_Profit_naive</th>\n",
       "      <th>Plan_Profit_man</th>\n",
       "      <th>Plan_Profit_naive</th>\n",
       "      <th>forecast_system_avg</th>\n",
       "      <th>forecast_system_price_high</th>\n",
       "      <th>forecast_system_price_low</th>\n",
       "      <th>forecasted_price_diff</th>\n",
       "      <th>price_first_auction</th>\n",
       "      <th>price_forecast_first_auction</th>\n",
       "      <th>price_forecast_second_auction</th>\n",
       "      <th>price_second_auction</th>\n",
       "      <th>system_price</th>\n",
       "      <th>traded_volume_first_auction</th>\n",
       "      <th>traded_volume_second_auction</th>\n",
       "    </tr>\n",
       "    <tr>\n",
       "      <th>Date (WET)</th>\n",
       "      <th></th>\n",
       "      <th></th>\n",
       "      <th></th>\n",
       "      <th></th>\n",
       "      <th></th>\n",
       "      <th></th>\n",
       "      <th></th>\n",
       "      <th></th>\n",
       "      <th></th>\n",
       "      <th></th>\n",
       "      <th></th>\n",
       "      <th></th>\n",
       "      <th></th>\n",
       "      <th></th>\n",
       "      <th></th>\n",
       "    </tr>\n",
       "  </thead>\n",
       "  <tbody>\n",
       "    <tr>\n",
       "      <th>2021-01-01 00:00:00</th>\n",
       "      <td>NaN</td>\n",
       "      <td>0.0</td>\n",
       "      <td>NaN</td>\n",
       "      <td>0.0</td>\n",
       "      <td>46.610</td>\n",
       "      <td>44.89</td>\n",
       "      <td>48.33</td>\n",
       "      <td>10.766097</td>\n",
       "      <td>68.0</td>\n",
       "      <td>54.19</td>\n",
       "      <td>64.956097</td>\n",
       "      <td>65.73</td>\n",
       "      <td>73.15</td>\n",
       "      <td>2923.7</td>\n",
       "      <td>5102.4</td>\n",
       "    </tr>\n",
       "    <tr>\n",
       "      <th>2021-01-01 01:00:00</th>\n",
       "      <td>NaN</td>\n",
       "      <td>0.0</td>\n",
       "      <td>NaN</td>\n",
       "      <td>0.0</td>\n",
       "      <td>53.805</td>\n",
       "      <td>53.26</td>\n",
       "      <td>54.35</td>\n",
       "      <td>7.473960</td>\n",
       "      <td>62.7</td>\n",
       "      <td>53.42</td>\n",
       "      <td>60.893960</td>\n",
       "      <td>64.96</td>\n",
       "      <td>71.95</td>\n",
       "      <td>2825.0</td>\n",
       "      <td>4771.5</td>\n",
       "    </tr>\n",
       "    <tr>\n",
       "      <th>2021-01-01 02:00:00</th>\n",
       "      <td>NaN</td>\n",
       "      <td>0.0</td>\n",
       "      <td>NaN</td>\n",
       "      <td>0.0</td>\n",
       "      <td>49.260</td>\n",
       "      <td>65.86</td>\n",
       "      <td>32.66</td>\n",
       "      <td>2.431914</td>\n",
       "      <td>56.0</td>\n",
       "      <td>50.13</td>\n",
       "      <td>52.561914</td>\n",
       "      <td>60.47</td>\n",
       "      <td>54.56</td>\n",
       "      <td>2611.4</td>\n",
       "      <td>4176.2</td>\n",
       "    </tr>\n",
       "    <tr>\n",
       "      <th>2021-01-01 03:00:00</th>\n",
       "      <td>NaN</td>\n",
       "      <td>0.0</td>\n",
       "      <td>NaN</td>\n",
       "      <td>0.0</td>\n",
       "      <td>52.490</td>\n",
       "      <td>63.43</td>\n",
       "      <td>41.55</td>\n",
       "      <td>-0.596889</td>\n",
       "      <td>50.1</td>\n",
       "      <td>50.28</td>\n",
       "      <td>49.683111</td>\n",
       "      <td>52.50</td>\n",
       "      <td>70.73</td>\n",
       "      <td>2669.3</td>\n",
       "      <td>3755.9</td>\n",
       "    </tr>\n",
       "    <tr>\n",
       "      <th>2021-01-01 04:00:00</th>\n",
       "      <td>NaN</td>\n",
       "      <td>0.0</td>\n",
       "      <td>NaN</td>\n",
       "      <td>0.0</td>\n",
       "      <td>46.765</td>\n",
       "      <td>66.91</td>\n",
       "      <td>26.62</td>\n",
       "      <td>-0.546449</td>\n",
       "      <td>50.0</td>\n",
       "      <td>47.19</td>\n",
       "      <td>46.643551</td>\n",
       "      <td>48.98</td>\n",
       "      <td>54.98</td>\n",
       "      <td>2741.4</td>\n",
       "      <td>4047.5</td>\n",
       "    </tr>\n",
       "  </tbody>\n",
       "</table>\n",
       "</div>"
      ],
      "text/plain": [
       "                     Act_Profit_man  Act_Profit_naive  Plan_Profit_man  \\\n",
       "Date (WET)                                                               \n",
       "2021-01-01 00:00:00             NaN               0.0              NaN   \n",
       "2021-01-01 01:00:00             NaN               0.0              NaN   \n",
       "2021-01-01 02:00:00             NaN               0.0              NaN   \n",
       "2021-01-01 03:00:00             NaN               0.0              NaN   \n",
       "2021-01-01 04:00:00             NaN               0.0              NaN   \n",
       "\n",
       "                     Plan_Profit_naive  forecast_system_avg  \\\n",
       "Date (WET)                                                    \n",
       "2021-01-01 00:00:00                0.0               46.610   \n",
       "2021-01-01 01:00:00                0.0               53.805   \n",
       "2021-01-01 02:00:00                0.0               49.260   \n",
       "2021-01-01 03:00:00                0.0               52.490   \n",
       "2021-01-01 04:00:00                0.0               46.765   \n",
       "\n",
       "                     forecast_system_price_high  forecast_system_price_low  \\\n",
       "Date (WET)                                                                   \n",
       "2021-01-01 00:00:00                       44.89                      48.33   \n",
       "2021-01-01 01:00:00                       53.26                      54.35   \n",
       "2021-01-01 02:00:00                       65.86                      32.66   \n",
       "2021-01-01 03:00:00                       63.43                      41.55   \n",
       "2021-01-01 04:00:00                       66.91                      26.62   \n",
       "\n",
       "                     forecasted_price_diff  price_first_auction  \\\n",
       "Date (WET)                                                        \n",
       "2021-01-01 00:00:00              10.766097                 68.0   \n",
       "2021-01-01 01:00:00               7.473960                 62.7   \n",
       "2021-01-01 02:00:00               2.431914                 56.0   \n",
       "2021-01-01 03:00:00              -0.596889                 50.1   \n",
       "2021-01-01 04:00:00              -0.546449                 50.0   \n",
       "\n",
       "                     price_forecast_first_auction  \\\n",
       "Date (WET)                                          \n",
       "2021-01-01 00:00:00                         54.19   \n",
       "2021-01-01 01:00:00                         53.42   \n",
       "2021-01-01 02:00:00                         50.13   \n",
       "2021-01-01 03:00:00                         50.28   \n",
       "2021-01-01 04:00:00                         47.19   \n",
       "\n",
       "                     price_forecast_second_auction  price_second_auction  \\\n",
       "Date (WET)                                                                 \n",
       "2021-01-01 00:00:00                      64.956097                 65.73   \n",
       "2021-01-01 01:00:00                      60.893960                 64.96   \n",
       "2021-01-01 02:00:00                      52.561914                 60.47   \n",
       "2021-01-01 03:00:00                      49.683111                 52.50   \n",
       "2021-01-01 04:00:00                      46.643551                 48.98   \n",
       "\n",
       "                     system_price  traded_volume_first_auction  \\\n",
       "Date (WET)                                                       \n",
       "2021-01-01 00:00:00         73.15                       2923.7   \n",
       "2021-01-01 01:00:00         71.95                       2825.0   \n",
       "2021-01-01 02:00:00         54.56                       2611.4   \n",
       "2021-01-01 03:00:00         70.73                       2669.3   \n",
       "2021-01-01 04:00:00         54.98                       2741.4   \n",
       "\n",
       "                     traded_volume_second_auction  \n",
       "Date (WET)                                         \n",
       "2021-01-01 00:00:00                        5102.4  \n",
       "2021-01-01 01:00:00                        4771.5  \n",
       "2021-01-01 02:00:00                        4176.2  \n",
       "2021-01-01 03:00:00                        3755.9  \n",
       "2021-01-01 04:00:00                        4047.5  "
      ]
     },
     "execution_count": 35,
     "metadata": {},
     "output_type": "execute_result"
    }
   ],
   "source": [
    "def profit_manual(row):\n",
    "    #manual strategy (bidding price=forecasted price) with energy imbalance \n",
    "    #as per the acceptance or rejection of bid price\n",
    "        if row['forecast_system_avg']<0:\n",
    "            if row['price_forecast_second_auction'] > (5 - row['forecast_system_avg']) and\\\n",
    "            row['price_second_auction'] > row['price_forecast_second_auction']:\n",
    "                \n",
    "                row['Plan_Profit_man'] = row['price_forecast_second_auction']*10-50+row['forecast_system_avg']*10\n",
    "                row['Act_Profit_man'] = row['price_second_auction']*10-50+row['system_price']*10\n",
    "                \n",
    "            elif row['price_forecast_first_auction'] > (5 - row['forecast_system_avg']) and\\\n",
    "            row['price_first_auction'] > row['price_forecast_first_auction']:\n",
    "                \n",
    "                row['Plan_Profit_man'] = row['price_forecast_first_auction']*10-50+row['forecast_system_avg']*10\n",
    "                row['Act_Profit_man'] = row['price_first_auction']*10-50+row['system_price']*10\n",
    "                \n",
    "        elif row['forecast_system_avg']>0:\n",
    "            if row['price_forecast_second_auction'] < (row['forecast_system_avg'] -  5) and\\\n",
    "            row['price_second_auction'] < row['price_forecast_second_auction']:\n",
    "                \n",
    "                row['Plan_Profit_man'] = -row['price_forecast_second_auction']*10-50+row['forecast_system_avg']*10\n",
    "                row['Act_Profit_man'] = -row['price_second_auction']*10-50+row['system_price']*10\n",
    "                \n",
    "            elif row['price_forecast_first_auction'] < (row['forecast_system_avg'] - 5) and\\\n",
    "            row['price_second_auction'] < row['price_forecast_second_auction']:\n",
    "                row['Plan_Profit_man'] = -row['price_forecast_first_auction']*10-50+row['forecast_system_avg']*10\n",
    "                row['Act_Profit_man'] = -row['price_first_auction']*10-50+row['system_price']*10\n",
    "        else:\n",
    "            row['Plan_Profit_naive'] = 0 \n",
    "            row['Act_Profit_naive'] = 0\n",
    "        return row\n",
    "    \n",
    "auc_df = auc_df.apply(profit_manual,axis=1)            \n",
    "auc_df.head()  "
   ]
  },
  {
   "cell_type": "markdown",
   "id": "5529a6f2",
   "metadata": {
    "papermill": {
     "duration": 0.03856,
     "end_time": "2023-10-28T16:26:14.594071",
     "exception": false,
     "start_time": "2023-10-28T16:26:14.555511",
     "status": "completed"
    },
    "tags": []
   },
   "source": [
    "#### Actual and planned profits per trade comparision  for whole period"
   ]
  },
  {
   "cell_type": "code",
   "execution_count": 36,
   "id": "7ca08a87",
   "metadata": {
    "execution": {
     "iopub.execute_input": "2023-10-28T16:26:14.674522Z",
     "iopub.status.busy": "2023-10-28T16:26:14.674087Z",
     "iopub.status.idle": "2023-10-28T16:26:14.692468Z",
     "shell.execute_reply": "2023-10-28T16:26:14.691023Z"
    },
    "papermill": {
     "duration": 0.060923,
     "end_time": "2023-10-28T16:26:14.695047",
     "exception": false,
     "start_time": "2023-10-28T16:26:14.634124",
     "status": "completed"
    },
    "tags": []
   },
   "outputs": [
    {
     "name": "stdout",
     "output_type": "stream",
     "text": [
      "Planned profit: 77.8\n",
      "Actual profit: 46.62\n",
      "ROI: 14.82\n"
     ]
    }
   ],
   "source": [
    "print(f\"Planned profit: {round(auc_df['Plan_Profit_man'].sum()/len(auc_df[auc_df['Plan_Profit_man']!=np.nan]),2)}\")\n",
    "print(f\"Actual profit: {round(auc_df['Act_Profit_man'].sum()/len(auc_df[auc_df['Act_Profit_man']!=np.nan]),2)}\")\n",
    "tot_invested = (auc_df[auc_df['Act_Profit_man']!=np.nan].price_first_auction.sum() + \\\n",
    "                auc_df[auc_df['Act_Profit_man']!=np.nan].price_second_auction.sum())/2 + \\\n",
    "                len(auc_df[auc_df['Act_Profit_man']!=np.nan])*5+\\\n",
    "                auc_df[auc_df['Act_Profit_man']!=np.nan].system_price.sum()\n",
    "ROI = round(auc_df['Act_Profit_man'].sum()*100/tot_invested,2)\n",
    "print(f\"ROI: {ROI}\")"
   ]
  },
  {
   "cell_type": "markdown",
   "id": "57d753be",
   "metadata": {
    "papermill": {
     "duration": 0.038617,
     "end_time": "2023-10-28T16:26:14.772296",
     "exception": false,
     "start_time": "2023-10-28T16:26:14.733679",
     "status": "completed"
    },
    "tags": []
   },
   "source": [
    "According to results it's not a better strategy than our naive base startegy.\n",
    "## 3.3. Optimised Strategy on a whole day (including Energy Imbalance)\n",
    "In all above strategies we have taken the decision based on price only. We should also use volumes with optimization techniques.<br> Let's keep upper limit for volumes to be 10 MW so that we can compare the optimised starategy with our base strategies.<br>\n",
    "*Note* : \n",
    "* We are optimising the prices for a random date '2022-01-31', it can be repeated for any date.\n",
    "* We have assumed that in 1st auction we will sell and in 2nd auction we will buy energy. \n",
    "* For selling price to be accepted we are keeping it's upper bound below the mean of forecasted price of 1st auction.\n",
    "\n",
    "For our non-linear optimization problem with multiple variables, we will be using the **scipy.optimize** module which provides several optimization algorithms for non-linear optimization problems, including the minimize function which can minimize a given objective function with multiple variables subject to constraints."
   ]
  },
  {
   "cell_type": "code",
   "execution_count": 37,
   "id": "875456f9",
   "metadata": {
    "execution": {
     "iopub.execute_input": "2023-10-28T16:26:14.852246Z",
     "iopub.status.busy": "2023-10-28T16:26:14.851796Z",
     "iopub.status.idle": "2023-10-28T16:26:25.021055Z",
     "shell.execute_reply": "2023-10-28T16:26:25.019709Z"
    },
    "papermill": {
     "duration": 10.213101,
     "end_time": "2023-10-28T16:26:25.024104",
     "exception": false,
     "start_time": "2023-10-28T16:26:14.811003",
     "status": "completed"
    },
    "tags": []
   },
   "outputs": [
    {
     "data": {
      "text/html": [
       "<style type=\"text/css\">\n",
       "</style>\n",
       "<table id=\"T_610cd\">\n",
       "  <thead>\n",
       "    <tr>\n",
       "      <th class=\"blank level0\" >&nbsp;</th>\n",
       "      <th id=\"T_610cd_level0_col0\" class=\"col_heading level0 col0\" >Vs</th>\n",
       "      <th id=\"T_610cd_level0_col1\" class=\"col_heading level0 col1\" >Vb</th>\n",
       "      <th id=\"T_610cd_level0_col2\" class=\"col_heading level0 col2\" >Ps</th>\n",
       "      <th id=\"T_610cd_level0_col3\" class=\"col_heading level0 col3\" >Pb</th>\n",
       "      <th id=\"T_610cd_level0_col4\" class=\"col_heading level0 col4\" >Pca1</th>\n",
       "      <th id=\"T_610cd_level0_col5\" class=\"col_heading level0 col5\" >Pca2</th>\n",
       "      <th id=\"T_610cd_level0_col6\" class=\"col_heading level0 col6\" >Psys_a</th>\n",
       "      <th id=\"T_610cd_level0_col7\" class=\"col_heading level0 col7\" >Plan_Profit</th>\n",
       "      <th id=\"T_610cd_level0_col8\" class=\"col_heading level0 col8\" >Actual_Profit</th>\n",
       "    </tr>\n",
       "  </thead>\n",
       "  <tbody>\n",
       "    <tr>\n",
       "      <th id=\"T_610cd_level0_row0\" class=\"row_heading level0 row0\" >0</th>\n",
       "      <td id=\"T_610cd_row0_col0\" class=\"data row0 col0\" >0.00</td>\n",
       "      <td id=\"T_610cd_row0_col1\" class=\"data row0 col1\" >0.00</td>\n",
       "      <td id=\"T_610cd_row0_col2\" class=\"data row0 col2\" >0.00</td>\n",
       "      <td id=\"T_610cd_row0_col3\" class=\"data row0 col3\" >0.00</td>\n",
       "      <td id=\"T_610cd_row0_col4\" class=\"data row0 col4\" >133.30</td>\n",
       "      <td id=\"T_610cd_row0_col5\" class=\"data row0 col5\" >109.60</td>\n",
       "      <td id=\"T_610cd_row0_col6\" class=\"data row0 col6\" >111.74</td>\n",
       "      <td id=\"T_610cd_row0_col7\" class=\"data row0 col7\" >0.00</td>\n",
       "      <td id=\"T_610cd_row0_col8\" class=\"data row0 col8\" >0.00</td>\n",
       "    </tr>\n",
       "    <tr>\n",
       "      <th id=\"T_610cd_level0_row1\" class=\"row_heading level0 row1\" >1</th>\n",
       "      <td id=\"T_610cd_row1_col0\" class=\"data row1 col0\" >0.00</td>\n",
       "      <td id=\"T_610cd_row1_col1\" class=\"data row1 col1\" >0.00</td>\n",
       "      <td id=\"T_610cd_row1_col2\" class=\"data row1 col2\" >0.00</td>\n",
       "      <td id=\"T_610cd_row1_col3\" class=\"data row1 col3\" >0.00</td>\n",
       "      <td id=\"T_610cd_row1_col4\" class=\"data row1 col4\" >111.60</td>\n",
       "      <td id=\"T_610cd_row1_col5\" class=\"data row1 col5\" >103.43</td>\n",
       "      <td id=\"T_610cd_row1_col6\" class=\"data row1 col6\" >166.00</td>\n",
       "      <td id=\"T_610cd_row1_col7\" class=\"data row1 col7\" >0.00</td>\n",
       "      <td id=\"T_610cd_row1_col8\" class=\"data row1 col8\" >0.00</td>\n",
       "    </tr>\n",
       "    <tr>\n",
       "      <th id=\"T_610cd_level0_row2\" class=\"row_heading level0 row2\" >2</th>\n",
       "      <td id=\"T_610cd_row2_col0\" class=\"data row2 col0\" >0.00</td>\n",
       "      <td id=\"T_610cd_row2_col1\" class=\"data row2 col1\" >10.00</td>\n",
       "      <td id=\"T_610cd_row2_col2\" class=\"data row2 col2\" >0.00</td>\n",
       "      <td id=\"T_610cd_row2_col3\" class=\"data row2 col3\" >100.00</td>\n",
       "      <td id=\"T_610cd_row2_col4\" class=\"data row2 col4\" >91.50</td>\n",
       "      <td id=\"T_610cd_row2_col5\" class=\"data row2 col5\" >90.10</td>\n",
       "      <td id=\"T_610cd_row2_col6\" class=\"data row2 col6\" >-23.66</td>\n",
       "      <td id=\"T_610cd_row2_col7\" class=\"data row2 col7\" >104.15</td>\n",
       "      <td id=\"T_610cd_row2_col8\" class=\"data row2 col8\" >-1187.60</td>\n",
       "    </tr>\n",
       "    <tr>\n",
       "      <th id=\"T_610cd_level0_row3\" class=\"row_heading level0 row3\" >3</th>\n",
       "      <td id=\"T_610cd_row3_col0\" class=\"data row3 col0\" >0.00</td>\n",
       "      <td id=\"T_610cd_row3_col1\" class=\"data row3 col1\" >0.00</td>\n",
       "      <td id=\"T_610cd_row3_col2\" class=\"data row3 col2\" >0.00</td>\n",
       "      <td id=\"T_610cd_row3_col3\" class=\"data row3 col3\" >0.00</td>\n",
       "      <td id=\"T_610cd_row3_col4\" class=\"data row3 col4\" >77.60</td>\n",
       "      <td id=\"T_610cd_row3_col5\" class=\"data row3 col5\" >79.75</td>\n",
       "      <td id=\"T_610cd_row3_col6\" class=\"data row3 col6\" >-44.68</td>\n",
       "      <td id=\"T_610cd_row3_col7\" class=\"data row3 col7\" >0.00</td>\n",
       "      <td id=\"T_610cd_row3_col8\" class=\"data row3 col8\" >0.00</td>\n",
       "    </tr>\n",
       "    <tr>\n",
       "      <th id=\"T_610cd_level0_row4\" class=\"row_heading level0 row4\" >4</th>\n",
       "      <td id=\"T_610cd_row4_col0\" class=\"data row4 col0\" >0.00</td>\n",
       "      <td id=\"T_610cd_row4_col1\" class=\"data row4 col1\" >0.00</td>\n",
       "      <td id=\"T_610cd_row4_col2\" class=\"data row4 col2\" >0.00</td>\n",
       "      <td id=\"T_610cd_row4_col3\" class=\"data row4 col3\" >0.00</td>\n",
       "      <td id=\"T_610cd_row4_col4\" class=\"data row4 col4\" >82.00</td>\n",
       "      <td id=\"T_610cd_row4_col5\" class=\"data row4 col5\" >79.10</td>\n",
       "      <td id=\"T_610cd_row4_col6\" class=\"data row4 col6\" >232.00</td>\n",
       "      <td id=\"T_610cd_row4_col7\" class=\"data row4 col7\" >0.00</td>\n",
       "      <td id=\"T_610cd_row4_col8\" class=\"data row4 col8\" >0.00</td>\n",
       "    </tr>\n",
       "    <tr>\n",
       "      <th id=\"T_610cd_level0_row5\" class=\"row_heading level0 row5\" >5</th>\n",
       "      <td id=\"T_610cd_row5_col0\" class=\"data row5 col0\" >0.00</td>\n",
       "      <td id=\"T_610cd_row5_col1\" class=\"data row5 col1\" >0.00</td>\n",
       "      <td id=\"T_610cd_row5_col2\" class=\"data row5 col2\" >0.00</td>\n",
       "      <td id=\"T_610cd_row5_col3\" class=\"data row5 col3\" >0.00</td>\n",
       "      <td id=\"T_610cd_row5_col4\" class=\"data row5 col4\" >138.20</td>\n",
       "      <td id=\"T_610cd_row5_col5\" class=\"data row5 col5\" >140.59</td>\n",
       "      <td id=\"T_610cd_row5_col6\" class=\"data row5 col6\" >230.00</td>\n",
       "      <td id=\"T_610cd_row5_col7\" class=\"data row5 col7\" >0.00</td>\n",
       "      <td id=\"T_610cd_row5_col8\" class=\"data row5 col8\" >0.00</td>\n",
       "    </tr>\n",
       "    <tr>\n",
       "      <th id=\"T_610cd_level0_row6\" class=\"row_heading level0 row6\" >6</th>\n",
       "      <td id=\"T_610cd_row6_col0\" class=\"data row6 col0\" >0.00</td>\n",
       "      <td id=\"T_610cd_row6_col1\" class=\"data row6 col1\" >0.00</td>\n",
       "      <td id=\"T_610cd_row6_col2\" class=\"data row6 col2\" >0.00</td>\n",
       "      <td id=\"T_610cd_row6_col3\" class=\"data row6 col3\" >0.00</td>\n",
       "      <td id=\"T_610cd_row6_col4\" class=\"data row6 col4\" >180.00</td>\n",
       "      <td id=\"T_610cd_row6_col5\" class=\"data row6 col5\" >188.01</td>\n",
       "      <td id=\"T_610cd_row6_col6\" class=\"data row6 col6\" >230.00</td>\n",
       "      <td id=\"T_610cd_row6_col7\" class=\"data row6 col7\" >0.00</td>\n",
       "      <td id=\"T_610cd_row6_col8\" class=\"data row6 col8\" >0.00</td>\n",
       "    </tr>\n",
       "    <tr>\n",
       "      <th id=\"T_610cd_level0_row7\" class=\"row_heading level0 row7\" >7</th>\n",
       "      <td id=\"T_610cd_row7_col0\" class=\"data row7 col0\" >10.00</td>\n",
       "      <td id=\"T_610cd_row7_col1\" class=\"data row7 col1\" >0.00</td>\n",
       "      <td id=\"T_610cd_row7_col2\" class=\"data row7 col2\" >193.00</td>\n",
       "      <td id=\"T_610cd_row7_col3\" class=\"data row7 col3\" >0.00</td>\n",
       "      <td id=\"T_610cd_row7_col4\" class=\"data row7 col4\" >197.00</td>\n",
       "      <td id=\"T_610cd_row7_col5\" class=\"data row7 col5\" >187.18</td>\n",
       "      <td id=\"T_610cd_row7_col6\" class=\"data row7 col6\" >193.82</td>\n",
       "      <td id=\"T_610cd_row7_col7\" class=\"data row7 col7\" >237.05</td>\n",
       "      <td id=\"T_610cd_row7_col8\" class=\"data row7 col8\" >-18.20</td>\n",
       "    </tr>\n",
       "    <tr>\n",
       "      <th id=\"T_610cd_level0_row8\" class=\"row_heading level0 row8\" >8</th>\n",
       "      <td id=\"T_610cd_row8_col0\" class=\"data row8 col0\" >10.00</td>\n",
       "      <td id=\"T_610cd_row8_col1\" class=\"data row8 col1\" >0.00</td>\n",
       "      <td id=\"T_610cd_row8_col2\" class=\"data row8 col2\" >193.00</td>\n",
       "      <td id=\"T_610cd_row8_col3\" class=\"data row8 col3\" >0.00</td>\n",
       "      <td id=\"T_610cd_row8_col4\" class=\"data row8 col4\" >213.30</td>\n",
       "      <td id=\"T_610cd_row8_col5\" class=\"data row8 col5\" >206.20</td>\n",
       "      <td id=\"T_610cd_row8_col6\" class=\"data row8 col6\" >189.09</td>\n",
       "      <td id=\"T_610cd_row8_col7\" class=\"data row8 col7\" >-3344.95</td>\n",
       "      <td id=\"T_610cd_row8_col8\" class=\"data row8 col8\" >192.10</td>\n",
       "    </tr>\n",
       "    <tr>\n",
       "      <th id=\"T_610cd_level0_row9\" class=\"row_heading level0 row9\" >9</th>\n",
       "      <td id=\"T_610cd_row9_col0\" class=\"data row9 col0\" >10.00</td>\n",
       "      <td id=\"T_610cd_row9_col1\" class=\"data row9 col1\" >0.00</td>\n",
       "      <td id=\"T_610cd_row9_col2\" class=\"data row9 col2\" >193.00</td>\n",
       "      <td id=\"T_610cd_row9_col3\" class=\"data row9 col3\" >0.00</td>\n",
       "      <td id=\"T_610cd_row9_col4\" class=\"data row9 col4\" >225.90</td>\n",
       "      <td id=\"T_610cd_row9_col5\" class=\"data row9 col5\" >217.73</td>\n",
       "      <td id=\"T_610cd_row9_col6\" class=\"data row9 col6\" >125.00</td>\n",
       "      <td id=\"T_610cd_row9_col7\" class=\"data row9 col7\" >1326.55</td>\n",
       "      <td id=\"T_610cd_row9_col8\" class=\"data row9 col8\" >959.00</td>\n",
       "    </tr>\n",
       "    <tr>\n",
       "      <th id=\"T_610cd_level0_row10\" class=\"row_heading level0 row10\" >10</th>\n",
       "      <td id=\"T_610cd_row10_col0\" class=\"data row10 col0\" >10.00</td>\n",
       "      <td id=\"T_610cd_row10_col1\" class=\"data row10 col1\" >0.00</td>\n",
       "      <td id=\"T_610cd_row10_col2\" class=\"data row10 col2\" >193.00</td>\n",
       "      <td id=\"T_610cd_row10_col3\" class=\"data row10 col3\" >0.00</td>\n",
       "      <td id=\"T_610cd_row10_col4\" class=\"data row10 col4\" >206.00</td>\n",
       "      <td id=\"T_610cd_row10_col5\" class=\"data row10 col5\" >191.19</td>\n",
       "      <td id=\"T_610cd_row10_col6\" class=\"data row10 col6\" >196.50</td>\n",
       "      <td id=\"T_610cd_row10_col7\" class=\"data row10 col7\" >403.30</td>\n",
       "      <td id=\"T_610cd_row10_col8\" class=\"data row10 col8\" >45.00</td>\n",
       "    </tr>\n",
       "    <tr>\n",
       "      <th id=\"T_610cd_level0_row11\" class=\"row_heading level0 row11\" >11</th>\n",
       "      <td id=\"T_610cd_row11_col0\" class=\"data row11 col0\" >10.00</td>\n",
       "      <td id=\"T_610cd_row11_col1\" class=\"data row11 col1\" >0.00</td>\n",
       "      <td id=\"T_610cd_row11_col2\" class=\"data row11 col2\" >193.00</td>\n",
       "      <td id=\"T_610cd_row11_col3\" class=\"data row11 col3\" >0.00</td>\n",
       "      <td id=\"T_610cd_row11_col4\" class=\"data row11 col4\" >200.80</td>\n",
       "      <td id=\"T_610cd_row11_col5\" class=\"data row11 col5\" >189.41</td>\n",
       "      <td id=\"T_610cd_row11_col6\" class=\"data row11 col6\" >196.53</td>\n",
       "      <td id=\"T_610cd_row11_col7\" class=\"data row11 col7\" >622.00</td>\n",
       "      <td id=\"T_610cd_row11_col8\" class=\"data row11 col8\" >-7.30</td>\n",
       "    </tr>\n",
       "    <tr>\n",
       "      <th id=\"T_610cd_level0_row12\" class=\"row_heading level0 row12\" >12</th>\n",
       "      <td id=\"T_610cd_row12_col0\" class=\"data row12 col0\" >10.00</td>\n",
       "      <td id=\"T_610cd_row12_col1\" class=\"data row12 col1\" >0.00</td>\n",
       "      <td id=\"T_610cd_row12_col2\" class=\"data row12 col2\" >193.00</td>\n",
       "      <td id=\"T_610cd_row12_col3\" class=\"data row12 col3\" >0.00</td>\n",
       "      <td id=\"T_610cd_row12_col4\" class=\"data row12 col4\" >196.00</td>\n",
       "      <td id=\"T_610cd_row12_col5\" class=\"data row12 col5\" >183.13</td>\n",
       "      <td id=\"T_610cd_row12_col6\" class=\"data row12 col6\" >194.03</td>\n",
       "      <td id=\"T_610cd_row12_col7\" class=\"data row12 col7\" >628.85</td>\n",
       "      <td id=\"T_610cd_row12_col8\" class=\"data row12 col8\" >-30.30</td>\n",
       "    </tr>\n",
       "    <tr>\n",
       "      <th id=\"T_610cd_level0_row13\" class=\"row_heading level0 row13\" >13</th>\n",
       "      <td id=\"T_610cd_row13_col0\" class=\"data row13 col0\" >0.00</td>\n",
       "      <td id=\"T_610cd_row13_col1\" class=\"data row13 col1\" >0.00</td>\n",
       "      <td id=\"T_610cd_row13_col2\" class=\"data row13 col2\" >0.00</td>\n",
       "      <td id=\"T_610cd_row13_col3\" class=\"data row13 col3\" >0.00</td>\n",
       "      <td id=\"T_610cd_row13_col4\" class=\"data row13 col4\" >180.80</td>\n",
       "      <td id=\"T_610cd_row13_col5\" class=\"data row13 col5\" >175.79</td>\n",
       "      <td id=\"T_610cd_row13_col6\" class=\"data row13 col6\" >194.03</td>\n",
       "      <td id=\"T_610cd_row13_col7\" class=\"data row13 col7\" >0.00</td>\n",
       "      <td id=\"T_610cd_row13_col8\" class=\"data row13 col8\" >0.00</td>\n",
       "    </tr>\n",
       "    <tr>\n",
       "      <th id=\"T_610cd_level0_row14\" class=\"row_heading level0 row14\" >14</th>\n",
       "      <td id=\"T_610cd_row14_col0\" class=\"data row14 col0\" >0.00</td>\n",
       "      <td id=\"T_610cd_row14_col1\" class=\"data row14 col1\" >0.00</td>\n",
       "      <td id=\"T_610cd_row14_col2\" class=\"data row14 col2\" >0.00</td>\n",
       "      <td id=\"T_610cd_row14_col3\" class=\"data row14 col3\" >0.00</td>\n",
       "      <td id=\"T_610cd_row14_col4\" class=\"data row14 col4\" >183.00</td>\n",
       "      <td id=\"T_610cd_row14_col5\" class=\"data row14 col5\" >183.41</td>\n",
       "      <td id=\"T_610cd_row14_col6\" class=\"data row14 col6\" >240.00</td>\n",
       "      <td id=\"T_610cd_row14_col7\" class=\"data row14 col7\" >0.00</td>\n",
       "      <td id=\"T_610cd_row14_col8\" class=\"data row14 col8\" >0.00</td>\n",
       "    </tr>\n",
       "    <tr>\n",
       "      <th id=\"T_610cd_level0_row15\" class=\"row_heading level0 row15\" >15</th>\n",
       "      <td id=\"T_610cd_row15_col0\" class=\"data row15 col0\" >0.00</td>\n",
       "      <td id=\"T_610cd_row15_col1\" class=\"data row15 col1\" >0.00</td>\n",
       "      <td id=\"T_610cd_row15_col2\" class=\"data row15 col2\" >0.00</td>\n",
       "      <td id=\"T_610cd_row15_col3\" class=\"data row15 col3\" >0.00</td>\n",
       "      <td id=\"T_610cd_row15_col4\" class=\"data row15 col4\" >183.40</td>\n",
       "      <td id=\"T_610cd_row15_col5\" class=\"data row15 col5\" >174.67</td>\n",
       "      <td id=\"T_610cd_row15_col6\" class=\"data row15 col6\" >242.50</td>\n",
       "      <td id=\"T_610cd_row15_col7\" class=\"data row15 col7\" >0.00</td>\n",
       "      <td id=\"T_610cd_row15_col8\" class=\"data row15 col8\" >0.00</td>\n",
       "    </tr>\n",
       "    <tr>\n",
       "      <th id=\"T_610cd_level0_row16\" class=\"row_heading level0 row16\" >16</th>\n",
       "      <td id=\"T_610cd_row16_col0\" class=\"data row16 col0\" >10.00</td>\n",
       "      <td id=\"T_610cd_row16_col1\" class=\"data row16 col1\" >0.00</td>\n",
       "      <td id=\"T_610cd_row16_col2\" class=\"data row16 col2\" >193.00</td>\n",
       "      <td id=\"T_610cd_row16_col3\" class=\"data row16 col3\" >0.00</td>\n",
       "      <td id=\"T_610cd_row16_col4\" class=\"data row16 col4\" >213.30</td>\n",
       "      <td id=\"T_610cd_row16_col5\" class=\"data row16 col5\" >200.30</td>\n",
       "      <td id=\"T_610cd_row16_col6\" class=\"data row16 col6\" >230.00</td>\n",
       "      <td id=\"T_610cd_row16_col7\" class=\"data row16 col7\" >-58.10</td>\n",
       "      <td id=\"T_610cd_row16_col8\" class=\"data row16 col8\" >-217.00</td>\n",
       "    </tr>\n",
       "    <tr>\n",
       "      <th id=\"T_610cd_level0_row17\" class=\"row_heading level0 row17\" >17</th>\n",
       "      <td id=\"T_610cd_row17_col0\" class=\"data row17 col0\" >10.00</td>\n",
       "      <td id=\"T_610cd_row17_col1\" class=\"data row17 col1\" >0.00</td>\n",
       "      <td id=\"T_610cd_row17_col2\" class=\"data row17 col2\" >193.00</td>\n",
       "      <td id=\"T_610cd_row17_col3\" class=\"data row17 col3\" >0.00</td>\n",
       "      <td id=\"T_610cd_row17_col4\" class=\"data row17 col4\" >262.40</td>\n",
       "      <td id=\"T_610cd_row17_col5\" class=\"data row17 col5\" >262.01</td>\n",
       "      <td id=\"T_610cd_row17_col6\" class=\"data row17 col6\" >262.50</td>\n",
       "      <td id=\"T_610cd_row17_col7\" class=\"data row17 col7\" >358.95</td>\n",
       "      <td id=\"T_610cd_row17_col8\" class=\"data row17 col8\" >-51.00</td>\n",
       "    </tr>\n",
       "    <tr>\n",
       "      <th id=\"T_610cd_level0_row18\" class=\"row_heading level0 row18\" >18</th>\n",
       "      <td id=\"T_610cd_row18_col0\" class=\"data row18 col0\" >10.00</td>\n",
       "      <td id=\"T_610cd_row18_col1\" class=\"data row18 col1\" >0.00</td>\n",
       "      <td id=\"T_610cd_row18_col2\" class=\"data row18 col2\" >193.00</td>\n",
       "      <td id=\"T_610cd_row18_col3\" class=\"data row18 col3\" >0.00</td>\n",
       "      <td id=\"T_610cd_row18_col4\" class=\"data row18 col4\" >253.70</td>\n",
       "      <td id=\"T_610cd_row18_col5\" class=\"data row18 col5\" >258.68</td>\n",
       "      <td id=\"T_610cd_row18_col6\" class=\"data row18 col6\" >253.22</td>\n",
       "      <td id=\"T_610cd_row18_col7\" class=\"data row18 col7\" >615.00</td>\n",
       "      <td id=\"T_610cd_row18_col8\" class=\"data row18 col8\" >-45.20</td>\n",
       "    </tr>\n",
       "    <tr>\n",
       "      <th id=\"T_610cd_level0_row19\" class=\"row_heading level0 row19\" >19</th>\n",
       "      <td id=\"T_610cd_row19_col0\" class=\"data row19 col0\" >10.00</td>\n",
       "      <td id=\"T_610cd_row19_col1\" class=\"data row19 col1\" >0.00</td>\n",
       "      <td id=\"T_610cd_row19_col2\" class=\"data row19 col2\" >193.00</td>\n",
       "      <td id=\"T_610cd_row19_col3\" class=\"data row19 col3\" >0.00</td>\n",
       "      <td id=\"T_610cd_row19_col4\" class=\"data row19 col4\" >240.20</td>\n",
       "      <td id=\"T_610cd_row19_col5\" class=\"data row19 col5\" >247.95</td>\n",
       "      <td id=\"T_610cd_row19_col6\" class=\"data row19 col6\" >199.00</td>\n",
       "      <td id=\"T_610cd_row19_col7\" class=\"data row19 col7\" >-372.35</td>\n",
       "      <td id=\"T_610cd_row19_col8\" class=\"data row19 col8\" >362.00</td>\n",
       "    </tr>\n",
       "    <tr>\n",
       "      <th id=\"T_610cd_level0_row20\" class=\"row_heading level0 row20\" >20</th>\n",
       "      <td id=\"T_610cd_row20_col0\" class=\"data row20 col0\" >10.00</td>\n",
       "      <td id=\"T_610cd_row20_col1\" class=\"data row20 col1\" >0.00</td>\n",
       "      <td id=\"T_610cd_row20_col2\" class=\"data row20 col2\" >193.00</td>\n",
       "      <td id=\"T_610cd_row20_col3\" class=\"data row20 col3\" >0.00</td>\n",
       "      <td id=\"T_610cd_row20_col4\" class=\"data row20 col4\" >201.34</td>\n",
       "      <td id=\"T_610cd_row20_col5\" class=\"data row20 col5\" >207.80</td>\n",
       "      <td id=\"T_610cd_row20_col6\" class=\"data row20 col6\" >149.00</td>\n",
       "      <td id=\"T_610cd_row20_col7\" class=\"data row20 col7\" >-331.25</td>\n",
       "      <td id=\"T_610cd_row20_col8\" class=\"data row20 col8\" >473.40</td>\n",
       "    </tr>\n",
       "    <tr>\n",
       "      <th id=\"T_610cd_level0_row21\" class=\"row_heading level0 row21\" >21</th>\n",
       "      <td id=\"T_610cd_row21_col0\" class=\"data row21 col0\" >0.00</td>\n",
       "      <td id=\"T_610cd_row21_col1\" class=\"data row21 col1\" >0.00</td>\n",
       "      <td id=\"T_610cd_row21_col2\" class=\"data row21 col2\" >0.00</td>\n",
       "      <td id=\"T_610cd_row21_col3\" class=\"data row21 col3\" >0.00</td>\n",
       "      <td id=\"T_610cd_row21_col4\" class=\"data row21 col4\" >183.00</td>\n",
       "      <td id=\"T_610cd_row21_col5\" class=\"data row21 col5\" >184.50</td>\n",
       "      <td id=\"T_610cd_row21_col6\" class=\"data row21 col6\" >178.68</td>\n",
       "      <td id=\"T_610cd_row21_col7\" class=\"data row21 col7\" >0.00</td>\n",
       "      <td id=\"T_610cd_row21_col8\" class=\"data row21 col8\" >0.00</td>\n",
       "    </tr>\n",
       "    <tr>\n",
       "      <th id=\"T_610cd_level0_row22\" class=\"row_heading level0 row22\" >22</th>\n",
       "      <td id=\"T_610cd_row22_col0\" class=\"data row22 col0\" >0.00</td>\n",
       "      <td id=\"T_610cd_row22_col1\" class=\"data row22 col1\" >0.00</td>\n",
       "      <td id=\"T_610cd_row22_col2\" class=\"data row22 col2\" >0.00</td>\n",
       "      <td id=\"T_610cd_row22_col3\" class=\"data row22 col3\" >0.00</td>\n",
       "      <td id=\"T_610cd_row22_col4\" class=\"data row22 col4\" >181.00</td>\n",
       "      <td id=\"T_610cd_row22_col5\" class=\"data row22 col5\" >181.01</td>\n",
       "      <td id=\"T_610cd_row22_col6\" class=\"data row22 col6\" >188.75</td>\n",
       "      <td id=\"T_610cd_row22_col7\" class=\"data row22 col7\" >0.00</td>\n",
       "      <td id=\"T_610cd_row22_col8\" class=\"data row22 col8\" >0.00</td>\n",
       "    </tr>\n",
       "    <tr>\n",
       "      <th id=\"T_610cd_level0_row23\" class=\"row_heading level0 row23\" >23</th>\n",
       "      <td id=\"T_610cd_row23_col0\" class=\"data row23 col0\" >0.00</td>\n",
       "      <td id=\"T_610cd_row23_col1\" class=\"data row23 col1\" >0.00</td>\n",
       "      <td id=\"T_610cd_row23_col2\" class=\"data row23 col2\" >0.00</td>\n",
       "      <td id=\"T_610cd_row23_col3\" class=\"data row23 col3\" >0.00</td>\n",
       "      <td id=\"T_610cd_row23_col4\" class=\"data row23 col4\" >161.30</td>\n",
       "      <td id=\"T_610cd_row23_col5\" class=\"data row23 col5\" >177.89</td>\n",
       "      <td id=\"T_610cd_row23_col6\" class=\"data row23 col6\" >161.89</td>\n",
       "      <td id=\"T_610cd_row23_col7\" class=\"data row23 col7\" >0.00</td>\n",
       "      <td id=\"T_610cd_row23_col8\" class=\"data row23 col8\" >0.00</td>\n",
       "    </tr>\n",
       "  </tbody>\n",
       "</table>\n"
      ],
      "text/plain": [
       "<pandas.io.formats.style.Styler at 0x7fee73f2c6a0>"
      ]
     },
     "execution_count": 37,
     "metadata": {},
     "output_type": "execute_result"
    }
   ],
   "source": [
    "import numpy as np\n",
    "from scipy.optimize import minimize\n",
    "\n",
    "# decision variables: Vs, Vb, Ps, Pb for every hour of the next operating day\n",
    "\n",
    "def Vt(Vs, Vb):\n",
    "    #the total volume traded in a day (Vt)\n",
    "    return np.sum(Vs) + np.sum(Vb)\n",
    "\n",
    "# objective function: maximize profit from financial trades\n",
    "def objective(x):\n",
    "    Vs = x[:24]\n",
    "    Vb = x[24:48]\n",
    "    Ps = x[48:72]\n",
    "    Pb = x[72:]\n",
    "    Vt_val = Vt(Vs, Vb)\n",
    "    max_profit = np.sum(Vs*Ps) - np.sum(Vb*Pb) - Vt_val*5 - (np.sum(Vs*Psys) - np.sum(Vb*Psys))\n",
    "    return -max_profit # minimize negative profit\n",
    "\n",
    "def volume_constraint(x):\n",
    "    Vs = x[:24]\n",
    "    Vb = x[24:48]\n",
    "    return Vs - Vb\n",
    "\n",
    "def budget_constraint(x, Bt=np.full((48,), 10)):\n",
    "    Vs = x[:24]\n",
    "    Vb = x[24:48]\n",
    "    return Bt - np.concatenate((Vs, Vb)) # maximum allocated budget per trade\n",
    "                                   \n",
    "def selling_price_constraint(x):\n",
    "    Ps = x[48:72]\n",
    "    return Pc1 + Ps\n",
    "\n",
    "def buying_price_constraint(x):\n",
    "    Pb = x[72:]\n",
    "    return Pb - Pc2 \n",
    "\n",
    "dates = list(set([str(i.date()) for i in auc_df.index]))\n",
    "input_date = '2022-01-31'\n",
    "Pc1 = auc_df['price_forecast_first_auction'][input_date:input_date].values\n",
    "Pc2 = auc_df['price_forecast_second_auction'][input_date:input_date].values\n",
    "Pca1 = auc_df['price_first_auction'][input_date:input_date].values\n",
    "Pca2 = auc_df['price_second_auction'][input_date:input_date].values\n",
    "Psys = auc_df['forecast_system_avg'][input_date:input_date].values\n",
    "Psys_a = auc_df['system_price'][input_date:input_date].values\n",
    "\n",
    "# decision variables bounds\n",
    "bounds = [(0.1, 10)]*24 + [(0.1, 10)]*24 + [(0.1, round(Pc1.mean()))]*24 + [(0.1, 100)]*24\n",
    "\n",
    "# set up input parameters\n",
    "Bt = np.full((48,), 10) # maximum allocated volume budget per trade\n",
    "\n",
    "# solve optimization problem for every hour\n",
    "optimal_bids = []\n",
    "for i in range(24):\n",
    "    initial_guess = [0.1]*24 + [0.1]*24 + [50]*24 + [50]*24 # initial guess\n",
    "    constraints = [{'type': 'eq', 'fun': volume_constraint},\n",
    "                   {'type': 'ineq', 'fun': budget_constraint, 'args': (Bt[i],)},\n",
    "                   {'type': 'ineq', 'fun': selling_price_constraint},\n",
    "                  {'type': 'ineq', 'fun': buying_price_constraint}]\n",
    "    res = minimize(objective, initial_guess, constraints=constraints, options={'eps': 1e-3, 'ftol': 1e-9},\n",
    "                   bounds=bounds)\n",
    "    optimal_bids.append(res.x)\n",
    "    \n",
    "bid_dict={}\n",
    "for bid in optimal_bids:\n",
    "    Ps = np.where(bid[48:72] < Pca1, bid[48:72], 0)\n",
    "    Pb = np.where(bid[72:] > Pca2, bid[72:], 0)\n",
    "    Vs = np.where(Ps>0, bid[:24], 0) \n",
    "    Vb = np.where(Pb>0, bid[24:48], 0) \n",
    "    bid_dict['Vs']=Vs\n",
    "    bid_dict['Vb']=Vb\n",
    "    bid_dict['Ps']=Ps\n",
    "    bid_dict['Pb']=Pb\n",
    "    bid_dict['Pca1']=Pca1\n",
    "    bid_dict['Pca2']=Pca2\n",
    "    bid_dict['Psys_a']= Psys_a\n",
    "    bid_dict['Plan_Profit']= Vs*Ps-Vb*Pb-5*(Vs+Vb)- (Vs*Psys - Vb*Psys)\n",
    "    bid_dict['Actual_Profit'] =(Vs*Pca1-Vb*Pca2-5*(Vs+Vb)- (Vs*Psys_a - Vb*Psys_a))\n",
    "bid_df = pd.DataFrame(bid_dict,columns=['Vs','Vb','Ps','Pb','Pca1','Pca2','Psys_a','Plan_Profit','Actual_Profit'])\n",
    "bid_df.style.format(\"{:.2f}\")"
   ]
  },
  {
   "cell_type": "markdown",
   "id": "de69e965",
   "metadata": {
    "papermill": {
     "duration": 0.039381,
     "end_time": "2023-10-28T16:26:25.104443",
     "exception": false,
     "start_time": "2023-10-28T16:26:25.065062",
     "status": "completed"
    },
    "tags": []
   },
   "source": [
    "#### Actual and planned profits per trade comparision  for a day"
   ]
  },
  {
   "cell_type": "code",
   "execution_count": 38,
   "id": "29b842f1",
   "metadata": {
    "execution": {
     "iopub.execute_input": "2023-10-28T16:26:25.188655Z",
     "iopub.status.busy": "2023-10-28T16:26:25.187922Z",
     "iopub.status.idle": "2023-10-28T16:26:25.199932Z",
     "shell.execute_reply": "2023-10-28T16:26:25.198993Z"
    },
    "papermill": {
     "duration": 0.058074,
     "end_time": "2023-10-28T16:26:25.202870",
     "exception": false,
     "start_time": "2023-10-28T16:26:25.144796",
     "status": "completed"
    },
    "tags": []
   },
   "outputs": [
    {
     "name": "stdout",
     "output_type": "stream",
     "text": [
      "Planned profit: 15.77\n",
      "Actual profit: 39.58\n",
      "ROI: 10.11\n"
     ]
    }
   ],
   "source": [
    "print(f\"Planned profit: {round(bid_df['Plan_Profit'].sum()/len(bid_df[bid_df['Plan_Profit']!=0]),2)}\")\n",
    "print(f\"Actual profit: {round(bid_df['Actual_Profit'].sum()/len(bid_df[bid_df['Actual_Profit']!=0]),2)}\")\n",
    "tot_invested = (bid_df[bid_df['Actual_Profit']!=0].Pca1.sum() + bid_df[bid_df['Actual_Profit']!=0].Pca2.sum())/2+\\\n",
    "                len(bid_df[bid_df['Actual_Profit']!=0])*5 + \\\n",
    "                bid_df[bid_df['Actual_Profit']!=0].Psys_a.sum()\n",
    "ROI = round(bid_df['Actual_Profit'].sum()*100/tot_invested,2)\n",
    "print(f\"ROI: {ROI}\")"
   ]
  },
  {
   "cell_type": "markdown",
   "id": "f9e4b718",
   "metadata": {
    "papermill": {
     "duration": 0.043498,
     "end_time": "2023-10-28T16:26:25.288271",
     "exception": false,
     "start_time": "2023-10-28T16:26:25.244773",
     "status": "completed"
    },
    "tags": []
   },
   "source": [
    "So far, 3rd approach has the highest ROI. Although, it will vary on day to day basis and we have not computed it on the overall data as we did it for our manual strategies but we know it is optimized and will perform better. <br> Below we can see that the other manual strategies don't give us as much profit per trade on the same day ('2022-01-31') as this strategy does."
   ]
  },
  {
   "cell_type": "code",
   "execution_count": 39,
   "id": "72f558e1",
   "metadata": {
    "execution": {
     "iopub.execute_input": "2023-10-28T16:26:25.374126Z",
     "iopub.status.busy": "2023-10-28T16:26:25.373695Z",
     "iopub.status.idle": "2023-10-28T16:26:25.392115Z",
     "shell.execute_reply": "2023-10-28T16:26:25.390530Z"
    },
    "papermill": {
     "duration": 0.063924,
     "end_time": "2023-10-28T16:26:25.395159",
     "exception": false,
     "start_time": "2023-10-28T16:26:25.331235",
     "status": "completed"
    },
    "tags": []
   },
   "outputs": [
    {
     "name": "stdout",
     "output_type": "stream",
     "text": [
      "Actual profit with manual strategy on 2022-01-31: 28.52\n",
      "Actual profit with naive strategy on 2022-01-31: 0.0\n"
     ]
    }
   ],
   "source": [
    "print(f\"Actual profit with manual strategy on 2022-01-31: {round(auc_df['Act_Profit_man'][input_date:input_date].sum()/len(auc_df[auc_df['Act_Profit_man'] !=np.nan][input_date:input_date]),2)}\")\n",
    "print(f\"Actual profit with naive strategy on 2022-01-31: {round(auc_df['Act_Profit_naive'][input_date:input_date].sum()/len(auc_df[auc_df['Act_Profit_naive'] !=np.nan][input_date:input_date]),2)}\")"
   ]
  },
  {
   "cell_type": "markdown",
   "id": "cdba66f8",
   "metadata": {
    "papermill": {
     "duration": 0.039787,
     "end_time": "2023-10-28T16:26:25.475269",
     "exception": false,
     "start_time": "2023-10-28T16:26:25.435482",
     "status": "completed"
    },
    "tags": []
   },
   "source": [
    "# 4. Implementing the final trading algorithm. \n",
    "We can now finalize the trading algorithm as a whole which should take as input the actual prices and traded volumes data of both auctions as well as the price forecast for the first auction and the input variables that can be used to forecast the prices of the second auction. It should output the optimal trades to be made between the two auctions to maximize profits. <br>\n",
    "We have found out that for forecasting for best results so far, we should use **Linear regression** model to predict prices of the second auction and for profit optimization we should use 3rd approach of **Optimised Strategy on a whole day** with Scipy.\n",
    "### Future work:\n",
    "* For price forecasting, we could try using other high performing time series methods such as GBM, lstm/rnn models with sliding windows. Time series frameworks like darts and FBprophet can also be utilized.\n",
    "* Pyomo and gekko are optimization frameworks which can be used and Reinforecemnt Learning is also a worth try for trading optimization but it will take much time and effort because making the simulation environment is a rigorous task.\n",
    "\n",
    "### References:\n",
    "* https://www.iaee.org/en/publications/init2.aspx?id=0\n",
    "* https://www.researchgate.net/publication/261433593_European_market_integration_with_both_physical_and_non-physical_markets\n",
    "* https://www.mdpi.com/1996-1073/11/6/1345\n",
    "* https://www.researchgate.net/publication/272905224_Optimization_in_day-ahead_planning_of_energy_trading\n",
    "* https://drops.dagstuhl.de/opus/volltexte/2012/3550/pdf/11.pdf\n",
    "* https://reader.elsevier.com/reader/sd/pii/S2352467722001175?token=46E62C1BF9382C1FD2BBB0F1BAE373FC0B367880D1C829A8082912E314A5FDDC8FFCC8509E2E94E53F27EC5139EAA2C8&originRegion=eu-west-1&originCreation=20230312115039\n",
    "* https://link.springer.com/article/10.1007/s00291-021-00646-9"
   ]
  }
 ],
 "metadata": {
  "kernelspec": {
   "display_name": "Python 3",
   "language": "python",
   "name": "python3"
  },
  "language_info": {
   "codemirror_mode": {
    "name": "ipython",
    "version": 3
   },
   "file_extension": ".py",
   "mimetype": "text/x-python",
   "name": "python",
   "nbconvert_exporter": "python",
   "pygments_lexer": "ipython3",
   "version": "3.10.12"
  },
  "papermill": {
   "default_parameters": {},
   "duration": 75.248289,
   "end_time": "2023-10-28T16:26:26.640483",
   "environment_variables": {},
   "exception": null,
   "input_path": "__notebook__.ipynb",
   "output_path": "__notebook__.ipynb",
   "parameters": {},
   "start_time": "2023-10-28T16:25:11.392194",
   "version": "2.4.0"
  }
 },
 "nbformat": 4,
 "nbformat_minor": 5
}
